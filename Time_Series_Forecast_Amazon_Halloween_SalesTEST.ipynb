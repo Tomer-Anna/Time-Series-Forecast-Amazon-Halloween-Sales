{
  "nbformat": 4,
  "nbformat_minor": 0,
  "metadata": {
    "colab": {
      "name": "Time-Series Forecast - Amazon Halloween Sales.ipynb",
      "provenance": [],
      "collapsed_sections": [],
      "authorship_tag": "ABX9TyMWANU+Sv5KXJUG4zzYlbVn"
    },
    "kernelspec": {
      "name": "python3",
      "display_name": "Python 3"
    }
  },
  "cells": [
    {
      "cell_type": "markdown",
      "metadata": {
        "id": "_SbHm_s26PQ7"
      },
      "source": [
        "# Time-Series Forecast - Amazon Halloween Sales"
      ]
    },
    {
      "cell_type": "markdown",
      "metadata": {
        "id": "K3yqcT3k60bw"
      },
      "source": [
        "# Time-Series Forecast - Amazon Halloween Sales\n",
        "\n",
        "In this notebook, I'm going to examine a few models for time series forecasting, in order to predict the demand for our Halloween products on Amazon.\n",
        "\n",
        "Models: SARIMAX, GAM, Prophet, Linear Regression, Lasso, Ridge, ElasticNet, KNN, SVR, Decision Tree, Random Forest and XGBoost.\n",
        "\n",
        "###Selling, Storing and Shipping via Amazon:\n",
        "\n",
        "In the Amazon E-commerce business there are 2 options to store and deliver the products to the customers:\n",
        "1. Upload the product on Amazon for sale but store it in your warehouse and take care of the shipping by yourself.\n",
        "2. Send an inventory to Amazon, and Amazon takes care of the storage and the delivery directly to the customers.\n",
        "\n",
        "In the second choice, Amazon takes an extra fee for that service but also gives a priority for these products and shows these lists in a better place on the page.\n",
        "\n",
        "Sending stock to Amazon can provide a great potential of selling more merchandise and increase seller profits, but with that opportunity come risk. Sometimes the product is seasonal and if you don't succeed in selling it on time you are stuck with overstock which no one will buy until next year and you actually need to get rid of the stock and therefore lose money.\n",
        "\n",
        "###The Task:\n",
        "\n",
        "The task is to send stock to Amazon, stock of products for Halloween, and it needs to be sent 2 months before the event ends (31/10). \n",
        "Therefore we need to predict the total sales 2 months ahead.\n",
        "Even though the data contains observations from 2021, the forecast period we trying to predict is the Halloween accrue at 2020 (31/10/2020) which will be the test set. \n",
        "\n",
        "\n",
        "###The Data:\n",
        "\n",
        "The data I have got is a daily sales (quantity) for products tagged as Halloween products. These univariate time series contain quantities and dates (as index) from 2015 until 2021. I won't share because of confidential issues.\n",
        "\n",
        "In addition, there is a table of holidays and their dates of each year (in this case we are using Halloween only).\n",
        "\n",
        "###Table of Contents:\n",
        "\n",
        "- Packages\n",
        "- Helper Functions\n",
        "- Quick EDA\n",
        "- SARIMAX Model\n",
        "- GAM - General Additive Model\n",
        "- Facebook Prophet Model\n",
        "- Classic ML Models\n",
        "- Evaluation and Comparison\n"
      ]
    },
    {
      "cell_type": "markdown",
      "metadata": {
        "id": "Q2BldRjjBRTr"
      },
      "source": [
        "# Packages"
      ]
    },
    {
      "cell_type": "markdown",
      "metadata": {
        "id": "QHWZUW2BBFRK"
      },
      "source": [
        "### Required to install, doesn't come build-in in Google Colab."
      ]
    },
    {
      "cell_type": "code",
      "metadata": {
        "id": "T1DO-AUTckOD",
        "colab": {
          "base_uri": "https://localhost:8080/"
        },
        "outputId": "b90aeede-5b72-412a-8100-ce3f8b2c744a"
      },
      "source": [
        "pip install optuna"
      ],
      "execution_count": 1,
      "outputs": [
        {
          "output_type": "stream",
          "name": "stdout",
          "text": [
            "Collecting optuna\n",
            "  Downloading optuna-2.10.0-py3-none-any.whl (308 kB)\n",
            "\u001b[K     |████████████████████████████████| 308 kB 5.3 MB/s \n",
            "\u001b[?25hRequirement already satisfied: numpy in /usr/local/lib/python3.7/dist-packages (from optuna) (1.19.5)\n",
            "Requirement already satisfied: PyYAML in /usr/local/lib/python3.7/dist-packages (from optuna) (3.13)\n",
            "Collecting cmaes>=0.8.2\n",
            "  Downloading cmaes-0.8.2-py3-none-any.whl (15 kB)\n",
            "Requirement already satisfied: tqdm in /usr/local/lib/python3.7/dist-packages (from optuna) (4.62.3)\n",
            "Requirement already satisfied: packaging>=20.0 in /usr/local/lib/python3.7/dist-packages (from optuna) (21.3)\n",
            "Collecting cliff\n",
            "  Downloading cliff-3.10.0-py3-none-any.whl (80 kB)\n",
            "\u001b[K     |████████████████████████████████| 80 kB 8.8 MB/s \n",
            "\u001b[?25hCollecting colorlog\n",
            "  Downloading colorlog-6.6.0-py2.py3-none-any.whl (11 kB)\n",
            "Requirement already satisfied: scipy!=1.4.0 in /usr/local/lib/python3.7/dist-packages (from optuna) (1.4.1)\n",
            "Collecting alembic\n",
            "  Downloading alembic-1.7.5-py3-none-any.whl (209 kB)\n",
            "\u001b[K     |████████████████████████████████| 209 kB 52.7 MB/s \n",
            "\u001b[?25hRequirement already satisfied: sqlalchemy>=1.1.0 in /usr/local/lib/python3.7/dist-packages (from optuna) (1.4.29)\n",
            "Requirement already satisfied: pyparsing!=3.0.5,>=2.0.2 in /usr/local/lib/python3.7/dist-packages (from packaging>=20.0->optuna) (3.0.6)\n",
            "Requirement already satisfied: greenlet!=0.4.17 in /usr/local/lib/python3.7/dist-packages (from sqlalchemy>=1.1.0->optuna) (1.1.2)\n",
            "Requirement already satisfied: importlib-metadata in /usr/local/lib/python3.7/dist-packages (from sqlalchemy>=1.1.0->optuna) (4.10.0)\n",
            "Collecting Mako\n",
            "  Downloading Mako-1.1.6-py2.py3-none-any.whl (75 kB)\n",
            "\u001b[K     |████████████████████████████████| 75 kB 3.8 MB/s \n",
            "\u001b[?25hRequirement already satisfied: importlib-resources in /usr/local/lib/python3.7/dist-packages (from alembic->optuna) (5.4.0)\n",
            "Collecting autopage>=0.4.0\n",
            "  Downloading autopage-0.5.0-py3-none-any.whl (29 kB)\n",
            "Collecting pbr!=2.1.0,>=2.0.0\n",
            "  Downloading pbr-5.8.0-py2.py3-none-any.whl (112 kB)\n",
            "\u001b[K     |████████████████████████████████| 112 kB 56.6 MB/s \n",
            "\u001b[?25hRequirement already satisfied: PrettyTable>=0.7.2 in /usr/local/lib/python3.7/dist-packages (from cliff->optuna) (3.0.0)\n",
            "Collecting stevedore>=2.0.1\n",
            "  Downloading stevedore-3.5.0-py3-none-any.whl (49 kB)\n",
            "\u001b[K     |████████████████████████████████| 49 kB 5.5 MB/s \n",
            "\u001b[?25hCollecting cmd2>=1.0.0\n",
            "  Downloading cmd2-2.3.3-py3-none-any.whl (149 kB)\n",
            "\u001b[K     |████████████████████████████████| 149 kB 59.9 MB/s \n",
            "\u001b[?25hRequirement already satisfied: attrs>=16.3.0 in /usr/local/lib/python3.7/dist-packages (from cmd2>=1.0.0->cliff->optuna) (21.4.0)\n",
            "Requirement already satisfied: typing-extensions in /usr/local/lib/python3.7/dist-packages (from cmd2>=1.0.0->cliff->optuna) (3.10.0.2)\n",
            "Collecting pyperclip>=1.6\n",
            "  Downloading pyperclip-1.8.2.tar.gz (20 kB)\n",
            "Requirement already satisfied: wcwidth>=0.1.7 in /usr/local/lib/python3.7/dist-packages (from cmd2>=1.0.0->cliff->optuna) (0.2.5)\n",
            "Requirement already satisfied: zipp>=0.5 in /usr/local/lib/python3.7/dist-packages (from importlib-metadata->sqlalchemy>=1.1.0->optuna) (3.7.0)\n",
            "Requirement already satisfied: MarkupSafe>=0.9.2 in /usr/local/lib/python3.7/dist-packages (from Mako->alembic->optuna) (2.0.1)\n",
            "Building wheels for collected packages: pyperclip\n",
            "  Building wheel for pyperclip (setup.py) ... \u001b[?25l\u001b[?25hdone\n",
            "  Created wheel for pyperclip: filename=pyperclip-1.8.2-py3-none-any.whl size=11137 sha256=716711311ace7b0c466733399a4dfa824d42a5a4ecf8d48e4d809519aa054234\n",
            "  Stored in directory: /root/.cache/pip/wheels/9f/18/84/8f69f8b08169c7bae2dde6bd7daf0c19fca8c8e500ee620a28\n",
            "Successfully built pyperclip\n",
            "Installing collected packages: pyperclip, pbr, stevedore, Mako, cmd2, autopage, colorlog, cmaes, cliff, alembic, optuna\n",
            "Successfully installed Mako-1.1.6 alembic-1.7.5 autopage-0.5.0 cliff-3.10.0 cmaes-0.8.2 cmd2-2.3.3 colorlog-6.6.0 optuna-2.10.0 pbr-5.8.0 pyperclip-1.8.2 stevedore-3.5.0\n"
          ]
        }
      ]
    },
    {
      "cell_type": "code",
      "metadata": {
        "id": "2__kSeVl4lXl",
        "colab": {
          "base_uri": "https://localhost:8080/"
        },
        "outputId": "d0bf3ebf-94a7-49c4-8d1b-d5d3fadcdaf0"
      },
      "source": [
        "pip install pygam"
      ],
      "execution_count": 2,
      "outputs": [
        {
          "output_type": "stream",
          "name": "stdout",
          "text": [
            "Collecting pygam\n",
            "  Downloading pygam-0.8.0-py2.py3-none-any.whl (1.8 MB)\n",
            "\u001b[K     |████████████████████████████████| 1.8 MB 5.4 MB/s \n",
            "\u001b[?25hRequirement already satisfied: future in /usr/local/lib/python3.7/dist-packages (from pygam) (0.16.0)\n",
            "Requirement already satisfied: progressbar2 in /usr/local/lib/python3.7/dist-packages (from pygam) (3.38.0)\n",
            "Requirement already satisfied: scipy in /usr/local/lib/python3.7/dist-packages (from pygam) (1.4.1)\n",
            "Requirement already satisfied: numpy in /usr/local/lib/python3.7/dist-packages (from pygam) (1.19.5)\n",
            "Requirement already satisfied: six in /usr/local/lib/python3.7/dist-packages (from progressbar2->pygam) (1.15.0)\n",
            "Requirement already satisfied: python-utils>=2.3.0 in /usr/local/lib/python3.7/dist-packages (from progressbar2->pygam) (3.0.0)\n",
            "Installing collected packages: pygam\n",
            "Successfully installed pygam-0.8.0\n"
          ]
        }
      ]
    },
    {
      "cell_type": "code",
      "metadata": {
        "id": "yMzbo7KBFrQA",
        "colab": {
          "base_uri": "https://localhost:8080/"
        },
        "outputId": "f7d461b6-27a7-4f7f-b38a-815a7842724e"
      },
      "source": [
        "pip install fbprophet"
      ],
      "execution_count": 3,
      "outputs": [
        {
          "output_type": "stream",
          "name": "stdout",
          "text": [
            "Requirement already satisfied: fbprophet in /usr/local/lib/python3.7/dist-packages (0.7.1)\n",
            "Requirement already satisfied: Cython>=0.22 in /usr/local/lib/python3.7/dist-packages (from fbprophet) (0.29.26)\n",
            "Requirement already satisfied: cmdstanpy==0.9.5 in /usr/local/lib/python3.7/dist-packages (from fbprophet) (0.9.5)\n",
            "Requirement already satisfied: pystan>=2.14 in /usr/local/lib/python3.7/dist-packages (from fbprophet) (2.19.1.1)\n",
            "Requirement already satisfied: numpy>=1.15.4 in /usr/local/lib/python3.7/dist-packages (from fbprophet) (1.19.5)\n",
            "Requirement already satisfied: pandas>=1.0.4 in /usr/local/lib/python3.7/dist-packages (from fbprophet) (1.1.5)\n",
            "Requirement already satisfied: matplotlib>=2.0.0 in /usr/local/lib/python3.7/dist-packages (from fbprophet) (3.2.2)\n",
            "Requirement already satisfied: LunarCalendar>=0.0.9 in /usr/local/lib/python3.7/dist-packages (from fbprophet) (0.0.9)\n",
            "Requirement already satisfied: convertdate>=2.1.2 in /usr/local/lib/python3.7/dist-packages (from fbprophet) (2.3.2)\n",
            "Requirement already satisfied: holidays>=0.10.2 in /usr/local/lib/python3.7/dist-packages (from fbprophet) (0.10.5.2)\n",
            "Requirement already satisfied: setuptools-git>=1.2 in /usr/local/lib/python3.7/dist-packages (from fbprophet) (1.2)\n",
            "Requirement already satisfied: python-dateutil>=2.8.0 in /usr/local/lib/python3.7/dist-packages (from fbprophet) (2.8.2)\n",
            "Requirement already satisfied: tqdm>=4.36.1 in /usr/local/lib/python3.7/dist-packages (from fbprophet) (4.62.3)\n",
            "Requirement already satisfied: pymeeus<=1,>=0.3.13 in /usr/local/lib/python3.7/dist-packages (from convertdate>=2.1.2->fbprophet) (0.5.11)\n",
            "Requirement already satisfied: pytz>=2014.10 in /usr/local/lib/python3.7/dist-packages (from convertdate>=2.1.2->fbprophet) (2018.9)\n",
            "Requirement already satisfied: hijri-converter in /usr/local/lib/python3.7/dist-packages (from holidays>=0.10.2->fbprophet) (2.2.2)\n",
            "Requirement already satisfied: six in /usr/local/lib/python3.7/dist-packages (from holidays>=0.10.2->fbprophet) (1.15.0)\n",
            "Requirement already satisfied: korean-lunar-calendar in /usr/local/lib/python3.7/dist-packages (from holidays>=0.10.2->fbprophet) (0.2.1)\n",
            "Requirement already satisfied: ephem>=3.7.5.3 in /usr/local/lib/python3.7/dist-packages (from LunarCalendar>=0.0.9->fbprophet) (4.1.3)\n",
            "Requirement already satisfied: kiwisolver>=1.0.1 in /usr/local/lib/python3.7/dist-packages (from matplotlib>=2.0.0->fbprophet) (1.3.2)\n",
            "Requirement already satisfied: cycler>=0.10 in /usr/local/lib/python3.7/dist-packages (from matplotlib>=2.0.0->fbprophet) (0.11.0)\n",
            "Requirement already satisfied: pyparsing!=2.0.4,!=2.1.2,!=2.1.6,>=2.0.1 in /usr/local/lib/python3.7/dist-packages (from matplotlib>=2.0.0->fbprophet) (3.0.6)\n"
          ]
        }
      ]
    },
    {
      "cell_type": "code",
      "source": [
        "pip install -U kaleido"
      ],
      "metadata": {
        "colab": {
          "base_uri": "https://localhost:8080/"
        },
        "id": "v4g2Q-ufYsK5",
        "outputId": "88c166b0-3547-454f-ff62-b17239e9c2bc"
      },
      "execution_count": 25,
      "outputs": [
        {
          "output_type": "stream",
          "name": "stdout",
          "text": [
            "\u001b[K     |████████████████████████████████| 57 kB 2.6 MB/s \n",
            "\u001b[K     |████████████████████████████████| 56 kB 4.1 MB/s \n",
            "\u001b[?25h"
          ]
        }
      ]
    },
    {
      "cell_type": "code",
      "metadata": {
        "id": "7Rct_SRINJrg",
        "colab": {
          "base_uri": "https://localhost:8080/"
        },
        "outputId": "97546308-8b2d-418d-9ef5-524f0c707c62"
      },
      "source": [
        "import pandas as pd\n",
        "import numpy as np\n",
        "import datetime as dt\n",
        "import scipy\n",
        "import sys\n",
        "\n",
        "\n",
        "# Visualisation packages\n",
        "import matplotlib.pyplot as plt\n",
        "import plotly.graph_objects as go\n",
        "import plotly.io as pio\n",
        "#pio.renderers.default = \"svg\"\n",
        "#import plotly.offline as pyo\n",
        "\n",
        "\n",
        "\n",
        "# Bayesian optimization search for hyperparameter tuning\n",
        "import optuna\n",
        "\n",
        "# For the 1st model - SARIMA\n",
        "from statsmodels.tsa.seasonal import seasonal_decompose\n",
        "from statsmodels.tsa.stattools import adfuller\n",
        "from statsmodels.graphics.tsaplots import plot_acf, plot_pacf\n",
        "from statsmodels.tsa.statespace.sarimax import SARIMAX\n",
        "\n",
        "# For the 2nd model - GAM\n",
        "from pygam import LinearGAM\n",
        "\n",
        "# For the 3rd model - Prophet\n",
        "import fbprophet \n",
        "from fbprophet.plot import add_changepoints_to_plot,plot_plotly, plot_components_plotly\n",
        "from fbprophet.make_holidays import make_holidays_df\n",
        "from fbprophet import Prophet\n",
        "from fbprophet.diagnostics import cross_validation,performance_metrics\n",
        "\n",
        "# ML algorithms for the ensemble part\n",
        "from sklearn.model_selection import cross_val_score,TimeSeriesSplit\n",
        "from sklearn.multioutput import RegressorChain\n",
        "from sklearn.preprocessing import MinMaxScaler \n",
        "from sklearn.svm import SVR\n",
        "from sklearn.neighbors import KNeighborsRegressor \n",
        "from sklearn.linear_model import LinearRegression,Ridge,Lasso,ElasticNet\n",
        "from sklearn.tree import DecisionTreeRegressor\n",
        "from sklearn.ensemble import RandomForestRegressor\n",
        "from xgboost import XGBRegressor\n",
        "from sklearn.multioutput import RegressorChain\n",
        "\n",
        "# Ignore warnings and output\n",
        "import warnings\n",
        "warnings.simplefilter(action='ignore')\n",
        "optuna.logging.set_verbosity(optuna.logging.WARNING)"
      ],
      "execution_count": 1,
      "outputs": [
        {
          "output_type": "stream",
          "name": "stderr",
          "text": [
            "/usr/local/lib/python3.7/dist-packages/statsmodels/tools/_testing.py:19: FutureWarning:\n",
            "\n",
            "pandas.util.testing is deprecated. Use the functions in the public API at pandas.testing instead.\n",
            "\n"
          ]
        }
      ]
    },
    {
      "cell_type": "code",
      "metadata": {
        "colab": {
          "base_uri": "https://localhost:8080/"
        },
        "id": "eJ1KHKaZNMtJ",
        "outputId": "f2449a16-8854-4efe-aa75-3ecaa0189d18"
      },
      "source": [
        "from google.colab import drive\n",
        "drive.mount('/content/drive')"
      ],
      "execution_count": 2,
      "outputs": [
        {
          "output_type": "stream",
          "name": "stdout",
          "text": [
            "Drive already mounted at /content/drive; to attempt to forcibly remount, call drive.mount(\"/content/drive\", force_remount=True).\n"
          ]
        }
      ]
    },
    {
      "cell_type": "markdown",
      "metadata": {
        "id": "l6AW1taRH9XU"
      },
      "source": [
        "# Helper Functions"
      ]
    },
    {
      "cell_type": "markdown",
      "metadata": {
        "id": "Z7s-PHukTgSL"
      },
      "source": [
        "Function for importing the data sets.\n",
        "The function converts the date variable into a date data type, \\\n",
        "filling days without sales with 0, keeping the relevant dates, and aggregating the sales by time period (days or months),\\\n",
        " doing so by summing up the sales from all the products for the specific period. "
      ]
    },
    {
      "cell_type": "code",
      "metadata": {
        "id": "StJ55OQZIDtU"
      },
      "source": [
        "def import_data(freq = 'M',last_date = '2021-11-01'):\n",
        "  # Holidy Data\n",
        "  holidays_data = pd.read_csv(r'/content/drive/My Drive/Halloween/holidays.csv',parse_dates =['ds'])\n",
        "  \n",
        "  # Sales Data\n",
        "  data = pd.read_csv(r'/content/drive/My Drive/Halloween/Halloween Data.csv',parse_dates =['purchase_date'])\n",
        "  data['purchase_date'] = data['purchase_date'].dt.date\n",
        "  data = data.sort_values(by='purchase_date')\n",
        "  df = data.groupby(by=['purchase_date']).agg(y=('quantity','sum'))\n",
        "  df = df.reindex(pd.date_range(start=df.index.min(),end=df.index.max(),freq='1D')) \n",
        "  df.fillna(0,inplace=True)\n",
        "\n",
        "  df['ds'] = df.index\n",
        "  df['ds'] = pd.to_datetime(df['ds'])\n",
        "  grouper = pd.Grouper(key='ds', freq=freq)\n",
        "  df = df.groupby(grouper)['y'].sum().reset_index()\n",
        "  df = df.set_index('ds')\n",
        "\n",
        "  df = df[df.index <= last_date]\n",
        "  return df,holidays_data "
      ],
      "execution_count": 3,
      "outputs": []
    },
    {
      "cell_type": "markdown",
      "metadata": {
        "id": "OVRpFT3HYFSb"
      },
      "source": [
        "Function for split the data into training and test sets in specific date we want."
      ]
    },
    {
      "cell_type": "code",
      "metadata": {
        "id": "1a7H_33BNduD"
      },
      "source": [
        "def split(df,test_date = '2021-09-01'):\n",
        "  train = df[df.index < test_date].copy()\n",
        "  test = df[df.index >= test_date].copy() \n",
        "  return train, test"
      ],
      "execution_count": 4,
      "outputs": []
    },
    {
      "cell_type": "markdown",
      "metadata": {
        "id": "tlUOCI2XYb5p"
      },
      "source": [
        "Function for making graph using Plotly.\n",
        "The function is built to make a comparison between the actual data and the forecast the model made. \\\n",
        "There are also options to plot training data and the model predictions for In-sampled data in the same graph with the forecast Out-Sampled data."
      ]
    },
    {
      "cell_type": "code",
      "metadata": {
        "id": "itbODHnePefk"
      },
      "source": [
        "def make_graph(test_pred, test, dates, train_pred=None, train=None, with_train=False, with_boundries = False, lower_series=None, upper_series=None, for_git=True):\n",
        "\n",
        "  fig = go.Figure()\n",
        "  if with_train:\n",
        "    fig.add_trace(go.Scatter(x=train.index, y=train['y'], name='Actual - Train',line=dict(color='royalblue', width=3)))\n",
        "    fig.add_trace(go.Scatter(x=train_pred.index, y=train_pred, name='Predicted - Train',line=dict(color='firebrick', width=3)))\n",
        "\n",
        "  fig.add_trace(go.Scatter(x=dates, y=test, name='Actual - Test',line=dict(color='royalblue', width=3)))\n",
        "  fig.add_trace(go.Scatter(x=dates, y=test_pred, name='Forecast - Test',line=dict(color='firebrick', width=3)))\n",
        "  fig.update_layout(title='Quantity - Prediction Vs. Actual', title_font_size=30, xaxis_title='Date', yaxis_title='Quantity')\n",
        "\n",
        "  if with_boundries:\n",
        "    fig.add_trace(go.Scatter(name='Lower Bound', x=lower_series.index, y=lower_series, marker=dict(color=\"#444\"),\n",
        "                             line=dict(width=0), mode='lines', fillcolor='rgba(68, 68, 68, 0.1)', fill='tonexty', showlegend=False))\n",
        "\n",
        "    fig.add_trace(go.Scatter(name='Upper Bound', x=upper_series.index, y=upper_series, marker=dict(color=\"#444\"), line=dict(width=0),\n",
        "                              mode='lines', fillcolor='rgba(68, 68, 68, 0.1)', fill='tonexty', showlegend=False))\n",
        "\n",
        "  fig.update_layout({'plot_bgcolor': 'rgba(0, 0, 0, 0)'})\n",
        "  if for_git:\n",
        "    # for plotting on github\n",
        "    fig.show('svg',width=1300, height=600)\n",
        "  # for interactive plot\n",
        "  else:\n",
        "    fig.show()"
      ],
      "execution_count": 5,
      "outputs": []
    },
    {
      "cell_type": "markdown",
      "metadata": {
        "id": "eXwd3w8haVas"
      },
      "source": [
        "Shows the forecast metrics performance:\n",
        "- Error for all periods - absolute and percentage.\n",
        "- Mean absolute error (MAE).\n",
        "- Root mean squared error (RMSE).\n",
        "- Mean absolute percentage error (MAPE)."
      ]
    },
    {
      "cell_type": "code",
      "metadata": {
        "id": "eIL4MQBYTlVv"
      },
      "source": [
        "def evaluation(pred, test,is_print=False):\n",
        "  total_pred = round(sum(pred))\n",
        "  total_test = sum(test)\n",
        "  period_error = round(sum(pred) - sum(test))\n",
        "  period_error_perc = round((sum(pred) - sum(test)) / sum(test), 3)*100\n",
        "  mae = round(np.mean(np.abs(pred - test)), 3)\n",
        "  rmse = round(((np.mean((pred - test)**2))**0.5), 4)\n",
        "  mape = round(np.mean(np.abs((test - pred) / test)) * 100, 4)\n",
        "  \n",
        "  if is_print:\n",
        "    print(\"Total Predicted Quantity:\" , str(total_pred),'\\n')\n",
        "    print(\"Total Actual Quantity:\" , str(total_test),'\\n')\n",
        "    print(\"Total Period Error:\", str(period_error),'\\n')\n",
        "    print(\"Total Period % Error:\", str(period_error_perc),\"%\",'\\n')\n",
        "    print(\"MAE:\", str(mae),'\\n')\n",
        "    print(\"RMSE:\", str(rmse),'\\n')\n",
        "    print(\"MAPE:\", str(mape),\"%\")\n",
        "  \n",
        "  return [total_pred,total_test,period_error,period_error_perc,mae,rmse,mape]"
      ],
      "execution_count": 6,
      "outputs": []
    },
    {
      "cell_type": "markdown",
      "metadata": {
        "id": "jGQryuifHS6x"
      },
      "source": [
        "One-Hot encoding function - convert multi-categorical feature into dummy variable (0 or 1)."
      ]
    },
    {
      "cell_type": "code",
      "metadata": {
        "id": "v7IzEc3cnTma"
      },
      "source": [
        "def create_dummies(df, column_name):\n",
        "    \"\"\"\n",
        "    Create dummy variable from categorical variable.\n",
        "    \"\"\"\n",
        "    dummies = pd.get_dummies(df[column_name], prefix=column_name)\n",
        "    df = pd.concat([df, dummies], axis=1)\n",
        "    df.drop(columns = [column_name], inplace = True)\n",
        "    return df"
      ],
      "execution_count": 7,
      "outputs": []
    },
    {
      "cell_type": "markdown",
      "metadata": {
        "id": "QdZPbIOrHtMH"
      },
      "source": [
        "Convert the monthly predictions into daily predictions by last year's distribution."
      ]
    },
    {
      "cell_type": "code",
      "metadata": {
        "id": "UloTJocWUN0D"
      },
      "source": [
        "def months_to_days(pred,start_date='2020-09-01',end_date='2020-11-01'):\n",
        "  df,holidays_data = import_data('D')\n",
        "  daily_data_test = df.loc[(df.index >= start_date) & (df.index <= end_date),'y'].values\n",
        "  daily_data_test = daily_data_test/daily_data_test.sum()\n",
        "  pred = daily_data_test*pred.sum()\n",
        "  return pred"
      ],
      "execution_count": 8,
      "outputs": []
    },
    {
      "cell_type": "markdown",
      "metadata": {
        "id": "u9r6AnbJjTZ1"
      },
      "source": [
        "# Quick EDA"
      ]
    },
    {
      "cell_type": "code",
      "metadata": {
        "id": "tG38vq0XUf-A"
      },
      "source": [
        "df,holidays_data = import_data(freq = 'D',last_date = '2021-11-01')"
      ],
      "execution_count": 9,
      "outputs": []
    },
    {
      "cell_type": "code",
      "metadata": {
        "colab": {
          "base_uri": "https://localhost:8080/"
        },
        "id": "NecuSZDHVn9K",
        "outputId": "13d75c42-6152-44d1-e4ae-71089e9d2a5b"
      },
      "source": [
        "df.info()"
      ],
      "execution_count": 10,
      "outputs": [
        {
          "output_type": "stream",
          "name": "stdout",
          "text": [
            "<class 'pandas.core.frame.DataFrame'>\n",
            "DatetimeIndex: 2497 entries, 2015-01-01 to 2021-11-01\n",
            "Data columns (total 1 columns):\n",
            " #   Column  Non-Null Count  Dtype  \n",
            "---  ------  --------------  -----  \n",
            " 0   y       2497 non-null   float64\n",
            "dtypes: float64(1)\n",
            "memory usage: 39.0 KB\n"
          ]
        }
      ]
    },
    {
      "cell_type": "code",
      "metadata": {
        "colab": {
          "base_uri": "https://localhost:8080/",
          "height": 300
        },
        "id": "-z0-D-iyVqNo",
        "outputId": "7155e4e8-2edc-4033-dfaa-42f2825f9689"
      },
      "source": [
        "df.describe()"
      ],
      "execution_count": 11,
      "outputs": [
        {
          "output_type": "execute_result",
          "data": {
            "text/html": [
              "\n",
              "  <div id=\"df-48462766-9826-4063-96c6-aa5e642df99c\">\n",
              "    <div class=\"colab-df-container\">\n",
              "      <div>\n",
              "<style scoped>\n",
              "    .dataframe tbody tr th:only-of-type {\n",
              "        vertical-align: middle;\n",
              "    }\n",
              "\n",
              "    .dataframe tbody tr th {\n",
              "        vertical-align: top;\n",
              "    }\n",
              "\n",
              "    .dataframe thead th {\n",
              "        text-align: right;\n",
              "    }\n",
              "</style>\n",
              "<table border=\"1\" class=\"dataframe\">\n",
              "  <thead>\n",
              "    <tr style=\"text-align: right;\">\n",
              "      <th></th>\n",
              "      <th>y</th>\n",
              "    </tr>\n",
              "  </thead>\n",
              "  <tbody>\n",
              "    <tr>\n",
              "      <th>count</th>\n",
              "      <td>2497.000000</td>\n",
              "    </tr>\n",
              "    <tr>\n",
              "      <th>mean</th>\n",
              "      <td>146.440529</td>\n",
              "    </tr>\n",
              "    <tr>\n",
              "      <th>std</th>\n",
              "      <td>306.024468</td>\n",
              "    </tr>\n",
              "    <tr>\n",
              "      <th>min</th>\n",
              "      <td>0.000000</td>\n",
              "    </tr>\n",
              "    <tr>\n",
              "      <th>25%</th>\n",
              "      <td>27.000000</td>\n",
              "    </tr>\n",
              "    <tr>\n",
              "      <th>50%</th>\n",
              "      <td>51.000000</td>\n",
              "    </tr>\n",
              "    <tr>\n",
              "      <th>75%</th>\n",
              "      <td>88.000000</td>\n",
              "    </tr>\n",
              "    <tr>\n",
              "      <th>max</th>\n",
              "      <td>2438.000000</td>\n",
              "    </tr>\n",
              "  </tbody>\n",
              "</table>\n",
              "</div>\n",
              "      <button class=\"colab-df-convert\" onclick=\"convertToInteractive('df-48462766-9826-4063-96c6-aa5e642df99c')\"\n",
              "              title=\"Convert this dataframe to an interactive table.\"\n",
              "              style=\"display:none;\">\n",
              "        \n",
              "  <svg xmlns=\"http://www.w3.org/2000/svg\" height=\"24px\"viewBox=\"0 0 24 24\"\n",
              "       width=\"24px\">\n",
              "    <path d=\"M0 0h24v24H0V0z\" fill=\"none\"/>\n",
              "    <path d=\"M18.56 5.44l.94 2.06.94-2.06 2.06-.94-2.06-.94-.94-2.06-.94 2.06-2.06.94zm-11 1L8.5 8.5l.94-2.06 2.06-.94-2.06-.94L8.5 2.5l-.94 2.06-2.06.94zm10 10l.94 2.06.94-2.06 2.06-.94-2.06-.94-.94-2.06-.94 2.06-2.06.94z\"/><path d=\"M17.41 7.96l-1.37-1.37c-.4-.4-.92-.59-1.43-.59-.52 0-1.04.2-1.43.59L10.3 9.45l-7.72 7.72c-.78.78-.78 2.05 0 2.83L4 21.41c.39.39.9.59 1.41.59.51 0 1.02-.2 1.41-.59l7.78-7.78 2.81-2.81c.8-.78.8-2.07 0-2.86zM5.41 20L4 18.59l7.72-7.72 1.47 1.35L5.41 20z\"/>\n",
              "  </svg>\n",
              "      </button>\n",
              "      \n",
              "  <style>\n",
              "    .colab-df-container {\n",
              "      display:flex;\n",
              "      flex-wrap:wrap;\n",
              "      gap: 12px;\n",
              "    }\n",
              "\n",
              "    .colab-df-convert {\n",
              "      background-color: #E8F0FE;\n",
              "      border: none;\n",
              "      border-radius: 50%;\n",
              "      cursor: pointer;\n",
              "      display: none;\n",
              "      fill: #1967D2;\n",
              "      height: 32px;\n",
              "      padding: 0 0 0 0;\n",
              "      width: 32px;\n",
              "    }\n",
              "\n",
              "    .colab-df-convert:hover {\n",
              "      background-color: #E2EBFA;\n",
              "      box-shadow: 0px 1px 2px rgba(60, 64, 67, 0.3), 0px 1px 3px 1px rgba(60, 64, 67, 0.15);\n",
              "      fill: #174EA6;\n",
              "    }\n",
              "\n",
              "    [theme=dark] .colab-df-convert {\n",
              "      background-color: #3B4455;\n",
              "      fill: #D2E3FC;\n",
              "    }\n",
              "\n",
              "    [theme=dark] .colab-df-convert:hover {\n",
              "      background-color: #434B5C;\n",
              "      box-shadow: 0px 1px 3px 1px rgba(0, 0, 0, 0.15);\n",
              "      filter: drop-shadow(0px 1px 2px rgba(0, 0, 0, 0.3));\n",
              "      fill: #FFFFFF;\n",
              "    }\n",
              "  </style>\n",
              "\n",
              "      <script>\n",
              "        const buttonEl =\n",
              "          document.querySelector('#df-48462766-9826-4063-96c6-aa5e642df99c button.colab-df-convert');\n",
              "        buttonEl.style.display =\n",
              "          google.colab.kernel.accessAllowed ? 'block' : 'none';\n",
              "\n",
              "        async function convertToInteractive(key) {\n",
              "          const element = document.querySelector('#df-48462766-9826-4063-96c6-aa5e642df99c');\n",
              "          const dataTable =\n",
              "            await google.colab.kernel.invokeFunction('convertToInteractive',\n",
              "                                                     [key], {});\n",
              "          if (!dataTable) return;\n",
              "\n",
              "          const docLinkHtml = 'Like what you see? Visit the ' +\n",
              "            '<a target=\"_blank\" href=https://colab.research.google.com/notebooks/data_table.ipynb>data table notebook</a>'\n",
              "            + ' to learn more about interactive tables.';\n",
              "          element.innerHTML = '';\n",
              "          dataTable['output_type'] = 'display_data';\n",
              "          await google.colab.output.renderOutput(dataTable, element);\n",
              "          const docLink = document.createElement('div');\n",
              "          docLink.innerHTML = docLinkHtml;\n",
              "          element.appendChild(docLink);\n",
              "        }\n",
              "      </script>\n",
              "    </div>\n",
              "  </div>\n",
              "  "
            ],
            "text/plain": [
              "                 y\n",
              "count  2497.000000\n",
              "mean    146.440529\n",
              "std     306.024468\n",
              "min       0.000000\n",
              "25%      27.000000\n",
              "50%      51.000000\n",
              "75%      88.000000\n",
              "max    2438.000000"
            ]
          },
          "metadata": {},
          "execution_count": 11
        }
      ]
    },
    {
      "cell_type": "code",
      "metadata": {
        "colab": {
          "base_uri": "https://localhost:8080/"
        },
        "id": "3xzGJ-GuVvbI",
        "outputId": "e7db87ea-25a1-407e-c8de-8ecbbc80075d"
      },
      "source": [
        "df.isnull().sum()"
      ],
      "execution_count": 12,
      "outputs": [
        {
          "output_type": "execute_result",
          "data": {
            "text/plain": [
              "y    0\n",
              "dtype: int64"
            ]
          },
          "metadata": {},
          "execution_count": 12
        }
      ]
    },
    {
      "cell_type": "code",
      "source": [
        "import plotly.io as pio\n",
        "\n",
        "\n",
        "from IPython.display import HTML"
      ],
      "metadata": {
        "id": "akk4E9R2a7cK"
      },
      "execution_count": 13,
      "outputs": []
    },
    {
      "cell_type": "code",
      "metadata": {
        "colab": {
          "base_uri": "https://localhost:8080/",
          "height": 560
        },
        "id": "zeIe4VQ7Usp5",
        "outputId": "e31e16ab-b387-4bb1-d0cb-a8a588b1045e"
      },
      "source": [
        "fig = go.Figure()\n",
        "fig.add_trace(go.Scatter(x=df.index, y=df['y'],line=dict(color='royalblue', width=3)))\n",
        "fig.update_layout(title='Agg. Halloween Quantity by Time', title_font_size=30, xaxis_title='Date', yaxis_title='Quantity')\n",
        "fig.update_layout({'plot_bgcolor': 'rgba(0, 0, 0, 0)'})\n",
        "#fig.show('svg',width=1300, height=600)\n",
        "HTML(fig.show())"
      ],
      "execution_count": 14,
      "outputs": [
        {
          "output_type": "display_data",
          "data": {
            "text/html": [
              "<html>\n",
              "<head><meta charset=\"utf-8\" /></head>\n",
              "<body>\n",
              "    <div>\n",
              "            <script src=\"https://cdnjs.cloudflare.com/ajax/libs/mathjax/2.7.5/MathJax.js?config=TeX-AMS-MML_SVG\"></script><script type=\"text/javascript\">if (window.MathJax) {MathJax.Hub.Config({SVG: {font: \"STIX-Web\"}});}</script>\n",
              "                <script type=\"text/javascript\">window.PlotlyConfig = {MathJaxConfig: 'local'};</script>\n",
              "        <script src=\"https://cdn.plot.ly/plotly-latest.min.js\"></script>    \n",
              "            <div id=\"2d8a6ff2-014c-4f0f-be9c-aeafa9aa9a44\" class=\"plotly-graph-div\" style=\"height:525px; width:100%;\"></div>\n",
              "            <script type=\"text/javascript\">\n",
              "                \n",
              "                    window.PLOTLYENV=window.PLOTLYENV || {};\n",
              "                    \n",
              "                if (document.getElementById(\"2d8a6ff2-014c-4f0f-be9c-aeafa9aa9a44\")) {\n",
              "                    Plotly.newPlot(\n",
              "                        '2d8a6ff2-014c-4f0f-be9c-aeafa9aa9a44',\n",
              "                        [{\"line\": {\"color\": \"royalblue\", \"width\": 3}, \"type\": \"scatter\", \"x\": [\"2015-01-01T00:00:00\", \"2015-01-02T00:00:00\", \"2015-01-03T00:00:00\", \"2015-01-04T00:00:00\", \"2015-01-05T00:00:00\", \"2015-01-06T00:00:00\", \"2015-01-07T00:00:00\", \"2015-01-08T00:00:00\", \"2015-01-09T00:00:00\", \"2015-01-10T00:00:00\", \"2015-01-11T00:00:00\", \"2015-01-12T00:00:00\", \"2015-01-13T00:00:00\", \"2015-01-14T00:00:00\", \"2015-01-15T00:00:00\", \"2015-01-16T00:00:00\", \"2015-01-17T00:00:00\", \"2015-01-18T00:00:00\", \"2015-01-19T00:00:00\", \"2015-01-20T00:00:00\", \"2015-01-21T00:00:00\", \"2015-01-22T00:00:00\", \"2015-01-23T00:00:00\", \"2015-01-24T00:00:00\", \"2015-01-25T00:00:00\", \"2015-01-26T00:00:00\", \"2015-01-27T00:00:00\", \"2015-01-28T00:00:00\", \"2015-01-29T00:00:00\", \"2015-01-30T00:00:00\", \"2015-01-31T00:00:00\", \"2015-02-01T00:00:00\", \"2015-02-02T00:00:00\", \"2015-02-03T00:00:00\", \"2015-02-04T00:00:00\", \"2015-02-05T00:00:00\", \"2015-02-06T00:00:00\", \"2015-02-07T00:00:00\", \"2015-02-08T00:00:00\", \"2015-02-09T00:00:00\", \"2015-02-10T00:00:00\", \"2015-02-11T00:00:00\", \"2015-02-12T00:00:00\", \"2015-02-13T00:00:00\", \"2015-02-14T00:00:00\", \"2015-02-15T00:00:00\", \"2015-02-16T00:00:00\", \"2015-02-17T00:00:00\", \"2015-02-18T00:00:00\", \"2015-02-19T00:00:00\", \"2015-02-20T00:00:00\", \"2015-02-21T00:00:00\", \"2015-02-22T00:00:00\", \"2015-02-23T00:00:00\", \"2015-02-24T00:00:00\", \"2015-02-25T00:00:00\", \"2015-02-26T00:00:00\", \"2015-02-27T00:00:00\", \"2015-02-28T00:00:00\", \"2015-03-01T00:00:00\", \"2015-03-02T00:00:00\", \"2015-03-03T00:00:00\", \"2015-03-04T00:00:00\", \"2015-03-05T00:00:00\", \"2015-03-06T00:00:00\", \"2015-03-07T00:00:00\", \"2015-03-08T00:00:00\", \"2015-03-09T00:00:00\", \"2015-03-10T00:00:00\", \"2015-03-11T00:00:00\", \"2015-03-12T00:00:00\", \"2015-03-13T00:00:00\", \"2015-03-14T00:00:00\", \"2015-03-15T00:00:00\", \"2015-03-16T00:00:00\", \"2015-03-17T00:00:00\", \"2015-03-18T00:00:00\", \"2015-03-19T00:00:00\", \"2015-03-20T00:00:00\", \"2015-03-21T00:00:00\", \"2015-03-22T00:00:00\", \"2015-03-23T00:00:00\", \"2015-03-24T00:00:00\", \"2015-03-25T00:00:00\", \"2015-03-26T00:00:00\", \"2015-03-27T00:00:00\", \"2015-03-28T00:00:00\", \"2015-03-29T00:00:00\", \"2015-03-30T00:00:00\", \"2015-03-31T00:00:00\", \"2015-04-01T00:00:00\", \"2015-04-02T00:00:00\", \"2015-04-03T00:00:00\", \"2015-04-04T00:00:00\", \"2015-04-05T00:00:00\", \"2015-04-06T00:00:00\", \"2015-04-07T00:00:00\", \"2015-04-08T00:00:00\", \"2015-04-09T00:00:00\", \"2015-04-10T00:00:00\", \"2015-04-11T00:00:00\", \"2015-04-12T00:00:00\", \"2015-04-13T00:00:00\", \"2015-04-14T00:00:00\", \"2015-04-15T00:00:00\", \"2015-04-16T00:00:00\", \"2015-04-17T00:00:00\", \"2015-04-18T00:00:00\", \"2015-04-19T00:00:00\", \"2015-04-20T00:00:00\", \"2015-04-21T00:00:00\", \"2015-04-22T00:00:00\", \"2015-04-23T00:00:00\", \"2015-04-24T00:00:00\", \"2015-04-25T00:00:00\", \"2015-04-26T00:00:00\", \"2015-04-27T00:00:00\", \"2015-04-28T00:00:00\", \"2015-04-29T00:00:00\", \"2015-04-30T00:00:00\", \"2015-05-01T00:00:00\", \"2015-05-02T00:00:00\", \"2015-05-03T00:00:00\", \"2015-05-04T00:00:00\", \"2015-05-05T00:00:00\", \"2015-05-06T00:00:00\", \"2015-05-07T00:00:00\", \"2015-05-08T00:00:00\", \"2015-05-09T00:00:00\", \"2015-05-10T00:00:00\", \"2015-05-11T00:00:00\", \"2015-05-12T00:00:00\", \"2015-05-13T00:00:00\", \"2015-05-14T00:00:00\", \"2015-05-15T00:00:00\", \"2015-05-16T00:00:00\", \"2015-05-17T00:00:00\", \"2015-05-18T00:00:00\", \"2015-05-19T00:00:00\", \"2015-05-20T00:00:00\", \"2015-05-21T00:00:00\", \"2015-05-22T00:00:00\", \"2015-05-23T00:00:00\", \"2015-05-24T00:00:00\", \"2015-05-25T00:00:00\", \"2015-05-26T00:00:00\", \"2015-05-27T00:00:00\", \"2015-05-28T00:00:00\", \"2015-05-29T00:00:00\", \"2015-05-30T00:00:00\", \"2015-05-31T00:00:00\", \"2015-06-01T00:00:00\", \"2015-06-02T00:00:00\", \"2015-06-03T00:00:00\", \"2015-06-04T00:00:00\", \"2015-06-05T00:00:00\", \"2015-06-06T00:00:00\", \"2015-06-07T00:00:00\", \"2015-06-08T00:00:00\", \"2015-06-09T00:00:00\", \"2015-06-10T00:00:00\", \"2015-06-11T00:00:00\", \"2015-06-12T00:00:00\", \"2015-06-13T00:00:00\", \"2015-06-14T00:00:00\", \"2015-06-15T00:00:00\", \"2015-06-16T00:00:00\", \"2015-06-17T00:00:00\", \"2015-06-18T00:00:00\", \"2015-06-19T00:00:00\", \"2015-06-20T00:00:00\", \"2015-06-21T00:00:00\", \"2015-06-22T00:00:00\", \"2015-06-23T00:00:00\", \"2015-06-24T00:00:00\", \"2015-06-25T00:00:00\", \"2015-06-26T00:00:00\", \"2015-06-27T00:00:00\", \"2015-06-28T00:00:00\", \"2015-06-29T00:00:00\", \"2015-06-30T00:00:00\", \"2015-07-01T00:00:00\", \"2015-07-02T00:00:00\", \"2015-07-03T00:00:00\", \"2015-07-04T00:00:00\", \"2015-07-05T00:00:00\", \"2015-07-06T00:00:00\", \"2015-07-07T00:00:00\", \"2015-07-08T00:00:00\", \"2015-07-09T00:00:00\", \"2015-07-10T00:00:00\", \"2015-07-11T00:00:00\", \"2015-07-12T00:00:00\", \"2015-07-13T00:00:00\", \"2015-07-14T00:00:00\", \"2015-07-15T00:00:00\", \"2015-07-16T00:00:00\", \"2015-07-17T00:00:00\", \"2015-07-18T00:00:00\", \"2015-07-19T00:00:00\", \"2015-07-20T00:00:00\", \"2015-07-21T00:00:00\", \"2015-07-22T00:00:00\", \"2015-07-23T00:00:00\", \"2015-07-24T00:00:00\", \"2015-07-25T00:00:00\", \"2015-07-26T00:00:00\", \"2015-07-27T00:00:00\", \"2015-07-28T00:00:00\", \"2015-07-29T00:00:00\", \"2015-07-30T00:00:00\", \"2015-07-31T00:00:00\", \"2015-08-01T00:00:00\", \"2015-08-02T00:00:00\", \"2015-08-03T00:00:00\", \"2015-08-04T00:00:00\", \"2015-08-05T00:00:00\", \"2015-08-06T00:00:00\", \"2015-08-07T00:00:00\", \"2015-08-08T00:00:00\", \"2015-08-09T00:00:00\", \"2015-08-10T00:00:00\", \"2015-08-11T00:00:00\", \"2015-08-12T00:00:00\", \"2015-08-13T00:00:00\", \"2015-08-14T00:00:00\", \"2015-08-15T00:00:00\", \"2015-08-16T00:00:00\", \"2015-08-17T00:00:00\", \"2015-08-18T00:00:00\", \"2015-08-19T00:00:00\", \"2015-08-20T00:00:00\", \"2015-08-21T00:00:00\", \"2015-08-22T00:00:00\", \"2015-08-23T00:00:00\", \"2015-08-24T00:00:00\", \"2015-08-25T00:00:00\", \"2015-08-26T00:00:00\", \"2015-08-27T00:00:00\", \"2015-08-28T00:00:00\", \"2015-08-29T00:00:00\", \"2015-08-30T00:00:00\", \"2015-08-31T00:00:00\", \"2015-09-01T00:00:00\", \"2015-09-02T00:00:00\", \"2015-09-03T00:00:00\", \"2015-09-04T00:00:00\", \"2015-09-05T00:00:00\", \"2015-09-06T00:00:00\", \"2015-09-07T00:00:00\", \"2015-09-08T00:00:00\", \"2015-09-09T00:00:00\", \"2015-09-10T00:00:00\", \"2015-09-11T00:00:00\", \"2015-09-12T00:00:00\", \"2015-09-13T00:00:00\", \"2015-09-14T00:00:00\", \"2015-09-15T00:00:00\", \"2015-09-16T00:00:00\", \"2015-09-17T00:00:00\", \"2015-09-18T00:00:00\", \"2015-09-19T00:00:00\", \"2015-09-20T00:00:00\", \"2015-09-21T00:00:00\", \"2015-09-22T00:00:00\", \"2015-09-23T00:00:00\", \"2015-09-24T00:00:00\", \"2015-09-25T00:00:00\", \"2015-09-26T00:00:00\", \"2015-09-27T00:00:00\", \"2015-09-28T00:00:00\", \"2015-09-29T00:00:00\", \"2015-09-30T00:00:00\", \"2015-10-01T00:00:00\", \"2015-10-02T00:00:00\", \"2015-10-03T00:00:00\", \"2015-10-04T00:00:00\", \"2015-10-05T00:00:00\", \"2015-10-06T00:00:00\", \"2015-10-07T00:00:00\", \"2015-10-08T00:00:00\", \"2015-10-09T00:00:00\", \"2015-10-10T00:00:00\", \"2015-10-11T00:00:00\", \"2015-10-12T00:00:00\", \"2015-10-13T00:00:00\", \"2015-10-14T00:00:00\", \"2015-10-15T00:00:00\", \"2015-10-16T00:00:00\", \"2015-10-17T00:00:00\", \"2015-10-18T00:00:00\", \"2015-10-19T00:00:00\", \"2015-10-20T00:00:00\", \"2015-10-21T00:00:00\", \"2015-10-22T00:00:00\", \"2015-10-23T00:00:00\", \"2015-10-24T00:00:00\", \"2015-10-25T00:00:00\", \"2015-10-26T00:00:00\", \"2015-10-27T00:00:00\", \"2015-10-28T00:00:00\", \"2015-10-29T00:00:00\", \"2015-10-30T00:00:00\", \"2015-10-31T00:00:00\", \"2015-11-01T00:00:00\", \"2015-11-02T00:00:00\", \"2015-11-03T00:00:00\", \"2015-11-04T00:00:00\", \"2015-11-05T00:00:00\", \"2015-11-06T00:00:00\", \"2015-11-07T00:00:00\", \"2015-11-08T00:00:00\", \"2015-11-09T00:00:00\", \"2015-11-10T00:00:00\", \"2015-11-11T00:00:00\", \"2015-11-12T00:00:00\", \"2015-11-13T00:00:00\", \"2015-11-14T00:00:00\", \"2015-11-15T00:00:00\", \"2015-11-16T00:00:00\", \"2015-11-17T00:00:00\", \"2015-11-18T00:00:00\", \"2015-11-19T00:00:00\", \"2015-11-20T00:00:00\", \"2015-11-21T00:00:00\", \"2015-11-22T00:00:00\", \"2015-11-23T00:00:00\", \"2015-11-24T00:00:00\", \"2015-11-25T00:00:00\", \"2015-11-26T00:00:00\", \"2015-11-27T00:00:00\", \"2015-11-28T00:00:00\", \"2015-11-29T00:00:00\", \"2015-11-30T00:00:00\", \"2015-12-01T00:00:00\", \"2015-12-02T00:00:00\", \"2015-12-03T00:00:00\", \"2015-12-04T00:00:00\", \"2015-12-05T00:00:00\", \"2015-12-06T00:00:00\", \"2015-12-07T00:00:00\", \"2015-12-08T00:00:00\", \"2015-12-09T00:00:00\", \"2015-12-10T00:00:00\", \"2015-12-11T00:00:00\", \"2015-12-12T00:00:00\", \"2015-12-13T00:00:00\", \"2015-12-14T00:00:00\", \"2015-12-15T00:00:00\", \"2015-12-16T00:00:00\", \"2015-12-17T00:00:00\", \"2015-12-18T00:00:00\", \"2015-12-19T00:00:00\", \"2015-12-20T00:00:00\", \"2015-12-21T00:00:00\", \"2015-12-22T00:00:00\", \"2015-12-23T00:00:00\", \"2015-12-24T00:00:00\", \"2015-12-25T00:00:00\", \"2015-12-26T00:00:00\", \"2015-12-27T00:00:00\", \"2015-12-28T00:00:00\", \"2015-12-29T00:00:00\", \"2015-12-30T00:00:00\", \"2015-12-31T00:00:00\", \"2016-01-01T00:00:00\", \"2016-01-02T00:00:00\", \"2016-01-03T00:00:00\", \"2016-01-04T00:00:00\", \"2016-01-05T00:00:00\", \"2016-01-06T00:00:00\", \"2016-01-07T00:00:00\", \"2016-01-08T00:00:00\", \"2016-01-09T00:00:00\", \"2016-01-10T00:00:00\", \"2016-01-11T00:00:00\", \"2016-01-12T00:00:00\", \"2016-01-13T00:00:00\", \"2016-01-14T00:00:00\", \"2016-01-15T00:00:00\", \"2016-01-16T00:00:00\", \"2016-01-17T00:00:00\", \"2016-01-18T00:00:00\", \"2016-01-19T00:00:00\", \"2016-01-20T00:00:00\", \"2016-01-21T00:00:00\", \"2016-01-22T00:00:00\", \"2016-01-23T00:00:00\", \"2016-01-24T00:00:00\", \"2016-01-25T00:00:00\", \"2016-01-26T00:00:00\", \"2016-01-27T00:00:00\", \"2016-01-28T00:00:00\", \"2016-01-29T00:00:00\", \"2016-01-30T00:00:00\", \"2016-01-31T00:00:00\", \"2016-02-01T00:00:00\", \"2016-02-02T00:00:00\", \"2016-02-03T00:00:00\", \"2016-02-04T00:00:00\", \"2016-02-05T00:00:00\", \"2016-02-06T00:00:00\", \"2016-02-07T00:00:00\", \"2016-02-08T00:00:00\", \"2016-02-09T00:00:00\", \"2016-02-10T00:00:00\", \"2016-02-11T00:00:00\", \"2016-02-12T00:00:00\", \"2016-02-13T00:00:00\", \"2016-02-14T00:00:00\", \"2016-02-15T00:00:00\", \"2016-02-16T00:00:00\", \"2016-02-17T00:00:00\", \"2016-02-18T00:00:00\", \"2016-02-19T00:00:00\", \"2016-02-20T00:00:00\", \"2016-02-21T00:00:00\", \"2016-02-22T00:00:00\", \"2016-02-23T00:00:00\", \"2016-02-24T00:00:00\", \"2016-02-25T00:00:00\", \"2016-02-26T00:00:00\", \"2016-02-27T00:00:00\", \"2016-02-28T00:00:00\", \"2016-02-29T00:00:00\", \"2016-03-01T00:00:00\", \"2016-03-02T00:00:00\", \"2016-03-03T00:00:00\", \"2016-03-04T00:00:00\", \"2016-03-05T00:00:00\", \"2016-03-06T00:00:00\", \"2016-03-07T00:00:00\", \"2016-03-08T00:00:00\", \"2016-03-09T00:00:00\", \"2016-03-10T00:00:00\", \"2016-03-11T00:00:00\", \"2016-03-12T00:00:00\", \"2016-03-13T00:00:00\", \"2016-03-14T00:00:00\", \"2016-03-15T00:00:00\", \"2016-03-16T00:00:00\", \"2016-03-17T00:00:00\", \"2016-03-18T00:00:00\", \"2016-03-19T00:00:00\", \"2016-03-20T00:00:00\", \"2016-03-21T00:00:00\", \"2016-03-22T00:00:00\", \"2016-03-23T00:00:00\", \"2016-03-24T00:00:00\", \"2016-03-25T00:00:00\", \"2016-03-26T00:00:00\", \"2016-03-27T00:00:00\", \"2016-03-28T00:00:00\", \"2016-03-29T00:00:00\", \"2016-03-30T00:00:00\", \"2016-03-31T00:00:00\", \"2016-04-01T00:00:00\", \"2016-04-02T00:00:00\", \"2016-04-03T00:00:00\", \"2016-04-04T00:00:00\", \"2016-04-05T00:00:00\", \"2016-04-06T00:00:00\", \"2016-04-07T00:00:00\", \"2016-04-08T00:00:00\", \"2016-04-09T00:00:00\", \"2016-04-10T00:00:00\", \"2016-04-11T00:00:00\", \"2016-04-12T00:00:00\", \"2016-04-13T00:00:00\", \"2016-04-14T00:00:00\", \"2016-04-15T00:00:00\", \"2016-04-16T00:00:00\", \"2016-04-17T00:00:00\", \"2016-04-18T00:00:00\", \"2016-04-19T00:00:00\", \"2016-04-20T00:00:00\", \"2016-04-21T00:00:00\", \"2016-04-22T00:00:00\", \"2016-04-23T00:00:00\", \"2016-04-24T00:00:00\", \"2016-04-25T00:00:00\", \"2016-04-26T00:00:00\", \"2016-04-27T00:00:00\", \"2016-04-28T00:00:00\", \"2016-04-29T00:00:00\", \"2016-04-30T00:00:00\", \"2016-05-01T00:00:00\", \"2016-05-02T00:00:00\", \"2016-05-03T00:00:00\", \"2016-05-04T00:00:00\", \"2016-05-05T00:00:00\", \"2016-05-06T00:00:00\", \"2016-05-07T00:00:00\", \"2016-05-08T00:00:00\", \"2016-05-09T00:00:00\", \"2016-05-10T00:00:00\", \"2016-05-11T00:00:00\", \"2016-05-12T00:00:00\", \"2016-05-13T00:00:00\", \"2016-05-14T00:00:00\", \"2016-05-15T00:00:00\", \"2016-05-16T00:00:00\", \"2016-05-17T00:00:00\", \"2016-05-18T00:00:00\", \"2016-05-19T00:00:00\", \"2016-05-20T00:00:00\", \"2016-05-21T00:00:00\", \"2016-05-22T00:00:00\", \"2016-05-23T00:00:00\", \"2016-05-24T00:00:00\", \"2016-05-25T00:00:00\", \"2016-05-26T00:00:00\", \"2016-05-27T00:00:00\", \"2016-05-28T00:00:00\", \"2016-05-29T00:00:00\", \"2016-05-30T00:00:00\", \"2016-05-31T00:00:00\", \"2016-06-01T00:00:00\", \"2016-06-02T00:00:00\", \"2016-06-03T00:00:00\", \"2016-06-04T00:00:00\", \"2016-06-05T00:00:00\", \"2016-06-06T00:00:00\", \"2016-06-07T00:00:00\", \"2016-06-08T00:00:00\", \"2016-06-09T00:00:00\", \"2016-06-10T00:00:00\", \"2016-06-11T00:00:00\", \"2016-06-12T00:00:00\", \"2016-06-13T00:00:00\", \"2016-06-14T00:00:00\", \"2016-06-15T00:00:00\", \"2016-06-16T00:00:00\", \"2016-06-17T00:00:00\", \"2016-06-18T00:00:00\", \"2016-06-19T00:00:00\", \"2016-06-20T00:00:00\", \"2016-06-21T00:00:00\", \"2016-06-22T00:00:00\", \"2016-06-23T00:00:00\", \"2016-06-24T00:00:00\", \"2016-06-25T00:00:00\", \"2016-06-26T00:00:00\", \"2016-06-27T00:00:00\", \"2016-06-28T00:00:00\", \"2016-06-29T00:00:00\", \"2016-06-30T00:00:00\", \"2016-07-01T00:00:00\", \"2016-07-02T00:00:00\", \"2016-07-03T00:00:00\", \"2016-07-04T00:00:00\", \"2016-07-05T00:00:00\", \"2016-07-06T00:00:00\", \"2016-07-07T00:00:00\", \"2016-07-08T00:00:00\", \"2016-07-09T00:00:00\", \"2016-07-10T00:00:00\", \"2016-07-11T00:00:00\", \"2016-07-12T00:00:00\", \"2016-07-13T00:00:00\", \"2016-07-14T00:00:00\", \"2016-07-15T00:00:00\", \"2016-07-16T00:00:00\", \"2016-07-17T00:00:00\", \"2016-07-18T00:00:00\", \"2016-07-19T00:00:00\", \"2016-07-20T00:00:00\", \"2016-07-21T00:00:00\", \"2016-07-22T00:00:00\", \"2016-07-23T00:00:00\", \"2016-07-24T00:00:00\", \"2016-07-25T00:00:00\", \"2016-07-26T00:00:00\", \"2016-07-27T00:00:00\", \"2016-07-28T00:00:00\", \"2016-07-29T00:00:00\", \"2016-07-30T00:00:00\", \"2016-07-31T00:00:00\", \"2016-08-01T00:00:00\", \"2016-08-02T00:00:00\", \"2016-08-03T00:00:00\", \"2016-08-04T00:00:00\", \"2016-08-05T00:00:00\", \"2016-08-06T00:00:00\", \"2016-08-07T00:00:00\", \"2016-08-08T00:00:00\", \"2016-08-09T00:00:00\", \"2016-08-10T00:00:00\", \"2016-08-11T00:00:00\", \"2016-08-12T00:00:00\", \"2016-08-13T00:00:00\", \"2016-08-14T00:00:00\", \"2016-08-15T00:00:00\", \"2016-08-16T00:00:00\", \"2016-08-17T00:00:00\", \"2016-08-18T00:00:00\", \"2016-08-19T00:00:00\", \"2016-08-20T00:00:00\", \"2016-08-21T00:00:00\", \"2016-08-22T00:00:00\", \"2016-08-23T00:00:00\", \"2016-08-24T00:00:00\", \"2016-08-25T00:00:00\", \"2016-08-26T00:00:00\", \"2016-08-27T00:00:00\", \"2016-08-28T00:00:00\", \"2016-08-29T00:00:00\", \"2016-08-30T00:00:00\", \"2016-08-31T00:00:00\", \"2016-09-01T00:00:00\", \"2016-09-02T00:00:00\", \"2016-09-03T00:00:00\", \"2016-09-04T00:00:00\", \"2016-09-05T00:00:00\", \"2016-09-06T00:00:00\", \"2016-09-07T00:00:00\", \"2016-09-08T00:00:00\", \"2016-09-09T00:00:00\", \"2016-09-10T00:00:00\", \"2016-09-11T00:00:00\", \"2016-09-12T00:00:00\", \"2016-09-13T00:00:00\", \"2016-09-14T00:00:00\", \"2016-09-15T00:00:00\", \"2016-09-16T00:00:00\", \"2016-09-17T00:00:00\", \"2016-09-18T00:00:00\", \"2016-09-19T00:00:00\", \"2016-09-20T00:00:00\", \"2016-09-21T00:00:00\", \"2016-09-22T00:00:00\", \"2016-09-23T00:00:00\", \"2016-09-24T00:00:00\", \"2016-09-25T00:00:00\", \"2016-09-26T00:00:00\", \"2016-09-27T00:00:00\", \"2016-09-28T00:00:00\", \"2016-09-29T00:00:00\", \"2016-09-30T00:00:00\", \"2016-10-01T00:00:00\", \"2016-10-02T00:00:00\", \"2016-10-03T00:00:00\", \"2016-10-04T00:00:00\", \"2016-10-05T00:00:00\", \"2016-10-06T00:00:00\", \"2016-10-07T00:00:00\", \"2016-10-08T00:00:00\", \"2016-10-09T00:00:00\", \"2016-10-10T00:00:00\", \"2016-10-11T00:00:00\", \"2016-10-12T00:00:00\", \"2016-10-13T00:00:00\", \"2016-10-14T00:00:00\", \"2016-10-15T00:00:00\", \"2016-10-16T00:00:00\", \"2016-10-17T00:00:00\", \"2016-10-18T00:00:00\", \"2016-10-19T00:00:00\", \"2016-10-20T00:00:00\", \"2016-10-21T00:00:00\", \"2016-10-22T00:00:00\", \"2016-10-23T00:00:00\", \"2016-10-24T00:00:00\", \"2016-10-25T00:00:00\", \"2016-10-26T00:00:00\", \"2016-10-27T00:00:00\", \"2016-10-28T00:00:00\", \"2016-10-29T00:00:00\", \"2016-10-30T00:00:00\", \"2016-10-31T00:00:00\", \"2016-11-01T00:00:00\", \"2016-11-02T00:00:00\", \"2016-11-03T00:00:00\", \"2016-11-04T00:00:00\", \"2016-11-05T00:00:00\", \"2016-11-06T00:00:00\", \"2016-11-07T00:00:00\", \"2016-11-08T00:00:00\", \"2016-11-09T00:00:00\", \"2016-11-10T00:00:00\", \"2016-11-11T00:00:00\", \"2016-11-12T00:00:00\", \"2016-11-13T00:00:00\", \"2016-11-14T00:00:00\", \"2016-11-15T00:00:00\", \"2016-11-16T00:00:00\", \"2016-11-17T00:00:00\", \"2016-11-18T00:00:00\", \"2016-11-19T00:00:00\", \"2016-11-20T00:00:00\", \"2016-11-21T00:00:00\", \"2016-11-22T00:00:00\", \"2016-11-23T00:00:00\", \"2016-11-24T00:00:00\", \"2016-11-25T00:00:00\", \"2016-11-26T00:00:00\", \"2016-11-27T00:00:00\", \"2016-11-28T00:00:00\", \"2016-11-29T00:00:00\", \"2016-11-30T00:00:00\", \"2016-12-01T00:00:00\", \"2016-12-02T00:00:00\", \"2016-12-03T00:00:00\", \"2016-12-04T00:00:00\", \"2016-12-05T00:00:00\", \"2016-12-06T00:00:00\", \"2016-12-07T00:00:00\", \"2016-12-08T00:00:00\", \"2016-12-09T00:00:00\", \"2016-12-10T00:00:00\", \"2016-12-11T00:00:00\", \"2016-12-12T00:00:00\", \"2016-12-13T00:00:00\", \"2016-12-14T00:00:00\", \"2016-12-15T00:00:00\", \"2016-12-16T00:00:00\", \"2016-12-17T00:00:00\", \"2016-12-18T00:00:00\", \"2016-12-19T00:00:00\", \"2016-12-20T00:00:00\", \"2016-12-21T00:00:00\", \"2016-12-22T00:00:00\", \"2016-12-23T00:00:00\", \"2016-12-24T00:00:00\", \"2016-12-25T00:00:00\", \"2016-12-26T00:00:00\", \"2016-12-27T00:00:00\", \"2016-12-28T00:00:00\", \"2016-12-29T00:00:00\", \"2016-12-30T00:00:00\", \"2016-12-31T00:00:00\", \"2017-01-01T00:00:00\", \"2017-01-02T00:00:00\", \"2017-01-03T00:00:00\", \"2017-01-04T00:00:00\", \"2017-01-05T00:00:00\", \"2017-01-06T00:00:00\", \"2017-01-07T00:00:00\", \"2017-01-08T00:00:00\", \"2017-01-09T00:00:00\", \"2017-01-10T00:00:00\", \"2017-01-11T00:00:00\", \"2017-01-12T00:00:00\", \"2017-01-13T00:00:00\", \"2017-01-14T00:00:00\", \"2017-01-15T00:00:00\", \"2017-01-16T00:00:00\", \"2017-01-17T00:00:00\", \"2017-01-18T00:00:00\", \"2017-01-19T00:00:00\", \"2017-01-20T00:00:00\", \"2017-01-21T00:00:00\", \"2017-01-22T00:00:00\", \"2017-01-23T00:00:00\", \"2017-01-24T00:00:00\", \"2017-01-25T00:00:00\", \"2017-01-26T00:00:00\", \"2017-01-27T00:00:00\", \"2017-01-28T00:00:00\", \"2017-01-29T00:00:00\", \"2017-01-30T00:00:00\", \"2017-01-31T00:00:00\", \"2017-02-01T00:00:00\", \"2017-02-02T00:00:00\", \"2017-02-03T00:00:00\", \"2017-02-04T00:00:00\", \"2017-02-05T00:00:00\", \"2017-02-06T00:00:00\", \"2017-02-07T00:00:00\", \"2017-02-08T00:00:00\", \"2017-02-09T00:00:00\", \"2017-02-10T00:00:00\", \"2017-02-11T00:00:00\", \"2017-02-12T00:00:00\", \"2017-02-13T00:00:00\", \"2017-02-14T00:00:00\", \"2017-02-15T00:00:00\", \"2017-02-16T00:00:00\", \"2017-02-17T00:00:00\", \"2017-02-18T00:00:00\", \"2017-02-19T00:00:00\", \"2017-02-20T00:00:00\", \"2017-02-21T00:00:00\", \"2017-02-22T00:00:00\", \"2017-02-23T00:00:00\", \"2017-02-24T00:00:00\", \"2017-02-25T00:00:00\", \"2017-02-26T00:00:00\", \"2017-02-27T00:00:00\", \"2017-02-28T00:00:00\", \"2017-03-01T00:00:00\", \"2017-03-02T00:00:00\", \"2017-03-03T00:00:00\", \"2017-03-04T00:00:00\", \"2017-03-05T00:00:00\", \"2017-03-06T00:00:00\", \"2017-03-07T00:00:00\", \"2017-03-08T00:00:00\", \"2017-03-09T00:00:00\", \"2017-03-10T00:00:00\", \"2017-03-11T00:00:00\", \"2017-03-12T00:00:00\", \"2017-03-13T00:00:00\", \"2017-03-14T00:00:00\", \"2017-03-15T00:00:00\", \"2017-03-16T00:00:00\", \"2017-03-17T00:00:00\", \"2017-03-18T00:00:00\", \"2017-03-19T00:00:00\", \"2017-03-20T00:00:00\", \"2017-03-21T00:00:00\", \"2017-03-22T00:00:00\", \"2017-03-23T00:00:00\", \"2017-03-24T00:00:00\", \"2017-03-25T00:00:00\", \"2017-03-26T00:00:00\", \"2017-03-27T00:00:00\", \"2017-03-28T00:00:00\", \"2017-03-29T00:00:00\", \"2017-03-30T00:00:00\", \"2017-03-31T00:00:00\", \"2017-04-01T00:00:00\", \"2017-04-02T00:00:00\", \"2017-04-03T00:00:00\", \"2017-04-04T00:00:00\", \"2017-04-05T00:00:00\", \"2017-04-06T00:00:00\", \"2017-04-07T00:00:00\", \"2017-04-08T00:00:00\", \"2017-04-09T00:00:00\", \"2017-04-10T00:00:00\", \"2017-04-11T00:00:00\", \"2017-04-12T00:00:00\", \"2017-04-13T00:00:00\", \"2017-04-14T00:00:00\", \"2017-04-15T00:00:00\", \"2017-04-16T00:00:00\", \"2017-04-17T00:00:00\", \"2017-04-18T00:00:00\", \"2017-04-19T00:00:00\", \"2017-04-20T00:00:00\", \"2017-04-21T00:00:00\", \"2017-04-22T00:00:00\", \"2017-04-23T00:00:00\", \"2017-04-24T00:00:00\", \"2017-04-25T00:00:00\", \"2017-04-26T00:00:00\", \"2017-04-27T00:00:00\", \"2017-04-28T00:00:00\", \"2017-04-29T00:00:00\", \"2017-04-30T00:00:00\", \"2017-05-01T00:00:00\", \"2017-05-02T00:00:00\", \"2017-05-03T00:00:00\", \"2017-05-04T00:00:00\", \"2017-05-05T00:00:00\", \"2017-05-06T00:00:00\", \"2017-05-07T00:00:00\", \"2017-05-08T00:00:00\", \"2017-05-09T00:00:00\", \"2017-05-10T00:00:00\", \"2017-05-11T00:00:00\", \"2017-05-12T00:00:00\", \"2017-05-13T00:00:00\", \"2017-05-14T00:00:00\", \"2017-05-15T00:00:00\", \"2017-05-16T00:00:00\", \"2017-05-17T00:00:00\", \"2017-05-18T00:00:00\", \"2017-05-19T00:00:00\", \"2017-05-20T00:00:00\", \"2017-05-21T00:00:00\", \"2017-05-22T00:00:00\", \"2017-05-23T00:00:00\", \"2017-05-24T00:00:00\", \"2017-05-25T00:00:00\", \"2017-05-26T00:00:00\", \"2017-05-27T00:00:00\", \"2017-05-28T00:00:00\", \"2017-05-29T00:00:00\", \"2017-05-30T00:00:00\", \"2017-05-31T00:00:00\", \"2017-06-01T00:00:00\", \"2017-06-02T00:00:00\", \"2017-06-03T00:00:00\", \"2017-06-04T00:00:00\", \"2017-06-05T00:00:00\", \"2017-06-06T00:00:00\", \"2017-06-07T00:00:00\", \"2017-06-08T00:00:00\", \"2017-06-09T00:00:00\", \"2017-06-10T00:00:00\", \"2017-06-11T00:00:00\", \"2017-06-12T00:00:00\", \"2017-06-13T00:00:00\", \"2017-06-14T00:00:00\", \"2017-06-15T00:00:00\", \"2017-06-16T00:00:00\", \"2017-06-17T00:00:00\", \"2017-06-18T00:00:00\", \"2017-06-19T00:00:00\", \"2017-06-20T00:00:00\", \"2017-06-21T00:00:00\", \"2017-06-22T00:00:00\", \"2017-06-23T00:00:00\", \"2017-06-24T00:00:00\", \"2017-06-25T00:00:00\", \"2017-06-26T00:00:00\", \"2017-06-27T00:00:00\", \"2017-06-28T00:00:00\", \"2017-06-29T00:00:00\", \"2017-06-30T00:00:00\", \"2017-07-01T00:00:00\", \"2017-07-02T00:00:00\", \"2017-07-03T00:00:00\", \"2017-07-04T00:00:00\", \"2017-07-05T00:00:00\", \"2017-07-06T00:00:00\", \"2017-07-07T00:00:00\", \"2017-07-08T00:00:00\", \"2017-07-09T00:00:00\", \"2017-07-10T00:00:00\", \"2017-07-11T00:00:00\", \"2017-07-12T00:00:00\", \"2017-07-13T00:00:00\", \"2017-07-14T00:00:00\", \"2017-07-15T00:00:00\", \"2017-07-16T00:00:00\", \"2017-07-17T00:00:00\", \"2017-07-18T00:00:00\", \"2017-07-19T00:00:00\", \"2017-07-20T00:00:00\", \"2017-07-21T00:00:00\", \"2017-07-22T00:00:00\", \"2017-07-23T00:00:00\", \"2017-07-24T00:00:00\", \"2017-07-25T00:00:00\", \"2017-07-26T00:00:00\", \"2017-07-27T00:00:00\", \"2017-07-28T00:00:00\", \"2017-07-29T00:00:00\", \"2017-07-30T00:00:00\", \"2017-07-31T00:00:00\", \"2017-08-01T00:00:00\", \"2017-08-02T00:00:00\", \"2017-08-03T00:00:00\", \"2017-08-04T00:00:00\", \"2017-08-05T00:00:00\", \"2017-08-06T00:00:00\", \"2017-08-07T00:00:00\", \"2017-08-08T00:00:00\", \"2017-08-09T00:00:00\", \"2017-08-10T00:00:00\", \"2017-08-11T00:00:00\", \"2017-08-12T00:00:00\", \"2017-08-13T00:00:00\", \"2017-08-14T00:00:00\", \"2017-08-15T00:00:00\", \"2017-08-16T00:00:00\", \"2017-08-17T00:00:00\", \"2017-08-18T00:00:00\", \"2017-08-19T00:00:00\", \"2017-08-20T00:00:00\", \"2017-08-21T00:00:00\", \"2017-08-22T00:00:00\", \"2017-08-23T00:00:00\", \"2017-08-24T00:00:00\", \"2017-08-25T00:00:00\", \"2017-08-26T00:00:00\", \"2017-08-27T00:00:00\", \"2017-08-28T00:00:00\", \"2017-08-29T00:00:00\", \"2017-08-30T00:00:00\", \"2017-08-31T00:00:00\", \"2017-09-01T00:00:00\", \"2017-09-02T00:00:00\", \"2017-09-03T00:00:00\", \"2017-09-04T00:00:00\", \"2017-09-05T00:00:00\", \"2017-09-06T00:00:00\", \"2017-09-07T00:00:00\", \"2017-09-08T00:00:00\", \"2017-09-09T00:00:00\", \"2017-09-10T00:00:00\", \"2017-09-11T00:00:00\", \"2017-09-12T00:00:00\", \"2017-09-13T00:00:00\", \"2017-09-14T00:00:00\", \"2017-09-15T00:00:00\", \"2017-09-16T00:00:00\", \"2017-09-17T00:00:00\", \"2017-09-18T00:00:00\", \"2017-09-19T00:00:00\", \"2017-09-20T00:00:00\", \"2017-09-21T00:00:00\", \"2017-09-22T00:00:00\", \"2017-09-23T00:00:00\", \"2017-09-24T00:00:00\", \"2017-09-25T00:00:00\", \"2017-09-26T00:00:00\", \"2017-09-27T00:00:00\", \"2017-09-28T00:00:00\", \"2017-09-29T00:00:00\", \"2017-09-30T00:00:00\", \"2017-10-01T00:00:00\", \"2017-10-02T00:00:00\", \"2017-10-03T00:00:00\", \"2017-10-04T00:00:00\", \"2017-10-05T00:00:00\", \"2017-10-06T00:00:00\", \"2017-10-07T00:00:00\", \"2017-10-08T00:00:00\", \"2017-10-09T00:00:00\", \"2017-10-10T00:00:00\", \"2017-10-11T00:00:00\", \"2017-10-12T00:00:00\", \"2017-10-13T00:00:00\", \"2017-10-14T00:00:00\", \"2017-10-15T00:00:00\", \"2017-10-16T00:00:00\", \"2017-10-17T00:00:00\", \"2017-10-18T00:00:00\", \"2017-10-19T00:00:00\", \"2017-10-20T00:00:00\", \"2017-10-21T00:00:00\", \"2017-10-22T00:00:00\", \"2017-10-23T00:00:00\", \"2017-10-24T00:00:00\", \"2017-10-25T00:00:00\", \"2017-10-26T00:00:00\", \"2017-10-27T00:00:00\", \"2017-10-28T00:00:00\", \"2017-10-29T00:00:00\", \"2017-10-30T00:00:00\", \"2017-10-31T00:00:00\", \"2017-11-01T00:00:00\", \"2017-11-02T00:00:00\", \"2017-11-03T00:00:00\", \"2017-11-04T00:00:00\", \"2017-11-05T00:00:00\", \"2017-11-06T00:00:00\", \"2017-11-07T00:00:00\", \"2017-11-08T00:00:00\", \"2017-11-09T00:00:00\", \"2017-11-10T00:00:00\", \"2017-11-11T00:00:00\", \"2017-11-12T00:00:00\", \"2017-11-13T00:00:00\", \"2017-11-14T00:00:00\", \"2017-11-15T00:00:00\", \"2017-11-16T00:00:00\", \"2017-11-17T00:00:00\", \"2017-11-18T00:00:00\", \"2017-11-19T00:00:00\", \"2017-11-20T00:00:00\", \"2017-11-21T00:00:00\", \"2017-11-22T00:00:00\", \"2017-11-23T00:00:00\", \"2017-11-24T00:00:00\", \"2017-11-25T00:00:00\", \"2017-11-26T00:00:00\", \"2017-11-27T00:00:00\", \"2017-11-28T00:00:00\", \"2017-11-29T00:00:00\", \"2017-11-30T00:00:00\", \"2017-12-01T00:00:00\", \"2017-12-02T00:00:00\", \"2017-12-03T00:00:00\", \"2017-12-04T00:00:00\", \"2017-12-05T00:00:00\", \"2017-12-06T00:00:00\", \"2017-12-07T00:00:00\", \"2017-12-08T00:00:00\", \"2017-12-09T00:00:00\", \"2017-12-10T00:00:00\", \"2017-12-11T00:00:00\", \"2017-12-12T00:00:00\", \"2017-12-13T00:00:00\", \"2017-12-14T00:00:00\", \"2017-12-15T00:00:00\", \"2017-12-16T00:00:00\", \"2017-12-17T00:00:00\", \"2017-12-18T00:00:00\", \"2017-12-19T00:00:00\", \"2017-12-20T00:00:00\", \"2017-12-21T00:00:00\", \"2017-12-22T00:00:00\", \"2017-12-23T00:00:00\", \"2017-12-24T00:00:00\", \"2017-12-25T00:00:00\", \"2017-12-26T00:00:00\", \"2017-12-27T00:00:00\", \"2017-12-28T00:00:00\", \"2017-12-29T00:00:00\", \"2017-12-30T00:00:00\", \"2017-12-31T00:00:00\", \"2018-01-01T00:00:00\", \"2018-01-02T00:00:00\", \"2018-01-03T00:00:00\", \"2018-01-04T00:00:00\", \"2018-01-05T00:00:00\", \"2018-01-06T00:00:00\", \"2018-01-07T00:00:00\", \"2018-01-08T00:00:00\", \"2018-01-09T00:00:00\", \"2018-01-10T00:00:00\", \"2018-01-11T00:00:00\", \"2018-01-12T00:00:00\", \"2018-01-13T00:00:00\", \"2018-01-14T00:00:00\", \"2018-01-15T00:00:00\", \"2018-01-16T00:00:00\", \"2018-01-17T00:00:00\", \"2018-01-18T00:00:00\", \"2018-01-19T00:00:00\", \"2018-01-20T00:00:00\", \"2018-01-21T00:00:00\", \"2018-01-22T00:00:00\", \"2018-01-23T00:00:00\", \"2018-01-24T00:00:00\", \"2018-01-25T00:00:00\", \"2018-01-26T00:00:00\", \"2018-01-27T00:00:00\", \"2018-01-28T00:00:00\", \"2018-01-29T00:00:00\", \"2018-01-30T00:00:00\", \"2018-01-31T00:00:00\", \"2018-02-01T00:00:00\", \"2018-02-02T00:00:00\", \"2018-02-03T00:00:00\", \"2018-02-04T00:00:00\", \"2018-02-05T00:00:00\", \"2018-02-06T00:00:00\", \"2018-02-07T00:00:00\", \"2018-02-08T00:00:00\", \"2018-02-09T00:00:00\", \"2018-02-10T00:00:00\", \"2018-02-11T00:00:00\", \"2018-02-12T00:00:00\", \"2018-02-13T00:00:00\", \"2018-02-14T00:00:00\", \"2018-02-15T00:00:00\", \"2018-02-16T00:00:00\", \"2018-02-17T00:00:00\", \"2018-02-18T00:00:00\", \"2018-02-19T00:00:00\", \"2018-02-20T00:00:00\", \"2018-02-21T00:00:00\", \"2018-02-22T00:00:00\", \"2018-02-23T00:00:00\", \"2018-02-24T00:00:00\", \"2018-02-25T00:00:00\", \"2018-02-26T00:00:00\", \"2018-02-27T00:00:00\", \"2018-02-28T00:00:00\", \"2018-03-01T00:00:00\", \"2018-03-02T00:00:00\", \"2018-03-03T00:00:00\", \"2018-03-04T00:00:00\", \"2018-03-05T00:00:00\", \"2018-03-06T00:00:00\", \"2018-03-07T00:00:00\", \"2018-03-08T00:00:00\", \"2018-03-09T00:00:00\", \"2018-03-10T00:00:00\", \"2018-03-11T00:00:00\", \"2018-03-12T00:00:00\", \"2018-03-13T00:00:00\", \"2018-03-14T00:00:00\", \"2018-03-15T00:00:00\", \"2018-03-16T00:00:00\", \"2018-03-17T00:00:00\", \"2018-03-18T00:00:00\", \"2018-03-19T00:00:00\", \"2018-03-20T00:00:00\", \"2018-03-21T00:00:00\", \"2018-03-22T00:00:00\", \"2018-03-23T00:00:00\", \"2018-03-24T00:00:00\", \"2018-03-25T00:00:00\", \"2018-03-26T00:00:00\", \"2018-03-27T00:00:00\", \"2018-03-28T00:00:00\", \"2018-03-29T00:00:00\", \"2018-03-30T00:00:00\", \"2018-03-31T00:00:00\", \"2018-04-01T00:00:00\", \"2018-04-02T00:00:00\", \"2018-04-03T00:00:00\", \"2018-04-04T00:00:00\", \"2018-04-05T00:00:00\", \"2018-04-06T00:00:00\", \"2018-04-07T00:00:00\", \"2018-04-08T00:00:00\", \"2018-04-09T00:00:00\", \"2018-04-10T00:00:00\", \"2018-04-11T00:00:00\", \"2018-04-12T00:00:00\", \"2018-04-13T00:00:00\", \"2018-04-14T00:00:00\", \"2018-04-15T00:00:00\", \"2018-04-16T00:00:00\", \"2018-04-17T00:00:00\", \"2018-04-18T00:00:00\", \"2018-04-19T00:00:00\", \"2018-04-20T00:00:00\", \"2018-04-21T00:00:00\", \"2018-04-22T00:00:00\", \"2018-04-23T00:00:00\", \"2018-04-24T00:00:00\", \"2018-04-25T00:00:00\", \"2018-04-26T00:00:00\", \"2018-04-27T00:00:00\", \"2018-04-28T00:00:00\", \"2018-04-29T00:00:00\", \"2018-04-30T00:00:00\", \"2018-05-01T00:00:00\", \"2018-05-02T00:00:00\", \"2018-05-03T00:00:00\", \"2018-05-04T00:00:00\", \"2018-05-05T00:00:00\", \"2018-05-06T00:00:00\", \"2018-05-07T00:00:00\", \"2018-05-08T00:00:00\", \"2018-05-09T00:00:00\", \"2018-05-10T00:00:00\", \"2018-05-11T00:00:00\", \"2018-05-12T00:00:00\", \"2018-05-13T00:00:00\", \"2018-05-14T00:00:00\", \"2018-05-15T00:00:00\", \"2018-05-16T00:00:00\", \"2018-05-17T00:00:00\", \"2018-05-18T00:00:00\", \"2018-05-19T00:00:00\", \"2018-05-20T00:00:00\", \"2018-05-21T00:00:00\", \"2018-05-22T00:00:00\", \"2018-05-23T00:00:00\", \"2018-05-24T00:00:00\", \"2018-05-25T00:00:00\", \"2018-05-26T00:00:00\", \"2018-05-27T00:00:00\", \"2018-05-28T00:00:00\", \"2018-05-29T00:00:00\", \"2018-05-30T00:00:00\", \"2018-05-31T00:00:00\", \"2018-06-01T00:00:00\", \"2018-06-02T00:00:00\", \"2018-06-03T00:00:00\", \"2018-06-04T00:00:00\", \"2018-06-05T00:00:00\", \"2018-06-06T00:00:00\", \"2018-06-07T00:00:00\", \"2018-06-08T00:00:00\", \"2018-06-09T00:00:00\", \"2018-06-10T00:00:00\", \"2018-06-11T00:00:00\", \"2018-06-12T00:00:00\", \"2018-06-13T00:00:00\", \"2018-06-14T00:00:00\", \"2018-06-15T00:00:00\", \"2018-06-16T00:00:00\", \"2018-06-17T00:00:00\", \"2018-06-18T00:00:00\", \"2018-06-19T00:00:00\", \"2018-06-20T00:00:00\", \"2018-06-21T00:00:00\", \"2018-06-22T00:00:00\", \"2018-06-23T00:00:00\", \"2018-06-24T00:00:00\", \"2018-06-25T00:00:00\", \"2018-06-26T00:00:00\", \"2018-06-27T00:00:00\", \"2018-06-28T00:00:00\", \"2018-06-29T00:00:00\", \"2018-06-30T00:00:00\", \"2018-07-01T00:00:00\", \"2018-07-02T00:00:00\", \"2018-07-03T00:00:00\", \"2018-07-04T00:00:00\", \"2018-07-05T00:00:00\", \"2018-07-06T00:00:00\", \"2018-07-07T00:00:00\", \"2018-07-08T00:00:00\", \"2018-07-09T00:00:00\", \"2018-07-10T00:00:00\", \"2018-07-11T00:00:00\", \"2018-07-12T00:00:00\", \"2018-07-13T00:00:00\", \"2018-07-14T00:00:00\", \"2018-07-15T00:00:00\", \"2018-07-16T00:00:00\", \"2018-07-17T00:00:00\", \"2018-07-18T00:00:00\", \"2018-07-19T00:00:00\", \"2018-07-20T00:00:00\", \"2018-07-21T00:00:00\", \"2018-07-22T00:00:00\", \"2018-07-23T00:00:00\", \"2018-07-24T00:00:00\", \"2018-07-25T00:00:00\", \"2018-07-26T00:00:00\", \"2018-07-27T00:00:00\", \"2018-07-28T00:00:00\", \"2018-07-29T00:00:00\", \"2018-07-30T00:00:00\", \"2018-07-31T00:00:00\", \"2018-08-01T00:00:00\", \"2018-08-02T00:00:00\", \"2018-08-03T00:00:00\", \"2018-08-04T00:00:00\", \"2018-08-05T00:00:00\", \"2018-08-06T00:00:00\", \"2018-08-07T00:00:00\", \"2018-08-08T00:00:00\", \"2018-08-09T00:00:00\", \"2018-08-10T00:00:00\", \"2018-08-11T00:00:00\", \"2018-08-12T00:00:00\", \"2018-08-13T00:00:00\", \"2018-08-14T00:00:00\", \"2018-08-15T00:00:00\", \"2018-08-16T00:00:00\", \"2018-08-17T00:00:00\", \"2018-08-18T00:00:00\", \"2018-08-19T00:00:00\", \"2018-08-20T00:00:00\", \"2018-08-21T00:00:00\", \"2018-08-22T00:00:00\", \"2018-08-23T00:00:00\", \"2018-08-24T00:00:00\", \"2018-08-25T00:00:00\", \"2018-08-26T00:00:00\", \"2018-08-27T00:00:00\", \"2018-08-28T00:00:00\", \"2018-08-29T00:00:00\", \"2018-08-30T00:00:00\", \"2018-08-31T00:00:00\", \"2018-09-01T00:00:00\", \"2018-09-02T00:00:00\", \"2018-09-03T00:00:00\", \"2018-09-04T00:00:00\", \"2018-09-05T00:00:00\", \"2018-09-06T00:00:00\", \"2018-09-07T00:00:00\", \"2018-09-08T00:00:00\", \"2018-09-09T00:00:00\", \"2018-09-10T00:00:00\", \"2018-09-11T00:00:00\", \"2018-09-12T00:00:00\", \"2018-09-13T00:00:00\", \"2018-09-14T00:00:00\", \"2018-09-15T00:00:00\", \"2018-09-16T00:00:00\", \"2018-09-17T00:00:00\", \"2018-09-18T00:00:00\", \"2018-09-19T00:00:00\", \"2018-09-20T00:00:00\", \"2018-09-21T00:00:00\", \"2018-09-22T00:00:00\", \"2018-09-23T00:00:00\", \"2018-09-24T00:00:00\", \"2018-09-25T00:00:00\", \"2018-09-26T00:00:00\", \"2018-09-27T00:00:00\", \"2018-09-28T00:00:00\", \"2018-09-29T00:00:00\", \"2018-09-30T00:00:00\", \"2018-10-01T00:00:00\", \"2018-10-02T00:00:00\", \"2018-10-03T00:00:00\", \"2018-10-04T00:00:00\", \"2018-10-05T00:00:00\", \"2018-10-06T00:00:00\", \"2018-10-07T00:00:00\", \"2018-10-08T00:00:00\", \"2018-10-09T00:00:00\", \"2018-10-10T00:00:00\", \"2018-10-11T00:00:00\", \"2018-10-12T00:00:00\", \"2018-10-13T00:00:00\", \"2018-10-14T00:00:00\", \"2018-10-15T00:00:00\", \"2018-10-16T00:00:00\", \"2018-10-17T00:00:00\", \"2018-10-18T00:00:00\", \"2018-10-19T00:00:00\", \"2018-10-20T00:00:00\", \"2018-10-21T00:00:00\", \"2018-10-22T00:00:00\", \"2018-10-23T00:00:00\", \"2018-10-24T00:00:00\", \"2018-10-25T00:00:00\", \"2018-10-26T00:00:00\", \"2018-10-27T00:00:00\", \"2018-10-28T00:00:00\", \"2018-10-29T00:00:00\", \"2018-10-30T00:00:00\", \"2018-10-31T00:00:00\", \"2018-11-01T00:00:00\", \"2018-11-02T00:00:00\", \"2018-11-03T00:00:00\", \"2018-11-04T00:00:00\", \"2018-11-05T00:00:00\", \"2018-11-06T00:00:00\", \"2018-11-07T00:00:00\", \"2018-11-08T00:00:00\", \"2018-11-09T00:00:00\", \"2018-11-10T00:00:00\", \"2018-11-11T00:00:00\", \"2018-11-12T00:00:00\", \"2018-11-13T00:00:00\", \"2018-11-14T00:00:00\", \"2018-11-15T00:00:00\", \"2018-11-16T00:00:00\", \"2018-11-17T00:00:00\", \"2018-11-18T00:00:00\", \"2018-11-19T00:00:00\", \"2018-11-20T00:00:00\", \"2018-11-21T00:00:00\", \"2018-11-22T00:00:00\", \"2018-11-23T00:00:00\", \"2018-11-24T00:00:00\", \"2018-11-25T00:00:00\", \"2018-11-26T00:00:00\", \"2018-11-27T00:00:00\", \"2018-11-28T00:00:00\", \"2018-11-29T00:00:00\", \"2018-11-30T00:00:00\", \"2018-12-01T00:00:00\", \"2018-12-02T00:00:00\", \"2018-12-03T00:00:00\", \"2018-12-04T00:00:00\", \"2018-12-05T00:00:00\", \"2018-12-06T00:00:00\", \"2018-12-07T00:00:00\", \"2018-12-08T00:00:00\", \"2018-12-09T00:00:00\", \"2018-12-10T00:00:00\", \"2018-12-11T00:00:00\", \"2018-12-12T00:00:00\", \"2018-12-13T00:00:00\", \"2018-12-14T00:00:00\", \"2018-12-15T00:00:00\", \"2018-12-16T00:00:00\", \"2018-12-17T00:00:00\", \"2018-12-18T00:00:00\", \"2018-12-19T00:00:00\", \"2018-12-20T00:00:00\", \"2018-12-21T00:00:00\", \"2018-12-22T00:00:00\", \"2018-12-23T00:00:00\", \"2018-12-24T00:00:00\", \"2018-12-25T00:00:00\", \"2018-12-26T00:00:00\", \"2018-12-27T00:00:00\", \"2018-12-28T00:00:00\", \"2018-12-29T00:00:00\", \"2018-12-30T00:00:00\", \"2018-12-31T00:00:00\", \"2019-01-01T00:00:00\", \"2019-01-02T00:00:00\", \"2019-01-03T00:00:00\", \"2019-01-04T00:00:00\", \"2019-01-05T00:00:00\", \"2019-01-06T00:00:00\", \"2019-01-07T00:00:00\", \"2019-01-08T00:00:00\", \"2019-01-09T00:00:00\", \"2019-01-10T00:00:00\", \"2019-01-11T00:00:00\", \"2019-01-12T00:00:00\", \"2019-01-13T00:00:00\", \"2019-01-14T00:00:00\", \"2019-01-15T00:00:00\", \"2019-01-16T00:00:00\", \"2019-01-17T00:00:00\", \"2019-01-18T00:00:00\", \"2019-01-19T00:00:00\", \"2019-01-20T00:00:00\", \"2019-01-21T00:00:00\", \"2019-01-22T00:00:00\", \"2019-01-23T00:00:00\", \"2019-01-24T00:00:00\", \"2019-01-25T00:00:00\", \"2019-01-26T00:00:00\", \"2019-01-27T00:00:00\", \"2019-01-28T00:00:00\", \"2019-01-29T00:00:00\", \"2019-01-30T00:00:00\", \"2019-01-31T00:00:00\", \"2019-02-01T00:00:00\", \"2019-02-02T00:00:00\", \"2019-02-03T00:00:00\", \"2019-02-04T00:00:00\", \"2019-02-05T00:00:00\", \"2019-02-06T00:00:00\", \"2019-02-07T00:00:00\", \"2019-02-08T00:00:00\", \"2019-02-09T00:00:00\", \"2019-02-10T00:00:00\", \"2019-02-11T00:00:00\", \"2019-02-12T00:00:00\", \"2019-02-13T00:00:00\", \"2019-02-14T00:00:00\", \"2019-02-15T00:00:00\", \"2019-02-16T00:00:00\", \"2019-02-17T00:00:00\", \"2019-02-18T00:00:00\", \"2019-02-19T00:00:00\", \"2019-02-20T00:00:00\", \"2019-02-21T00:00:00\", \"2019-02-22T00:00:00\", \"2019-02-23T00:00:00\", \"2019-02-24T00:00:00\", \"2019-02-25T00:00:00\", \"2019-02-26T00:00:00\", \"2019-02-27T00:00:00\", \"2019-02-28T00:00:00\", \"2019-03-01T00:00:00\", \"2019-03-02T00:00:00\", \"2019-03-03T00:00:00\", \"2019-03-04T00:00:00\", \"2019-03-05T00:00:00\", \"2019-03-06T00:00:00\", \"2019-03-07T00:00:00\", \"2019-03-08T00:00:00\", \"2019-03-09T00:00:00\", \"2019-03-10T00:00:00\", \"2019-03-11T00:00:00\", \"2019-03-12T00:00:00\", \"2019-03-13T00:00:00\", \"2019-03-14T00:00:00\", \"2019-03-15T00:00:00\", \"2019-03-16T00:00:00\", \"2019-03-17T00:00:00\", \"2019-03-18T00:00:00\", \"2019-03-19T00:00:00\", \"2019-03-20T00:00:00\", \"2019-03-21T00:00:00\", \"2019-03-22T00:00:00\", \"2019-03-23T00:00:00\", \"2019-03-24T00:00:00\", \"2019-03-25T00:00:00\", \"2019-03-26T00:00:00\", \"2019-03-27T00:00:00\", \"2019-03-28T00:00:00\", \"2019-03-29T00:00:00\", \"2019-03-30T00:00:00\", \"2019-03-31T00:00:00\", \"2019-04-01T00:00:00\", \"2019-04-02T00:00:00\", \"2019-04-03T00:00:00\", \"2019-04-04T00:00:00\", \"2019-04-05T00:00:00\", \"2019-04-06T00:00:00\", \"2019-04-07T00:00:00\", \"2019-04-08T00:00:00\", \"2019-04-09T00:00:00\", \"2019-04-10T00:00:00\", \"2019-04-11T00:00:00\", \"2019-04-12T00:00:00\", \"2019-04-13T00:00:00\", \"2019-04-14T00:00:00\", \"2019-04-15T00:00:00\", \"2019-04-16T00:00:00\", \"2019-04-17T00:00:00\", \"2019-04-18T00:00:00\", \"2019-04-19T00:00:00\", \"2019-04-20T00:00:00\", \"2019-04-21T00:00:00\", \"2019-04-22T00:00:00\", \"2019-04-23T00:00:00\", \"2019-04-24T00:00:00\", \"2019-04-25T00:00:00\", \"2019-04-26T00:00:00\", \"2019-04-27T00:00:00\", \"2019-04-28T00:00:00\", \"2019-04-29T00:00:00\", \"2019-04-30T00:00:00\", \"2019-05-01T00:00:00\", \"2019-05-02T00:00:00\", \"2019-05-03T00:00:00\", \"2019-05-04T00:00:00\", \"2019-05-05T00:00:00\", \"2019-05-06T00:00:00\", \"2019-05-07T00:00:00\", \"2019-05-08T00:00:00\", \"2019-05-09T00:00:00\", \"2019-05-10T00:00:00\", \"2019-05-11T00:00:00\", \"2019-05-12T00:00:00\", \"2019-05-13T00:00:00\", \"2019-05-14T00:00:00\", \"2019-05-15T00:00:00\", \"2019-05-16T00:00:00\", \"2019-05-17T00:00:00\", \"2019-05-18T00:00:00\", \"2019-05-19T00:00:00\", \"2019-05-20T00:00:00\", \"2019-05-21T00:00:00\", \"2019-05-22T00:00:00\", \"2019-05-23T00:00:00\", \"2019-05-24T00:00:00\", \"2019-05-25T00:00:00\", \"2019-05-26T00:00:00\", \"2019-05-27T00:00:00\", \"2019-05-28T00:00:00\", \"2019-05-29T00:00:00\", \"2019-05-30T00:00:00\", \"2019-05-31T00:00:00\", \"2019-06-01T00:00:00\", \"2019-06-02T00:00:00\", \"2019-06-03T00:00:00\", \"2019-06-04T00:00:00\", \"2019-06-05T00:00:00\", \"2019-06-06T00:00:00\", \"2019-06-07T00:00:00\", \"2019-06-08T00:00:00\", \"2019-06-09T00:00:00\", \"2019-06-10T00:00:00\", \"2019-06-11T00:00:00\", \"2019-06-12T00:00:00\", \"2019-06-13T00:00:00\", \"2019-06-14T00:00:00\", \"2019-06-15T00:00:00\", \"2019-06-16T00:00:00\", \"2019-06-17T00:00:00\", \"2019-06-18T00:00:00\", \"2019-06-19T00:00:00\", \"2019-06-20T00:00:00\", \"2019-06-21T00:00:00\", \"2019-06-22T00:00:00\", \"2019-06-23T00:00:00\", \"2019-06-24T00:00:00\", \"2019-06-25T00:00:00\", \"2019-06-26T00:00:00\", \"2019-06-27T00:00:00\", \"2019-06-28T00:00:00\", \"2019-06-29T00:00:00\", \"2019-06-30T00:00:00\", \"2019-07-01T00:00:00\", \"2019-07-02T00:00:00\", \"2019-07-03T00:00:00\", \"2019-07-04T00:00:00\", \"2019-07-05T00:00:00\", \"2019-07-06T00:00:00\", \"2019-07-07T00:00:00\", \"2019-07-08T00:00:00\", \"2019-07-09T00:00:00\", \"2019-07-10T00:00:00\", \"2019-07-11T00:00:00\", \"2019-07-12T00:00:00\", \"2019-07-13T00:00:00\", \"2019-07-14T00:00:00\", \"2019-07-15T00:00:00\", \"2019-07-16T00:00:00\", \"2019-07-17T00:00:00\", \"2019-07-18T00:00:00\", \"2019-07-19T00:00:00\", \"2019-07-20T00:00:00\", \"2019-07-21T00:00:00\", \"2019-07-22T00:00:00\", \"2019-07-23T00:00:00\", \"2019-07-24T00:00:00\", \"2019-07-25T00:00:00\", \"2019-07-26T00:00:00\", \"2019-07-27T00:00:00\", \"2019-07-28T00:00:00\", \"2019-07-29T00:00:00\", \"2019-07-30T00:00:00\", \"2019-07-31T00:00:00\", \"2019-08-01T00:00:00\", \"2019-08-02T00:00:00\", \"2019-08-03T00:00:00\", \"2019-08-04T00:00:00\", \"2019-08-05T00:00:00\", \"2019-08-06T00:00:00\", \"2019-08-07T00:00:00\", \"2019-08-08T00:00:00\", \"2019-08-09T00:00:00\", \"2019-08-10T00:00:00\", \"2019-08-11T00:00:00\", \"2019-08-12T00:00:00\", \"2019-08-13T00:00:00\", \"2019-08-14T00:00:00\", \"2019-08-15T00:00:00\", \"2019-08-16T00:00:00\", \"2019-08-17T00:00:00\", \"2019-08-18T00:00:00\", \"2019-08-19T00:00:00\", \"2019-08-20T00:00:00\", \"2019-08-21T00:00:00\", \"2019-08-22T00:00:00\", \"2019-08-23T00:00:00\", \"2019-08-24T00:00:00\", \"2019-08-25T00:00:00\", \"2019-08-26T00:00:00\", \"2019-08-27T00:00:00\", \"2019-08-28T00:00:00\", \"2019-08-29T00:00:00\", \"2019-08-30T00:00:00\", \"2019-08-31T00:00:00\", \"2019-09-01T00:00:00\", \"2019-09-02T00:00:00\", \"2019-09-03T00:00:00\", \"2019-09-04T00:00:00\", \"2019-09-05T00:00:00\", \"2019-09-06T00:00:00\", \"2019-09-07T00:00:00\", \"2019-09-08T00:00:00\", \"2019-09-09T00:00:00\", \"2019-09-10T00:00:00\", \"2019-09-11T00:00:00\", \"2019-09-12T00:00:00\", \"2019-09-13T00:00:00\", \"2019-09-14T00:00:00\", \"2019-09-15T00:00:00\", \"2019-09-16T00:00:00\", \"2019-09-17T00:00:00\", \"2019-09-18T00:00:00\", \"2019-09-19T00:00:00\", \"2019-09-20T00:00:00\", \"2019-09-21T00:00:00\", \"2019-09-22T00:00:00\", \"2019-09-23T00:00:00\", \"2019-09-24T00:00:00\", \"2019-09-25T00:00:00\", \"2019-09-26T00:00:00\", \"2019-09-27T00:00:00\", \"2019-09-28T00:00:00\", \"2019-09-29T00:00:00\", \"2019-09-30T00:00:00\", \"2019-10-01T00:00:00\", \"2019-10-02T00:00:00\", \"2019-10-03T00:00:00\", \"2019-10-04T00:00:00\", \"2019-10-05T00:00:00\", \"2019-10-06T00:00:00\", \"2019-10-07T00:00:00\", \"2019-10-08T00:00:00\", \"2019-10-09T00:00:00\", \"2019-10-10T00:00:00\", \"2019-10-11T00:00:00\", \"2019-10-12T00:00:00\", \"2019-10-13T00:00:00\", \"2019-10-14T00:00:00\", \"2019-10-15T00:00:00\", \"2019-10-16T00:00:00\", \"2019-10-17T00:00:00\", \"2019-10-18T00:00:00\", \"2019-10-19T00:00:00\", \"2019-10-20T00:00:00\", \"2019-10-21T00:00:00\", \"2019-10-22T00:00:00\", \"2019-10-23T00:00:00\", \"2019-10-24T00:00:00\", \"2019-10-25T00:00:00\", \"2019-10-26T00:00:00\", \"2019-10-27T00:00:00\", \"2019-10-28T00:00:00\", \"2019-10-29T00:00:00\", \"2019-10-30T00:00:00\", \"2019-10-31T00:00:00\", \"2019-11-01T00:00:00\", \"2019-11-02T00:00:00\", \"2019-11-03T00:00:00\", \"2019-11-04T00:00:00\", \"2019-11-05T00:00:00\", \"2019-11-06T00:00:00\", \"2019-11-07T00:00:00\", \"2019-11-08T00:00:00\", \"2019-11-09T00:00:00\", \"2019-11-10T00:00:00\", \"2019-11-11T00:00:00\", \"2019-11-12T00:00:00\", \"2019-11-13T00:00:00\", \"2019-11-14T00:00:00\", \"2019-11-15T00:00:00\", \"2019-11-16T00:00:00\", \"2019-11-17T00:00:00\", \"2019-11-18T00:00:00\", \"2019-11-19T00:00:00\", \"2019-11-20T00:00:00\", \"2019-11-21T00:00:00\", \"2019-11-22T00:00:00\", \"2019-11-23T00:00:00\", \"2019-11-24T00:00:00\", \"2019-11-25T00:00:00\", \"2019-11-26T00:00:00\", \"2019-11-27T00:00:00\", \"2019-11-28T00:00:00\", \"2019-11-29T00:00:00\", \"2019-11-30T00:00:00\", \"2019-12-01T00:00:00\", \"2019-12-02T00:00:00\", \"2019-12-03T00:00:00\", \"2019-12-04T00:00:00\", \"2019-12-05T00:00:00\", \"2019-12-06T00:00:00\", \"2019-12-07T00:00:00\", \"2019-12-08T00:00:00\", \"2019-12-09T00:00:00\", \"2019-12-10T00:00:00\", \"2019-12-11T00:00:00\", \"2019-12-12T00:00:00\", \"2019-12-13T00:00:00\", \"2019-12-14T00:00:00\", \"2019-12-15T00:00:00\", \"2019-12-16T00:00:00\", \"2019-12-17T00:00:00\", \"2019-12-18T00:00:00\", \"2019-12-19T00:00:00\", \"2019-12-20T00:00:00\", \"2019-12-21T00:00:00\", \"2019-12-22T00:00:00\", \"2019-12-23T00:00:00\", \"2019-12-24T00:00:00\", \"2019-12-25T00:00:00\", \"2019-12-26T00:00:00\", \"2019-12-27T00:00:00\", \"2019-12-28T00:00:00\", \"2019-12-29T00:00:00\", \"2019-12-30T00:00:00\", \"2019-12-31T00:00:00\", \"2020-01-01T00:00:00\", \"2020-01-02T00:00:00\", \"2020-01-03T00:00:00\", \"2020-01-04T00:00:00\", \"2020-01-05T00:00:00\", \"2020-01-06T00:00:00\", \"2020-01-07T00:00:00\", \"2020-01-08T00:00:00\", \"2020-01-09T00:00:00\", \"2020-01-10T00:00:00\", \"2020-01-11T00:00:00\", \"2020-01-12T00:00:00\", \"2020-01-13T00:00:00\", \"2020-01-14T00:00:00\", \"2020-01-15T00:00:00\", \"2020-01-16T00:00:00\", \"2020-01-17T00:00:00\", \"2020-01-18T00:00:00\", \"2020-01-19T00:00:00\", \"2020-01-20T00:00:00\", \"2020-01-21T00:00:00\", \"2020-01-22T00:00:00\", \"2020-01-23T00:00:00\", \"2020-01-24T00:00:00\", \"2020-01-25T00:00:00\", \"2020-01-26T00:00:00\", \"2020-01-27T00:00:00\", \"2020-01-28T00:00:00\", \"2020-01-29T00:00:00\", \"2020-01-30T00:00:00\", \"2020-01-31T00:00:00\", \"2020-02-01T00:00:00\", \"2020-02-02T00:00:00\", \"2020-02-03T00:00:00\", \"2020-02-04T00:00:00\", \"2020-02-05T00:00:00\", \"2020-02-06T00:00:00\", \"2020-02-07T00:00:00\", \"2020-02-08T00:00:00\", \"2020-02-09T00:00:00\", \"2020-02-10T00:00:00\", \"2020-02-11T00:00:00\", \"2020-02-12T00:00:00\", \"2020-02-13T00:00:00\", \"2020-02-14T00:00:00\", \"2020-02-15T00:00:00\", \"2020-02-16T00:00:00\", \"2020-02-17T00:00:00\", \"2020-02-18T00:00:00\", \"2020-02-19T00:00:00\", \"2020-02-20T00:00:00\", \"2020-02-21T00:00:00\", \"2020-02-22T00:00:00\", \"2020-02-23T00:00:00\", \"2020-02-24T00:00:00\", \"2020-02-25T00:00:00\", \"2020-02-26T00:00:00\", \"2020-02-27T00:00:00\", \"2020-02-28T00:00:00\", \"2020-02-29T00:00:00\", \"2020-03-01T00:00:00\", \"2020-03-02T00:00:00\", \"2020-03-03T00:00:00\", \"2020-03-04T00:00:00\", \"2020-03-05T00:00:00\", \"2020-03-06T00:00:00\", \"2020-03-07T00:00:00\", \"2020-03-08T00:00:00\", \"2020-03-09T00:00:00\", \"2020-03-10T00:00:00\", \"2020-03-11T00:00:00\", \"2020-03-12T00:00:00\", \"2020-03-13T00:00:00\", \"2020-03-14T00:00:00\", \"2020-03-15T00:00:00\", \"2020-03-16T00:00:00\", \"2020-03-17T00:00:00\", \"2020-03-18T00:00:00\", \"2020-03-19T00:00:00\", \"2020-03-20T00:00:00\", \"2020-03-21T00:00:00\", \"2020-03-22T00:00:00\", \"2020-03-23T00:00:00\", \"2020-03-24T00:00:00\", \"2020-03-25T00:00:00\", \"2020-03-26T00:00:00\", \"2020-03-27T00:00:00\", \"2020-03-28T00:00:00\", \"2020-03-29T00:00:00\", \"2020-03-30T00:00:00\", \"2020-03-31T00:00:00\", \"2020-04-01T00:00:00\", \"2020-04-02T00:00:00\", \"2020-04-03T00:00:00\", \"2020-04-04T00:00:00\", \"2020-04-05T00:00:00\", \"2020-04-06T00:00:00\", \"2020-04-07T00:00:00\", \"2020-04-08T00:00:00\", \"2020-04-09T00:00:00\", \"2020-04-10T00:00:00\", \"2020-04-11T00:00:00\", \"2020-04-12T00:00:00\", \"2020-04-13T00:00:00\", \"2020-04-14T00:00:00\", \"2020-04-15T00:00:00\", \"2020-04-16T00:00:00\", \"2020-04-17T00:00:00\", \"2020-04-18T00:00:00\", \"2020-04-19T00:00:00\", \"2020-04-20T00:00:00\", \"2020-04-21T00:00:00\", \"2020-04-22T00:00:00\", \"2020-04-23T00:00:00\", \"2020-04-24T00:00:00\", \"2020-04-25T00:00:00\", \"2020-04-26T00:00:00\", \"2020-04-27T00:00:00\", \"2020-04-28T00:00:00\", \"2020-04-29T00:00:00\", \"2020-04-30T00:00:00\", \"2020-05-01T00:00:00\", \"2020-05-02T00:00:00\", \"2020-05-03T00:00:00\", \"2020-05-04T00:00:00\", \"2020-05-05T00:00:00\", \"2020-05-06T00:00:00\", \"2020-05-07T00:00:00\", \"2020-05-08T00:00:00\", \"2020-05-09T00:00:00\", \"2020-05-10T00:00:00\", \"2020-05-11T00:00:00\", \"2020-05-12T00:00:00\", \"2020-05-13T00:00:00\", \"2020-05-14T00:00:00\", \"2020-05-15T00:00:00\", \"2020-05-16T00:00:00\", \"2020-05-17T00:00:00\", \"2020-05-18T00:00:00\", \"2020-05-19T00:00:00\", \"2020-05-20T00:00:00\", \"2020-05-21T00:00:00\", \"2020-05-22T00:00:00\", \"2020-05-23T00:00:00\", \"2020-05-24T00:00:00\", \"2020-05-25T00:00:00\", \"2020-05-26T00:00:00\", \"2020-05-27T00:00:00\", \"2020-05-28T00:00:00\", \"2020-05-29T00:00:00\", \"2020-05-30T00:00:00\", \"2020-05-31T00:00:00\", \"2020-06-01T00:00:00\", \"2020-06-02T00:00:00\", \"2020-06-03T00:00:00\", \"2020-06-04T00:00:00\", \"2020-06-05T00:00:00\", \"2020-06-06T00:00:00\", \"2020-06-07T00:00:00\", \"2020-06-08T00:00:00\", \"2020-06-09T00:00:00\", \"2020-06-10T00:00:00\", \"2020-06-11T00:00:00\", \"2020-06-12T00:00:00\", \"2020-06-13T00:00:00\", \"2020-06-14T00:00:00\", \"2020-06-15T00:00:00\", \"2020-06-16T00:00:00\", \"2020-06-17T00:00:00\", \"2020-06-18T00:00:00\", \"2020-06-19T00:00:00\", \"2020-06-20T00:00:00\", \"2020-06-21T00:00:00\", \"2020-06-22T00:00:00\", \"2020-06-23T00:00:00\", \"2020-06-24T00:00:00\", \"2020-06-25T00:00:00\", \"2020-06-26T00:00:00\", \"2020-06-27T00:00:00\", \"2020-06-28T00:00:00\", \"2020-06-29T00:00:00\", \"2020-06-30T00:00:00\", \"2020-07-01T00:00:00\", \"2020-07-02T00:00:00\", \"2020-07-03T00:00:00\", \"2020-07-04T00:00:00\", \"2020-07-05T00:00:00\", \"2020-07-06T00:00:00\", \"2020-07-07T00:00:00\", \"2020-07-08T00:00:00\", \"2020-07-09T00:00:00\", \"2020-07-10T00:00:00\", \"2020-07-11T00:00:00\", \"2020-07-12T00:00:00\", \"2020-07-13T00:00:00\", \"2020-07-14T00:00:00\", \"2020-07-15T00:00:00\", \"2020-07-16T00:00:00\", \"2020-07-17T00:00:00\", \"2020-07-18T00:00:00\", \"2020-07-19T00:00:00\", \"2020-07-20T00:00:00\", \"2020-07-21T00:00:00\", \"2020-07-22T00:00:00\", \"2020-07-23T00:00:00\", \"2020-07-24T00:00:00\", \"2020-07-25T00:00:00\", \"2020-07-26T00:00:00\", \"2020-07-27T00:00:00\", \"2020-07-28T00:00:00\", \"2020-07-29T00:00:00\", \"2020-07-30T00:00:00\", \"2020-07-31T00:00:00\", \"2020-08-01T00:00:00\", \"2020-08-02T00:00:00\", \"2020-08-03T00:00:00\", \"2020-08-04T00:00:00\", \"2020-08-05T00:00:00\", \"2020-08-06T00:00:00\", \"2020-08-07T00:00:00\", \"2020-08-08T00:00:00\", \"2020-08-09T00:00:00\", \"2020-08-10T00:00:00\", \"2020-08-11T00:00:00\", \"2020-08-12T00:00:00\", \"2020-08-13T00:00:00\", \"2020-08-14T00:00:00\", \"2020-08-15T00:00:00\", \"2020-08-16T00:00:00\", \"2020-08-17T00:00:00\", \"2020-08-18T00:00:00\", \"2020-08-19T00:00:00\", \"2020-08-20T00:00:00\", \"2020-08-21T00:00:00\", \"2020-08-22T00:00:00\", \"2020-08-23T00:00:00\", \"2020-08-24T00:00:00\", \"2020-08-25T00:00:00\", \"2020-08-26T00:00:00\", \"2020-08-27T00:00:00\", \"2020-08-28T00:00:00\", \"2020-08-29T00:00:00\", \"2020-08-30T00:00:00\", \"2020-08-31T00:00:00\", \"2020-09-01T00:00:00\", \"2020-09-02T00:00:00\", \"2020-09-03T00:00:00\", \"2020-09-04T00:00:00\", \"2020-09-05T00:00:00\", \"2020-09-06T00:00:00\", \"2020-09-07T00:00:00\", \"2020-09-08T00:00:00\", \"2020-09-09T00:00:00\", \"2020-09-10T00:00:00\", \"2020-09-11T00:00:00\", \"2020-09-12T00:00:00\", \"2020-09-13T00:00:00\", \"2020-09-14T00:00:00\", \"2020-09-15T00:00:00\", \"2020-09-16T00:00:00\", \"2020-09-17T00:00:00\", \"2020-09-18T00:00:00\", \"2020-09-19T00:00:00\", \"2020-09-20T00:00:00\", \"2020-09-21T00:00:00\", \"2020-09-22T00:00:00\", \"2020-09-23T00:00:00\", \"2020-09-24T00:00:00\", \"2020-09-25T00:00:00\", \"2020-09-26T00:00:00\", \"2020-09-27T00:00:00\", \"2020-09-28T00:00:00\", \"2020-09-29T00:00:00\", \"2020-09-30T00:00:00\", \"2020-10-01T00:00:00\", \"2020-10-02T00:00:00\", \"2020-10-03T00:00:00\", \"2020-10-04T00:00:00\", \"2020-10-05T00:00:00\", \"2020-10-06T00:00:00\", \"2020-10-07T00:00:00\", \"2020-10-08T00:00:00\", \"2020-10-09T00:00:00\", \"2020-10-10T00:00:00\", \"2020-10-11T00:00:00\", \"2020-10-12T00:00:00\", \"2020-10-13T00:00:00\", \"2020-10-14T00:00:00\", \"2020-10-15T00:00:00\", \"2020-10-16T00:00:00\", \"2020-10-17T00:00:00\", \"2020-10-18T00:00:00\", \"2020-10-19T00:00:00\", \"2020-10-20T00:00:00\", \"2020-10-21T00:00:00\", \"2020-10-22T00:00:00\", \"2020-10-23T00:00:00\", \"2020-10-24T00:00:00\", \"2020-10-25T00:00:00\", \"2020-10-26T00:00:00\", \"2020-10-27T00:00:00\", \"2020-10-28T00:00:00\", \"2020-10-29T00:00:00\", \"2020-10-30T00:00:00\", \"2020-10-31T00:00:00\", \"2020-11-01T00:00:00\", \"2020-11-02T00:00:00\", \"2020-11-03T00:00:00\", \"2020-11-04T00:00:00\", \"2020-11-05T00:00:00\", \"2020-11-06T00:00:00\", \"2020-11-07T00:00:00\", \"2020-11-08T00:00:00\", \"2020-11-09T00:00:00\", \"2020-11-10T00:00:00\", \"2020-11-11T00:00:00\", \"2020-11-12T00:00:00\", \"2020-11-13T00:00:00\", \"2020-11-14T00:00:00\", \"2020-11-15T00:00:00\", \"2020-11-16T00:00:00\", \"2020-11-17T00:00:00\", \"2020-11-18T00:00:00\", \"2020-11-19T00:00:00\", \"2020-11-20T00:00:00\", \"2020-11-21T00:00:00\", \"2020-11-22T00:00:00\", \"2020-11-23T00:00:00\", \"2020-11-24T00:00:00\", \"2020-11-25T00:00:00\", \"2020-11-26T00:00:00\", \"2020-11-27T00:00:00\", \"2020-11-28T00:00:00\", \"2020-11-29T00:00:00\", \"2020-11-30T00:00:00\", \"2020-12-01T00:00:00\", \"2020-12-02T00:00:00\", \"2020-12-03T00:00:00\", \"2020-12-04T00:00:00\", \"2020-12-05T00:00:00\", \"2020-12-06T00:00:00\", \"2020-12-07T00:00:00\", \"2020-12-08T00:00:00\", \"2020-12-09T00:00:00\", \"2020-12-10T00:00:00\", \"2020-12-11T00:00:00\", \"2020-12-12T00:00:00\", \"2020-12-13T00:00:00\", \"2020-12-14T00:00:00\", \"2020-12-15T00:00:00\", \"2020-12-16T00:00:00\", \"2020-12-17T00:00:00\", \"2020-12-18T00:00:00\", \"2020-12-19T00:00:00\", \"2020-12-20T00:00:00\", \"2020-12-21T00:00:00\", \"2020-12-22T00:00:00\", \"2020-12-23T00:00:00\", \"2020-12-24T00:00:00\", \"2020-12-25T00:00:00\", \"2020-12-26T00:00:00\", \"2020-12-27T00:00:00\", \"2020-12-28T00:00:00\", \"2020-12-29T00:00:00\", \"2020-12-30T00:00:00\", \"2020-12-31T00:00:00\", \"2021-01-01T00:00:00\", \"2021-01-02T00:00:00\", \"2021-01-03T00:00:00\", \"2021-01-04T00:00:00\", \"2021-01-05T00:00:00\", \"2021-01-06T00:00:00\", \"2021-01-07T00:00:00\", \"2021-01-08T00:00:00\", \"2021-01-09T00:00:00\", \"2021-01-10T00:00:00\", \"2021-01-11T00:00:00\", \"2021-01-12T00:00:00\", \"2021-01-13T00:00:00\", \"2021-01-14T00:00:00\", \"2021-01-15T00:00:00\", \"2021-01-16T00:00:00\", \"2021-01-17T00:00:00\", \"2021-01-18T00:00:00\", \"2021-01-19T00:00:00\", \"2021-01-20T00:00:00\", \"2021-01-21T00:00:00\", \"2021-01-22T00:00:00\", \"2021-01-23T00:00:00\", \"2021-01-24T00:00:00\", \"2021-01-25T00:00:00\", \"2021-01-26T00:00:00\", \"2021-01-27T00:00:00\", \"2021-01-28T00:00:00\", \"2021-01-29T00:00:00\", \"2021-01-30T00:00:00\", \"2021-01-31T00:00:00\", \"2021-02-01T00:00:00\", \"2021-02-02T00:00:00\", \"2021-02-03T00:00:00\", \"2021-02-04T00:00:00\", \"2021-02-05T00:00:00\", \"2021-02-06T00:00:00\", \"2021-02-07T00:00:00\", \"2021-02-08T00:00:00\", \"2021-02-09T00:00:00\", \"2021-02-10T00:00:00\", \"2021-02-11T00:00:00\", \"2021-02-12T00:00:00\", \"2021-02-13T00:00:00\", \"2021-02-14T00:00:00\", \"2021-02-15T00:00:00\", \"2021-02-16T00:00:00\", \"2021-02-17T00:00:00\", \"2021-02-18T00:00:00\", \"2021-02-19T00:00:00\", \"2021-02-20T00:00:00\", \"2021-02-21T00:00:00\", \"2021-02-22T00:00:00\", \"2021-02-23T00:00:00\", \"2021-02-24T00:00:00\", \"2021-02-25T00:00:00\", \"2021-02-26T00:00:00\", \"2021-02-27T00:00:00\", \"2021-02-28T00:00:00\", \"2021-03-01T00:00:00\", \"2021-03-02T00:00:00\", \"2021-03-03T00:00:00\", \"2021-03-04T00:00:00\", \"2021-03-05T00:00:00\", \"2021-03-06T00:00:00\", \"2021-03-07T00:00:00\", \"2021-03-08T00:00:00\", \"2021-03-09T00:00:00\", \"2021-03-10T00:00:00\", \"2021-03-11T00:00:00\", \"2021-03-12T00:00:00\", \"2021-03-13T00:00:00\", \"2021-03-14T00:00:00\", \"2021-03-15T00:00:00\", \"2021-03-16T00:00:00\", \"2021-03-17T00:00:00\", \"2021-03-18T00:00:00\", \"2021-03-19T00:00:00\", \"2021-03-20T00:00:00\", \"2021-03-21T00:00:00\", \"2021-03-22T00:00:00\", \"2021-03-23T00:00:00\", \"2021-03-24T00:00:00\", \"2021-03-25T00:00:00\", \"2021-03-26T00:00:00\", \"2021-03-27T00:00:00\", \"2021-03-28T00:00:00\", \"2021-03-29T00:00:00\", \"2021-03-30T00:00:00\", \"2021-03-31T00:00:00\", \"2021-04-01T00:00:00\", \"2021-04-02T00:00:00\", \"2021-04-03T00:00:00\", \"2021-04-04T00:00:00\", \"2021-04-05T00:00:00\", \"2021-04-06T00:00:00\", \"2021-04-07T00:00:00\", \"2021-04-08T00:00:00\", \"2021-04-09T00:00:00\", \"2021-04-10T00:00:00\", \"2021-04-11T00:00:00\", \"2021-04-12T00:00:00\", \"2021-04-13T00:00:00\", \"2021-04-14T00:00:00\", \"2021-04-15T00:00:00\", \"2021-04-16T00:00:00\", \"2021-04-17T00:00:00\", \"2021-04-18T00:00:00\", \"2021-04-19T00:00:00\", \"2021-04-20T00:00:00\", \"2021-04-21T00:00:00\", \"2021-04-22T00:00:00\", \"2021-04-23T00:00:00\", \"2021-04-24T00:00:00\", \"2021-04-25T00:00:00\", \"2021-04-26T00:00:00\", \"2021-04-27T00:00:00\", \"2021-04-28T00:00:00\", \"2021-04-29T00:00:00\", \"2021-04-30T00:00:00\", \"2021-05-01T00:00:00\", \"2021-05-02T00:00:00\", \"2021-05-03T00:00:00\", \"2021-05-04T00:00:00\", \"2021-05-05T00:00:00\", \"2021-05-06T00:00:00\", \"2021-05-07T00:00:00\", \"2021-05-08T00:00:00\", \"2021-05-09T00:00:00\", \"2021-05-10T00:00:00\", \"2021-05-11T00:00:00\", \"2021-05-12T00:00:00\", \"2021-05-13T00:00:00\", \"2021-05-14T00:00:00\", \"2021-05-15T00:00:00\", \"2021-05-16T00:00:00\", \"2021-05-17T00:00:00\", \"2021-05-18T00:00:00\", \"2021-05-19T00:00:00\", \"2021-05-20T00:00:00\", \"2021-05-21T00:00:00\", \"2021-05-22T00:00:00\", \"2021-05-23T00:00:00\", \"2021-05-24T00:00:00\", \"2021-05-25T00:00:00\", \"2021-05-26T00:00:00\", \"2021-05-27T00:00:00\", \"2021-05-28T00:00:00\", \"2021-05-29T00:00:00\", \"2021-05-30T00:00:00\", \"2021-05-31T00:00:00\", \"2021-06-01T00:00:00\", \"2021-06-02T00:00:00\", \"2021-06-03T00:00:00\", \"2021-06-04T00:00:00\", \"2021-06-05T00:00:00\", \"2021-06-06T00:00:00\", \"2021-06-07T00:00:00\", \"2021-06-08T00:00:00\", \"2021-06-09T00:00:00\", \"2021-06-10T00:00:00\", \"2021-06-11T00:00:00\", \"2021-06-12T00:00:00\", \"2021-06-13T00:00:00\", \"2021-06-14T00:00:00\", \"2021-06-15T00:00:00\", \"2021-06-16T00:00:00\", \"2021-06-17T00:00:00\", \"2021-06-18T00:00:00\", \"2021-06-19T00:00:00\", \"2021-06-20T00:00:00\", \"2021-06-21T00:00:00\", \"2021-06-22T00:00:00\", \"2021-06-23T00:00:00\", \"2021-06-24T00:00:00\", \"2021-06-25T00:00:00\", \"2021-06-26T00:00:00\", \"2021-06-27T00:00:00\", \"2021-06-28T00:00:00\", \"2021-06-29T00:00:00\", \"2021-06-30T00:00:00\", \"2021-07-01T00:00:00\", \"2021-07-02T00:00:00\", \"2021-07-03T00:00:00\", \"2021-07-04T00:00:00\", \"2021-07-05T00:00:00\", \"2021-07-06T00:00:00\", \"2021-07-07T00:00:00\", \"2021-07-08T00:00:00\", \"2021-07-09T00:00:00\", \"2021-07-10T00:00:00\", \"2021-07-11T00:00:00\", \"2021-07-12T00:00:00\", \"2021-07-13T00:00:00\", \"2021-07-14T00:00:00\", \"2021-07-15T00:00:00\", \"2021-07-16T00:00:00\", \"2021-07-17T00:00:00\", \"2021-07-18T00:00:00\", \"2021-07-19T00:00:00\", \"2021-07-20T00:00:00\", \"2021-07-21T00:00:00\", \"2021-07-22T00:00:00\", \"2021-07-23T00:00:00\", \"2021-07-24T00:00:00\", \"2021-07-25T00:00:00\", \"2021-07-26T00:00:00\", \"2021-07-27T00:00:00\", \"2021-07-28T00:00:00\", \"2021-07-29T00:00:00\", \"2021-07-30T00:00:00\", \"2021-07-31T00:00:00\", \"2021-08-01T00:00:00\", \"2021-08-02T00:00:00\", \"2021-08-03T00:00:00\", \"2021-08-04T00:00:00\", \"2021-08-05T00:00:00\", \"2021-08-06T00:00:00\", \"2021-08-07T00:00:00\", \"2021-08-08T00:00:00\", \"2021-08-09T00:00:00\", \"2021-08-10T00:00:00\", \"2021-08-11T00:00:00\", \"2021-08-12T00:00:00\", \"2021-08-13T00:00:00\", \"2021-08-14T00:00:00\", \"2021-08-15T00:00:00\", \"2021-08-16T00:00:00\", \"2021-08-17T00:00:00\", \"2021-08-18T00:00:00\", \"2021-08-19T00:00:00\", \"2021-08-20T00:00:00\", \"2021-08-21T00:00:00\", \"2021-08-22T00:00:00\", \"2021-08-23T00:00:00\", \"2021-08-24T00:00:00\", \"2021-08-25T00:00:00\", \"2021-08-26T00:00:00\", \"2021-08-27T00:00:00\", \"2021-08-28T00:00:00\", \"2021-08-29T00:00:00\", \"2021-08-30T00:00:00\", \"2021-08-31T00:00:00\", \"2021-09-01T00:00:00\", \"2021-09-02T00:00:00\", \"2021-09-03T00:00:00\", \"2021-09-04T00:00:00\", \"2021-09-05T00:00:00\", \"2021-09-06T00:00:00\", \"2021-09-07T00:00:00\", \"2021-09-08T00:00:00\", \"2021-09-09T00:00:00\", \"2021-09-10T00:00:00\", \"2021-09-11T00:00:00\", \"2021-09-12T00:00:00\", \"2021-09-13T00:00:00\", \"2021-09-14T00:00:00\", \"2021-09-15T00:00:00\", \"2021-09-16T00:00:00\", \"2021-09-17T00:00:00\", \"2021-09-18T00:00:00\", \"2021-09-19T00:00:00\", \"2021-09-20T00:00:00\", \"2021-09-21T00:00:00\", \"2021-09-22T00:00:00\", \"2021-09-23T00:00:00\", \"2021-09-24T00:00:00\", \"2021-09-25T00:00:00\", \"2021-09-26T00:00:00\", \"2021-09-27T00:00:00\", \"2021-09-28T00:00:00\", \"2021-09-29T00:00:00\", \"2021-09-30T00:00:00\", \"2021-10-01T00:00:00\", \"2021-10-02T00:00:00\", \"2021-10-03T00:00:00\", \"2021-10-04T00:00:00\", \"2021-10-05T00:00:00\", \"2021-10-06T00:00:00\", \"2021-10-07T00:00:00\", \"2021-10-08T00:00:00\", \"2021-10-09T00:00:00\", \"2021-10-10T00:00:00\", \"2021-10-11T00:00:00\", \"2021-10-12T00:00:00\", \"2021-10-13T00:00:00\", \"2021-10-14T00:00:00\", \"2021-10-15T00:00:00\", \"2021-10-16T00:00:00\", \"2021-10-17T00:00:00\", \"2021-10-18T00:00:00\", \"2021-10-19T00:00:00\", \"2021-10-20T00:00:00\", \"2021-10-21T00:00:00\", \"2021-10-22T00:00:00\", \"2021-10-23T00:00:00\", \"2021-10-24T00:00:00\", \"2021-10-25T00:00:00\", \"2021-10-26T00:00:00\", \"2021-10-27T00:00:00\", \"2021-10-28T00:00:00\", \"2021-10-29T00:00:00\", \"2021-10-30T00:00:00\", \"2021-10-31T00:00:00\", \"2021-11-01T00:00:00\"], \"y\": [5.0, 4.0, 2.0, 2.0, 5.0, 3.0, 5.0, 8.0, 2.0, 0.0, 8.0, 0.0, 4.0, 13.0, 6.0, 5.0, 7.0, 3.0, 6.0, 5.0, 3.0, 9.0, 5.0, 1.0, 6.0, 14.0, 12.0, 11.0, 2.0, 2.0, 3.0, 17.0, 4.0, 8.0, 7.0, 8.0, 3.0, 8.0, 3.0, 10.0, 11.0, 9.0, 9.0, 4.0, 2.0, 1.0, 10.0, 8.0, 10.0, 3.0, 15.0, 5.0, 10.0, 24.0, 15.0, 7.0, 7.0, 13.0, 14.0, 11.0, 8.0, 20.0, 6.0, 10.0, 10.0, 1.0, 16.0, 8.0, 16.0, 13.0, 7.0, 3.0, 7.0, 9.0, 13.0, 5.0, 13.0, 6.0, 11.0, 0.0, 11.0, 10.0, 13.0, 6.0, 6.0, 15.0, 4.0, 7.0, 12.0, 7.0, 10.0, 13.0, 10.0, 3.0, 33.0, 21.0, 11.0, 6.0, 23.0, 5.0, 13.0, 18.0, 7.0, 11.0, 15.0, 15.0, 6.0, 10.0, 11.0, 12.0, 13.0, 18.0, 8.0, 11.0, 13.0, 14.0, 19.0, 6.0, 7.0, 9.0, 9.0, 8.0, 11.0, 6.0, 21.0, 24.0, 14.0, 13.0, 6.0, 12.0, 29.0, 50.0, 11.0, 7.0, 26.0, 12.0, 16.0, 8.0, 11.0, 15.0, 13.0, 14.0, 18.0, 10.0, 20.0, 21.0, 11.0, 7.0, 5.0, 13.0, 11.0, 12.0, 22.0, 21.0, 8.0, 7.0, 11.0, 31.0, 13.0, 10.0, 6.0, 10.0, 11.0, 18.0, 21.0, 15.0, 18.0, 14.0, 7.0, 18.0, 17.0, 4.0, 11.0, 12.0, 19.0, 9.0, 7.0, 7.0, 22.0, 11.0, 9.0, 12.0, 10.0, 13.0, 10.0, 14.0, 26.0, 15.0, 30.0, 23.0, 42.0, 34.0, 44.0, 26.0, 33.0, 30.0, 37.0, 27.0, 20.0, 30.0, 21.0, 25.0, 30.0, 26.0, 17.0, 12.0, 17.0, 31.0, 24.0, 24.0, 14.0, 27.0, 24.0, 18.0, 18.0, 26.0, 27.0, 25.0, 23.0, 21.0, 25.0, 32.0, 42.0, 39.0, 28.0, 29.0, 31.0, 41.0, 40.0, 43.0, 44.0, 30.0, 23.0, 40.0, 37.0, 50.0, 46.0, 40.0, 23.0, 45.0, 30.0, 46.0, 39.0, 54.0, 30.0, 35.0, 46.0, 30.0, 39.0, 52.0, 45.0, 60.0, 53.0, 56.0, 88.0, 69.0, 107.0, 95.0, 98.0, 100.0, 84.0, 133.0, 160.0, 122.0, 131.0, 113.0, 115.0, 106.0, 154.0, 175.0, 176.0, 153.0, 157.0, 225.0, 177.0, 223.0, 303.0, 305.0, 313.0, 247.0, 233.0, 225.0, 245.0, 336.0, 374.0, 380.0, 364.0, 368.0, 323.0, 369.0, 444.0, 493.0, 510.0, 512.0, 505.0, 426.0, 489.0, 654.0, 639.0, 551.0, 292.0, 141.0, 33.0, 22.0, 35.0, 31.0, 22.0, 22.0, 24.0, 16.0, 23.0, 23.0, 26.0, 18.0, 23.0, 21.0, 8.0, 15.0, 15.0, 22.0, 16.0, 26.0, 27.0, 12.0, 13.0, 19.0, 16.0, 17.0, 11.0, 30.0, 21.0, 19.0, 44.0, 26.0, 17.0, 16.0, 22.0, 21.0, 29.0, 42.0, 32.0, 35.0, 34.0, 26.0, 22.0, 31.0, 50.0, 34.0, 34.0, 36.0, 37.0, 29.0, 21.0, 29.0, 33.0, 16.0, 21.0, 8.0, 5.0, 4.0, 11.0, 10.0, 18.0, 12.0, 10.0, 6.0, 5.0, 4.0, 4.0, 8.0, 4.0, 7.0, 12.0, 3.0, 1.0, 12.0, 1.0, 6.0, 16.0, 7.0, 6.0, 8.0, 4.0, 8.0, 6.0, 5.0, 10.0, 8.0, 2.0, 10.0, 15.0, 13.0, 12.0, 4.0, 3.0, 4.0, 19.0, 6.0, 9.0, 9.0, 11.0, 4.0, 9.0, 5.0, 13.0, 14.0, 10.0, 10.0, 7.0, 3.0, 2.0, 14.0, 11.0, 11.0, 4.0, 18.0, 7.0, 12.0, 28.0, 19.0, 9.0, 9.0, 18.0, 17.0, 12.0, 11.0, 27.0, 9.0, 11.0, 11.0, 2.0, 17.0, 10.0, 17.0, 14.0, 11.0, 4.0, 10.0, 12.0, 16.0, 6.0, 16.0, 8.0, 16.0, 1.0, 13.0, 14.0, 14.0, 8.0, 9.0, 21.0, 5.0, 9.0, 16.0, 11.0, 13.0, 18.0, 12.0, 4.0, 36.0, 26.0, 13.0, 8.0, 27.0, 7.0, 15.0, 26.0, 9.0, 14.0, 20.0, 22.0, 9.0, 12.0, 16.0, 16.0, 16.0, 22.0, 10.0, 14.0, 16.0, 15.0, 22.0, 9.0, 8.0, 11.0, 13.0, 9.0, 17.0, 10.0, 31.0, 29.0, 16.0, 14.0, 8.0, 14.0, 34.0, 55.0, 15.0, 8.0, 30.0, 16.0, 18.0, 11.0, 12.0, 18.0, 19.0, 16.0, 22.0, 14.0, 26.0, 22.0, 12.0, 10.0, 6.0, 17.0, 12.0, 17.0, 24.0, 25.0, 10.0, 10.0, 12.0, 32.0, 15.0, 11.0, 8.0, 15.0, 15.0, 21.0, 23.0, 22.0, 19.0, 20.0, 8.0, 20.0, 19.0, 7.0, 13.0, 17.0, 21.0, 13.0, 8.0, 9.0, 30.0, 14.0, 12.0, 14.0, 14.0, 14.0, 12.0, 16.0, 27.0, 22.0, 45.0, 32.0, 47.0, 48.0, 63.0, 39.0, 41.0, 39.0, 44.0, 40.0, 29.0, 40.0, 31.0, 34.0, 31.0, 28.0, 19.0, 17.0, 22.0, 34.0, 30.0, 27.0, 18.0, 29.0, 25.0, 23.0, 23.0, 36.0, 31.0, 38.0, 29.0, 24.0, 32.0, 46.0, 44.0, 42.0, 37.0, 33.0, 37.0, 44.0, 56.0, 56.0, 57.0, 33.0, 30.0, 43.0, 40.0, 57.0, 50.0, 44.0, 30.0, 47.0, 44.0, 55.0, 62.0, 80.0, 51.0, 56.0, 70.0, 48.0, 61.0, 83.0, 72.0, 90.0, 86.0, 91.0, 139.0, 105.0, 161.0, 157.0, 149.0, 155.0, 136.0, 205.0, 246.0, 199.0, 195.0, 178.0, 191.0, 177.0, 256.0, 275.0, 278.0, 250.0, 260.0, 336.0, 293.0, 363.0, 456.0, 457.0, 493.0, 395.0, 382.0, 358.0, 391.0, 517.0, 572.0, 570.0, 554.0, 546.0, 502.0, 577.0, 729.0, 765.0, 777.0, 791.0, 794.0, 686.0, 773.0, 1090.0, 973.0, 821.0, 474.0, 224.0, 53.0, 35.0, 55.0, 53.0, 36.0, 36.0, 38.0, 24.0, 37.0, 37.0, 39.0, 29.0, 38.0, 34.0, 13.0, 25.0, 26.0, 36.0, 25.0, 44.0, 42.0, 19.0, 20.0, 29.0, 25.0, 27.0, 18.0, 49.0, 36.0, 32.0, 69.0, 41.0, 29.0, 27.0, 35.0, 36.0, 49.0, 66.0, 51.0, 54.0, 51.0, 40.0, 37.0, 47.0, 76.0, 51.0, 54.0, 56.0, 61.0, 45.0, 34.0, 46.0, 52.0, 26.0, 33.0, 14.0, 8.0, 8.0, 19.0, 15.0, 29.0, 20.0, 16.0, 11.0, 12.0, 18.0, 18.0, 28.0, 24.0, 25.0, 13.0, 16.0, 33.0, 25.0, 19.0, 23.0, 10.0, 21.0, 13.0, 23.0, 30.0, 37.0, 19.0, 21.0, 12.0, 19.0, 20.0, 28.0, 18.0, 17.0, 28.0, 14.0, 13.0, 9.0, 9.0, 16.0, 15.0, 24.0, 16.0, 8.0, 17.0, 17.0, 29.0, 36.0, 18.0, 11.0, 19.0, 29.0, 24.0, 22.0, 24.0, 27.0, 14.0, 21.0, 36.0, 37.0, 24.0, 32.0, 43.0, 30.0, 15.0, 37.0, 24.0, 45.0, 25.0, 29.0, 27.0, 16.0, 52.0, 25.0, 35.0, 22.0, 13.0, 13.0, 26.0, 15.0, 21.0, 12.0, 19.0, 19.0, 12.0, 14.0, 32.0, 21.0, 21.0, 22.0, 27.0, 16.0, 27.0, 20.0, 23.0, 30.0, 25.0, 16.0, 30.0, 23.0, 22.0, 36.0, 38.0, 14.0, 30.0, 23.0, 22.0, 26.0, 19.0, 17.0, 11.0, 23.0, 22.0, 24.0, 19.0, 35.0, 38.0, 44.0, 20.0, 21.0, 19.0, 30.0, 36.0, 18.0, 25.0, 36.0, 20.0, 25.0, 31.0, 25.0, 41.0, 27.0, 20.0, 34.0, 23.0, 28.0, 34.0, 48.0, 37.0, 29.0, 19.0, 26.0, 58.0, 48.0, 43.0, 30.0, 30.0, 12.0, 25.0, 18.0, 38.0, 22.0, 29.0, 25.0, 13.0, 20.0, 32.0, 29.0, 33.0, 32.0, 24.0, 29.0, 40.0, 35.0, 38.0, 30.0, 40.0, 45.0, 12.0, 23.0, 30.0, 35.0, 35.0, 29.0, 37.0, 26.0, 31.0, 24.0, 39.0, 48.0, 21.0, 32.0, 28.0, 36.0, 68.0, 36.0, 42.0, 43.0, 32.0, 26.0, 21.0, 32.0, 24.0, 55.0, 47.0, 37.0, 26.0, 32.0, 55.0, 66.0, 65.0, 31.0, 32.0, 27.0, 28.0, 48.0, 55.0, 42.0, 43.0, 38.0, 25.0, 56.0, 52.0, 57.0, 47.0, 37.0, 53.0, 52.0, 46.0, 61.0, 85.0, 56.0, 55.0, 52.0, 39.0, 73.0, 75.0, 93.0, 60.0, 57.0, 43.0, 76.0, 47.0, 60.0, 70.0, 76.0, 61.0, 74.0, 41.0, 61.0, 72.0, 68.0, 109.0, 69.0, 73.0, 63.0, 97.0, 96.0, 107.0, 104.0, 90.0, 100.0, 90.0, 106.0, 123.0, 129.0, 177.0, 118.0, 135.0, 123.0, 155.0, 177.0, 181.0, 177.0, 204.0, 161.0, 174.0, 178.0, 243.0, 241.0, 283.0, 262.0, 260.0, 250.0, 300.0, 356.0, 394.0, 341.0, 368.0, 378.0, 406.0, 516.0, 692.0, 672.0, 733.0, 688.0, 661.0, 669.0, 778.0, 986.0, 943.0, 946.0, 822.0, 921.0, 803.0, 962.0, 1282.0, 1307.0, 1329.0, 969.0, 989.0, 947.0, 1228.0, 1731.0, 1889.0, 1762.0, 1148.0, 697.0, 449.0, 243.0, 152.0, 82.0, 112.0, 71.0, 56.0, 41.0, 57.0, 84.0, 82.0, 66.0, 43.0, 46.0, 52.0, 66.0, 78.0, 76.0, 85.0, 56.0, 66.0, 39.0, 59.0, 50.0, 55.0, 42.0, 39.0, 67.0, 63.0, 78.0, 85.0, 104.0, 62.0, 71.0, 71.0, 69.0, 52.0, 72.0, 103.0, 103.0, 104.0, 85.0, 70.0, 74.0, 101.0, 91.0, 116.0, 90.0, 82.0, 94.0, 95.0, 95.0, 104.0, 66.0, 55.0, 41.0, 19.0, 21.0, 13.0, 33.0, 48.0, 41.0, 38.0, 22.0, 20.0, 20.0, 31.0, 28.0, 19.0, 41.0, 39.0, 33.0, 38.0, 40.0, 56.0, 23.0, 40.0, 37.0, 40.0, 37.0, 47.0, 40.0, 41.0, 41.0, 21.0, 31.0, 45.0, 61.0, 60.0, 40.0, 33.0, 26.0, 36.0, 53.0, 43.0, 59.0, 47.0, 38.0, 36.0, 40.0, 47.0, 54.0, 58.0, 54.0, 55.0, 43.0, 45.0, 60.0, 45.0, 56.0, 46.0, 37.0, 51.0, 43.0, 60.0, 88.0, 64.0, 88.0, 64.0, 42.0, 71.0, 76.0, 74.0, 78.0, 73.0, 29.0, 39.0, 54.0, 56.0, 61.0, 74.0, 62.0, 30.0, 50.0, 32.0, 61.0, 54.0, 36.0, 34.0, 35.0, 34.0, 35.0, 56.0, 72.0, 40.0, 26.0, 30.0, 20.0, 37.0, 27.0, 41.0, 62.0, 58.0, 36.0, 22.0, 25.0, 38.0, 74.0, 52.0, 56.0, 52.0, 40.0, 57.0, 65.0, 80.0, 58.0, 48.0, 56.0, 36.0, 51.0, 90.0, 72.0, 47.0, 59.0, 54.0, 36.0, 46.0, 64.0, 72.0, 64.0, 64.0, 48.0, 39.0, 76.0, 109.0, 118.0, 75.0, 75.0, 55.0, 51.0, 53.0, 81.0, 78.0, 72.0, 93.0, 42.0, 61.0, 73.0, 98.0, 127.0, 99.0, 58.0, 62.0, 42.0, 47.0, 80.0, 81.0, 78.0, 48.0, 42.0, 34.0, 31.0, 47.0, 73.0, 88.0, 59.0, 62.0, 77.0, 59.0, 65.0, 72.0, 78.0, 58.0, 38.0, 48.0, 57.0, 106.0, 86.0, 116.0, 73.0, 84.0, 51.0, 65.0, 84.0, 75.0, 66.0, 87.0, 67.0, 47.0, 46.0, 84.0, 116.0, 88.0, 64.0, 78.0, 51.0, 41.0, 65.0, 73.0, 55.0, 49.0, 73.0, 52.0, 44.0, 126.0, 85.0, 80.0, 66.0, 86.0, 69.0, 51.0, 103.0, 109.0, 85.0, 63.0, 56.0, 64.0, 80.0, 77.0, 75.0, 67.0, 62.0, 75.0, 48.0, 52.0, 90.0, 96.0, 89.0, 90.0, 68.0, 80.0, 74.0, 92.0, 76.0, 90.0, 65.0, 98.0, 73.0, 76.0, 108.0, 115.0, 128.0, 101.0, 84.0, 107.0, 119.0, 133.0, 139.0, 108.0, 108.0, 103.0, 96.0, 113.0, 130.0, 105.0, 141.0, 138.0, 107.0, 138.0, 151.0, 187.0, 181.0, 198.0, 241.0, 205.0, 249.0, 240.0, 300.0, 256.0, 297.0, 279.0, 287.0, 278.0, 309.0, 342.0, 369.0, 329.0, 367.0, 327.0, 366.0, 432.0, 477.0, 499.0, 493.0, 625.0, 600.0, 527.0, 676.0, 1125.0, 923.0, 939.0, 888.0, 1112.0, 789.0, 991.0, 1168.0, 1249.0, 1170.0, 1053.0, 1044.0, 1045.0, 1161.0, 1511.0, 1620.0, 1501.0, 1294.0, 1374.0, 1202.0, 1612.0, 2166.0, 2438.0, 2384.0, 1841.0, 1399.0, 1164.0, 1258.0, 962.0, 297.0, 129.0, 93.0, 111.0, 61.0, 83.0, 112.0, 119.0, 93.0, 95.0, 91.0, 59.0, 64.0, 98.0, 77.0, 84.0, 91.0, 96.0, 73.0, 69.0, 62.0, 80.0, 58.0, 38.0, 86.0, 73.0, 66.0, 98.0, 162.0, 90.0, 76.0, 98.0, 99.0, 92.0, 130.0, 117.0, 102.0, 121.0, 131.0, 135.0, 109.0, 105.0, 114.0, 112.0, 94.0, 99.0, 95.0, 110.0, 103.0, 77.0, 80.0, 60.0, 41.0, 47.0, 33.0, 23.0, 42.0, 64.0, 55.0, 56.0, 41.0, 33.0, 23.0, 19.0, 37.0, 40.0, 42.0, 32.0, 45.0, 55.0, 56.0, 48.0, 59.0, 28.0, 45.0, 38.0, 47.0, 36.0, 43.0, 43.0, 37.0, 24.0, 41.0, 43.0, 50.0, 45.0, 30.0, 47.0, 49.0, 41.0, 44.0, 36.0, 29.0, 41.0, 39.0, 40.0, 33.0, 49.0, 73.0, 43.0, 55.0, 42.0, 27.0, 43.0, 58.0, 63.0, 40.0, 33.0, 48.0, 33.0, 48.0, 56.0, 52.0, 64.0, 59.0, 46.0, 53.0, 51.0, 66.0, 41.0, 51.0, 53.0, 47.0, 49.0, 39.0, 83.0, 68.0, 60.0, 76.0, 44.0, 45.0, 62.0, 77.0, 57.0, 67.0, 61.0, 43.0, 33.0, 63.0, 85.0, 77.0, 66.0, 44.0, 32.0, 30.0, 33.0, 67.0, 71.0, 45.0, 60.0, 37.0, 34.0, 36.0, 47.0, 60.0, 80.0, 48.0, 65.0, 59.0, 47.0, 62.0, 60.0, 52.0, 46.0, 52.0, 52.0, 52.0, 60.0, 58.0, 86.0, 70.0, 48.0, 43.0, 51.0, 62.0, 84.0, 76.0, 72.0, 89.0, 41.0, 50.0, 73.0, 80.0, 77.0, 75.0, 36.0, 41.0, 52.0, 50.0, 68.0, 51.0, 69.0, 46.0, 36.0, 37.0, 59.0, 63.0, 79.0, 74.0, 58.0, 41.0, 37.0, 66.0, 55.0, 72.0, 57.0, 38.0, 35.0, 31.0, 50.0, 74.0, 67.0, 57.0, 79.0, 75.0, 53.0, 68.0, 75.0, 74.0, 64.0, 64.0, 43.0, 63.0, 95.0, 77.0, 90.0, 71.0, 61.0, 52.0, 62.0, 62.0, 87.0, 99.0, 96.0, 38.0, 67.0, 63.0, 74.0, 98.0, 91.0, 62.0, 61.0, 76.0, 71.0, 92.0, 55.0, 67.0, 60.0, 42.0, 55.0, 96.0, 105.0, 101.0, 88.0, 112.0, 83.0, 73.0, 76.0, 109.0, 103.0, 102.0, 78.0, 79.0, 58.0, 69.0, 84.0, 80.0, 77.0, 87.0, 75.0, 86.0, 64.0, 113.0, 111.0, 101.0, 91.0, 93.0, 71.0, 97.0, 99.0, 117.0, 119.0, 88.0, 87.0, 64.0, 88.0, 130.0, 96.0, 129.0, 116.0, 103.0, 99.0, 109.0, 141.0, 136.0, 108.0, 120.0, 121.0, 138.0, 121.0, 166.0, 152.0, 147.0, 182.0, 146.0, 182.0, 151.0, 212.0, 190.0, 254.0, 229.0, 229.0, 246.0, 241.0, 234.0, 288.0, 252.0, 241.0, 303.0, 263.0, 318.0, 397.0, 377.0, 340.0, 324.0, 330.0, 337.0, 421.0, 452.0, 510.0, 475.0, 477.0, 454.0, 459.0, 615.0, 729.0, 885.0, 982.0, 900.0, 794.0, 696.0, 872.0, 1054.0, 1218.0, 1245.0, 1173.0, 1075.0, 1004.0, 1146.0, 1539.0, 1544.0, 1853.0, 1686.0, 1524.0, 1362.0, 1695.0, 2147.0, 2316.0, 2183.0, 1692.0, 1410.0, 1098.0, 1371.0, 1870.0, 955.0, 317.0, 150.0, 86.0, 66.0, 52.0, 78.0, 86.0, 83.0, 96.0, 79.0, 58.0, 62.0, 92.0, 80.0, 96.0, 63.0, 75.0, 59.0, 70.0, 107.0, 83.0, 89.0, 69.0, 75.0, 50.0, 58.0, 66.0, 91.0, 60.0, 64.0, 92.0, 71.0, 72.0, 115.0, 96.0, 69.0, 67.0, 94.0, 94.0, 89.0, 81.0, 110.0, 89.0, 92.0, 77.0, 103.0, 104.0, 126.0, 88.0, 77.0, 61.0, 61.0, 54.0, 36.0, 28.0, 22.0, 20.0, 44.0, 57.0, 64.0, 46.0, 19.0, 28.0, 26.0, 44.0, 70.0, 36.0, 44.0, 57.0, 50.0, 56.0, 56.0, 44.0, 51.0, 45.0, 61.0, 59.0, 98.0, 79.0, 45.0, 52.0, 50.0, 76.0, 63.0, 82.0, 49.0, 50.0, 46.0, 52.0, 74.0, 55.0, 52.0, 66.0, 39.0, 57.0, 58.0, 56.0, 89.0, 90.0, 80.0, 58.0, 46.0, 89.0, 98.0, 74.0, 84.0, 65.0, 67.0, 55.0, 74.0, 89.0, 83.0, 106.0, 72.0, 52.0, 57.0, 64.0, 91.0, 97.0, 96.0, 76.0, 78.0, 64.0, 86.0, 106.0, 90.0, 102.0, 69.0, 73.0, 54.0, 47.0, 74.0, 61.0, 50.0, 46.0, 28.0, 33.0, 23.0, 33.0, 12.0, 19.0, 16.0, 12.0, 15.0, 19.0, 25.0, 20.0, 35.0, 32.0, 29.0, 36.0, 32.0, 46.0, 39.0, 51.0, 32.0, 34.0, 39.0, 34.0, 49.0, 30.0, 39.0, 40.0, 41.0, 31.0, 32.0, 33.0, 39.0, 50.0, 57.0, 47.0, 48.0, 45.0, 58.0, 47.0, 51.0, 52.0, 53.0, 37.0, 49.0, 51.0, 50.0, 51.0, 47.0, 55.0, 51.0, 51.0, 58.0, 55.0, 54.0, 70.0, 58.0, 58.0, 57.0, 50.0, 73.0, 49.0, 74.0, 66.0, 71.0, 58.0, 68.0, 59.0, 58.0, 59.0, 56.0, 42.0, 42.0, 46.0, 44.0, 55.0, 69.0, 40.0, 45.0, 27.0, 54.0, 49.0, 44.0, 64.0, 67.0, 56.0, 60.0, 55.0, 58.0, 57.0, 51.0, 62.0, 50.0, 54.0, 70.0, 72.0, 60.0, 70.0, 47.0, 41.0, 51.0, 55.0, 79.0, 53.0, 41.0, 55.0, 51.0, 44.0, 57.0, 62.0, 61.0, 50.0, 66.0, 55.0, 40.0, 59.0, 75.0, 60.0, 62.0, 49.0, 75.0, 69.0, 65.0, 85.0, 68.0, 61.0, 65.0, 65.0, 66.0, 73.0, 71.0, 89.0, 81.0, 60.0, 54.0, 51.0, 89.0, 55.0, 79.0, 66.0, 57.0, 66.0, 78.0, 102.0, 85.0, 84.0, 91.0, 115.0, 93.0, 84.0, 136.0, 94.0, 95.0, 122.0, 141.0, 98.0, 141.0, 137.0, 133.0, 133.0, 150.0, 160.0, 165.0, 145.0, 173.0, 169.0, 170.0, 172.0, 168.0, 208.0, 238.0, 249.0, 263.0, 341.0, 258.0, 307.0, 264.0, 281.0, 349.0, 353.0, 370.0, 381.0, 378.0, 380.0, 453.0, 483.0, 489.0, 469.0, 469.0, 463.0, 438.0, 541.0, 621.0, 619.0, 589.0, 652.0, 584.0, 575.0, 695.0, 768.0, 760.0, 777.0, 882.0, 858.0, 884.0, 984.0, 1128.0, 1021.0, 1005.0, 990.0, 1058.0, 1008.0, 1148.0, 1522.0, 1322.0, 1447.0, 1412.0, 1226.0, 1249.0, 1457.0, 1876.0, 1854.0, 1981.0, 1914.0, 1767.0, 1619.0, 1949.0, 2105.0, 1338.0, 595.0, 269.0, 97.0, 66.0, 69.0, 77.0, 61.0, 41.0, 52.0, 66.0, 49.0, 51.0, 57.0, 86.0, 50.0, 60.0, 61.0, 64.0, 63.0, 86.0, 56.0, 52.0, 57.0, 42.0, 60.0, 63.0, 65.0, 61.0, 44.0, 42.0, 72.0, 77.0, 58.0, 84.0, 86.0, 59.0, 63.0, 73.0, 93.0, 96.0, 85.0, 91.0, 85.0, 65.0, 97.0, 94.0, 76.0, 83.0, 86.0, 82.0, 82.0, 75.0, 63.0, 53.0, 53.0, 41.0, 28.0, 17.0, 28.0, 41.0, 50.0, 64.0, 69.0, 42.0, 21.0, 25.0, 18.0, 22.0, 19.0, 19.0, 33.0, 20.0, 27.0, 34.0, 26.0, 39.0, 36.0, 42.0, 33.0, 22.0, 24.0, 33.0, 28.0, 25.0, 29.0, 29.0, 34.0, 22.0, 30.0, 42.0, 41.0, 35.0, 40.0, 27.0, 27.0, 49.0, 38.0, 39.0, 42.0, 34.0, 37.0, 33.0, 35.0, 47.0, 46.0, 38.0, 32.0, 31.0, 44.0, 45.0, 45.0, 33.0, 38.0, 46.0, 30.0, 24.0, 43.0, 38.0, 42.0, 44.0, 56.0, 55.0, 43.0, 52.0, 44.0, 46.0, 39.0, 51.0, 50.0, 43.0, 37.0, 50.0, 43.0, 41.0, 27.0, 35.0, 49.0, 47.0, 44.0, 40.0, 46.0, 69.0, 46.0, 63.0, 40.0, 38.0, 54.0, 44.0, 39.0, 40.0, 34.0, 33.0, 51.0, 55.0, 35.0, 50.0, 38.0, 50.0, 30.0, 30.0, 56.0, 47.0, 68.0, 42.0, 40.0, 41.0, 74.0, 46.0, 65.0, 67.0, 43.0, 58.0, 47.0, 58.0, 53.0, 53.0, 46.0, 54.0, 30.0, 66.0, 36.0, 57.0, 48.0, 43.0, 62.0, 32.0, 62.0, 87.0, 68.0, 55.0, 68.0, 51.0, 51.0, 36.0, 38.0, 71.0, 53.0, 102.0, 62.0, 46.0, 53.0, 56.0, 76.0, 55.0, 66.0, 93.0, 53.0, 49.0, 51.0, 49.0, 50.0, 46.0, 43.0, 25.0, 43.0, 36.0, 67.0, 61.0, 53.0, 38.0, 56.0, 43.0, 63.0, 48.0, 59.0, 64.0, 49.0, 47.0, 49.0, 85.0, 71.0, 45.0, 58.0, 70.0, 56.0, 57.0, 56.0, 58.0, 48.0, 66.0, 39.0, 41.0, 41.0, 52.0, 39.0, 45.0, 47.0, 37.0, 32.0, 35.0, 43.0, 58.0, 68.0, 62.0, 55.0, 43.0, 38.0, 50.0, 57.0, 53.0, 54.0, 60.0, 62.0, 46.0, 69.0, 59.0, 72.0, 81.0, 53.0, 61.0, 60.0, 82.0, 76.0, 71.0, 79.0, 79.0, 51.0, 69.0, 78.0, 101.0, 90.0, 78.0, 80.0, 68.0, 105.0, 112.0, 116.0, 103.0, 80.0, 91.0, 97.0, 147.0, 127.0, 202.0, 107.0, 106.0, 99.0, 100.0, 139.0, 114.0, 109.0, 171.0, 122.0, 147.0, 162.0, 178.0, 174.0, 250.0, 242.0, 236.0, 246.0, 246.0, 258.0, 279.0, 290.0, 310.0, 284.0, 356.0, 334.0, 404.0, 361.0, 423.0, 419.0, 403.0, 354.0, 420.0, 472.0, 530.0, 513.0, 471.0, 424.0, 465.0, 517.0, 552.0, 679.0, 639.0, 692.0, 563.0, 773.0, 719.0, 857.0, 960.0, 912.0, 1111.0, 1042.0, 1010.0, 1082.0, 963.0, 1130.0, 1272.0, 1375.0, 1131.0, 1326.0, 938.0, 1042.0, 1518.0, 1405.0, 1458.0, 1497.0, 1375.0, 1335.0, 1370.0, 1791.0, 1515.0, 1236.0, 431.0, 250.0, 115.0, 56.0, 60.0]}],\n",
              "                        {\"plot_bgcolor\": \"rgba(0, 0, 0, 0)\", \"template\": {\"data\": {\"bar\": [{\"error_x\": {\"color\": \"#2a3f5f\"}, \"error_y\": {\"color\": \"#2a3f5f\"}, \"marker\": {\"line\": {\"color\": \"#E5ECF6\", \"width\": 0.5}}, \"type\": \"bar\"}], \"barpolar\": [{\"marker\": {\"line\": {\"color\": \"#E5ECF6\", \"width\": 0.5}}, \"type\": \"barpolar\"}], \"carpet\": [{\"aaxis\": {\"endlinecolor\": \"#2a3f5f\", \"gridcolor\": \"white\", \"linecolor\": \"white\", \"minorgridcolor\": \"white\", \"startlinecolor\": \"#2a3f5f\"}, \"baxis\": {\"endlinecolor\": \"#2a3f5f\", \"gridcolor\": \"white\", \"linecolor\": \"white\", \"minorgridcolor\": \"white\", \"startlinecolor\": \"#2a3f5f\"}, \"type\": \"carpet\"}], \"choropleth\": [{\"colorbar\": {\"outlinewidth\": 0, \"ticks\": \"\"}, \"type\": \"choropleth\"}], \"contour\": [{\"colorbar\": {\"outlinewidth\": 0, \"ticks\": \"\"}, \"colorscale\": [[0.0, \"#0d0887\"], [0.1111111111111111, \"#46039f\"], [0.2222222222222222, \"#7201a8\"], [0.3333333333333333, \"#9c179e\"], [0.4444444444444444, \"#bd3786\"], [0.5555555555555556, \"#d8576b\"], [0.6666666666666666, \"#ed7953\"], [0.7777777777777778, \"#fb9f3a\"], [0.8888888888888888, \"#fdca26\"], [1.0, \"#f0f921\"]], \"type\": \"contour\"}], \"contourcarpet\": [{\"colorbar\": {\"outlinewidth\": 0, \"ticks\": \"\"}, \"type\": \"contourcarpet\"}], \"heatmap\": [{\"colorbar\": {\"outlinewidth\": 0, \"ticks\": \"\"}, \"colorscale\": [[0.0, \"#0d0887\"], [0.1111111111111111, \"#46039f\"], [0.2222222222222222, \"#7201a8\"], [0.3333333333333333, \"#9c179e\"], [0.4444444444444444, \"#bd3786\"], [0.5555555555555556, \"#d8576b\"], [0.6666666666666666, \"#ed7953\"], [0.7777777777777778, \"#fb9f3a\"], [0.8888888888888888, \"#fdca26\"], [1.0, \"#f0f921\"]], \"type\": \"heatmap\"}], \"heatmapgl\": [{\"colorbar\": {\"outlinewidth\": 0, \"ticks\": \"\"}, \"colorscale\": [[0.0, \"#0d0887\"], [0.1111111111111111, \"#46039f\"], [0.2222222222222222, \"#7201a8\"], [0.3333333333333333, \"#9c179e\"], [0.4444444444444444, \"#bd3786\"], [0.5555555555555556, \"#d8576b\"], [0.6666666666666666, \"#ed7953\"], [0.7777777777777778, \"#fb9f3a\"], [0.8888888888888888, \"#fdca26\"], [1.0, \"#f0f921\"]], \"type\": \"heatmapgl\"}], \"histogram\": [{\"marker\": {\"colorbar\": {\"outlinewidth\": 0, \"ticks\": \"\"}}, \"type\": \"histogram\"}], \"histogram2d\": [{\"colorbar\": {\"outlinewidth\": 0, \"ticks\": \"\"}, \"colorscale\": [[0.0, \"#0d0887\"], [0.1111111111111111, \"#46039f\"], [0.2222222222222222, \"#7201a8\"], [0.3333333333333333, \"#9c179e\"], [0.4444444444444444, \"#bd3786\"], [0.5555555555555556, \"#d8576b\"], [0.6666666666666666, \"#ed7953\"], [0.7777777777777778, \"#fb9f3a\"], [0.8888888888888888, \"#fdca26\"], [1.0, \"#f0f921\"]], \"type\": \"histogram2d\"}], \"histogram2dcontour\": [{\"colorbar\": {\"outlinewidth\": 0, \"ticks\": \"\"}, \"colorscale\": [[0.0, \"#0d0887\"], [0.1111111111111111, \"#46039f\"], [0.2222222222222222, \"#7201a8\"], [0.3333333333333333, \"#9c179e\"], [0.4444444444444444, \"#bd3786\"], [0.5555555555555556, \"#d8576b\"], [0.6666666666666666, \"#ed7953\"], [0.7777777777777778, \"#fb9f3a\"], [0.8888888888888888, \"#fdca26\"], [1.0, \"#f0f921\"]], \"type\": \"histogram2dcontour\"}], \"mesh3d\": [{\"colorbar\": {\"outlinewidth\": 0, \"ticks\": \"\"}, \"type\": \"mesh3d\"}], \"parcoords\": [{\"line\": {\"colorbar\": {\"outlinewidth\": 0, \"ticks\": \"\"}}, \"type\": \"parcoords\"}], \"pie\": [{\"automargin\": true, \"type\": \"pie\"}], \"scatter\": [{\"marker\": {\"colorbar\": {\"outlinewidth\": 0, \"ticks\": \"\"}}, \"type\": \"scatter\"}], \"scatter3d\": [{\"line\": {\"colorbar\": {\"outlinewidth\": 0, \"ticks\": \"\"}}, \"marker\": {\"colorbar\": {\"outlinewidth\": 0, \"ticks\": \"\"}}, \"type\": \"scatter3d\"}], \"scattercarpet\": [{\"marker\": {\"colorbar\": {\"outlinewidth\": 0, \"ticks\": \"\"}}, \"type\": \"scattercarpet\"}], \"scattergeo\": [{\"marker\": {\"colorbar\": {\"outlinewidth\": 0, \"ticks\": \"\"}}, \"type\": \"scattergeo\"}], \"scattergl\": [{\"marker\": {\"colorbar\": {\"outlinewidth\": 0, \"ticks\": \"\"}}, \"type\": \"scattergl\"}], \"scattermapbox\": [{\"marker\": {\"colorbar\": {\"outlinewidth\": 0, \"ticks\": \"\"}}, \"type\": \"scattermapbox\"}], \"scatterpolar\": [{\"marker\": {\"colorbar\": {\"outlinewidth\": 0, \"ticks\": \"\"}}, \"type\": \"scatterpolar\"}], \"scatterpolargl\": [{\"marker\": {\"colorbar\": {\"outlinewidth\": 0, \"ticks\": \"\"}}, \"type\": \"scatterpolargl\"}], \"scatterternary\": [{\"marker\": {\"colorbar\": {\"outlinewidth\": 0, \"ticks\": \"\"}}, \"type\": \"scatterternary\"}], \"surface\": [{\"colorbar\": {\"outlinewidth\": 0, \"ticks\": \"\"}, \"colorscale\": [[0.0, \"#0d0887\"], [0.1111111111111111, \"#46039f\"], [0.2222222222222222, \"#7201a8\"], [0.3333333333333333, \"#9c179e\"], [0.4444444444444444, \"#bd3786\"], [0.5555555555555556, \"#d8576b\"], [0.6666666666666666, \"#ed7953\"], [0.7777777777777778, \"#fb9f3a\"], [0.8888888888888888, \"#fdca26\"], [1.0, \"#f0f921\"]], \"type\": \"surface\"}], \"table\": [{\"cells\": {\"fill\": {\"color\": \"#EBF0F8\"}, \"line\": {\"color\": \"white\"}}, \"header\": {\"fill\": {\"color\": \"#C8D4E3\"}, \"line\": {\"color\": \"white\"}}, \"type\": \"table\"}]}, \"layout\": {\"annotationdefaults\": {\"arrowcolor\": \"#2a3f5f\", \"arrowhead\": 0, \"arrowwidth\": 1}, \"coloraxis\": {\"colorbar\": {\"outlinewidth\": 0, \"ticks\": \"\"}}, \"colorscale\": {\"diverging\": [[0, \"#8e0152\"], [0.1, \"#c51b7d\"], [0.2, \"#de77ae\"], [0.3, \"#f1b6da\"], [0.4, \"#fde0ef\"], [0.5, \"#f7f7f7\"], [0.6, \"#e6f5d0\"], [0.7, \"#b8e186\"], [0.8, \"#7fbc41\"], [0.9, \"#4d9221\"], [1, \"#276419\"]], \"sequential\": [[0.0, \"#0d0887\"], [0.1111111111111111, \"#46039f\"], [0.2222222222222222, \"#7201a8\"], [0.3333333333333333, \"#9c179e\"], [0.4444444444444444, \"#bd3786\"], [0.5555555555555556, \"#d8576b\"], [0.6666666666666666, \"#ed7953\"], [0.7777777777777778, \"#fb9f3a\"], [0.8888888888888888, \"#fdca26\"], [1.0, \"#f0f921\"]], \"sequentialminus\": [[0.0, \"#0d0887\"], [0.1111111111111111, \"#46039f\"], [0.2222222222222222, \"#7201a8\"], [0.3333333333333333, \"#9c179e\"], [0.4444444444444444, \"#bd3786\"], [0.5555555555555556, \"#d8576b\"], [0.6666666666666666, \"#ed7953\"], [0.7777777777777778, \"#fb9f3a\"], [0.8888888888888888, \"#fdca26\"], [1.0, \"#f0f921\"]]}, \"colorway\": [\"#636efa\", \"#EF553B\", \"#00cc96\", \"#ab63fa\", \"#FFA15A\", \"#19d3f3\", \"#FF6692\", \"#B6E880\", \"#FF97FF\", \"#FECB52\"], \"font\": {\"color\": \"#2a3f5f\"}, \"geo\": {\"bgcolor\": \"white\", \"lakecolor\": \"white\", \"landcolor\": \"#E5ECF6\", \"showlakes\": true, \"showland\": true, \"subunitcolor\": \"white\"}, \"hoverlabel\": {\"align\": \"left\"}, \"hovermode\": \"closest\", \"mapbox\": {\"style\": \"light\"}, \"paper_bgcolor\": \"white\", \"plot_bgcolor\": \"#E5ECF6\", \"polar\": {\"angularaxis\": {\"gridcolor\": \"white\", \"linecolor\": \"white\", \"ticks\": \"\"}, \"bgcolor\": \"#E5ECF6\", \"radialaxis\": {\"gridcolor\": \"white\", \"linecolor\": \"white\", \"ticks\": \"\"}}, \"scene\": {\"xaxis\": {\"backgroundcolor\": \"#E5ECF6\", \"gridcolor\": \"white\", \"gridwidth\": 2, \"linecolor\": \"white\", \"showbackground\": true, \"ticks\": \"\", \"zerolinecolor\": \"white\"}, \"yaxis\": {\"backgroundcolor\": \"#E5ECF6\", \"gridcolor\": \"white\", \"gridwidth\": 2, \"linecolor\": \"white\", \"showbackground\": true, \"ticks\": \"\", \"zerolinecolor\": \"white\"}, \"zaxis\": {\"backgroundcolor\": \"#E5ECF6\", \"gridcolor\": \"white\", \"gridwidth\": 2, \"linecolor\": \"white\", \"showbackground\": true, \"ticks\": \"\", \"zerolinecolor\": \"white\"}}, \"shapedefaults\": {\"line\": {\"color\": \"#2a3f5f\"}}, \"ternary\": {\"aaxis\": {\"gridcolor\": \"white\", \"linecolor\": \"white\", \"ticks\": \"\"}, \"baxis\": {\"gridcolor\": \"white\", \"linecolor\": \"white\", \"ticks\": \"\"}, \"bgcolor\": \"#E5ECF6\", \"caxis\": {\"gridcolor\": \"white\", \"linecolor\": \"white\", \"ticks\": \"\"}}, \"title\": {\"x\": 0.05}, \"xaxis\": {\"automargin\": true, \"gridcolor\": \"white\", \"linecolor\": \"white\", \"ticks\": \"\", \"title\": {\"standoff\": 15}, \"zerolinecolor\": \"white\", \"zerolinewidth\": 2}, \"yaxis\": {\"automargin\": true, \"gridcolor\": \"white\", \"linecolor\": \"white\", \"ticks\": \"\", \"title\": {\"standoff\": 15}, \"zerolinecolor\": \"white\", \"zerolinewidth\": 2}}}, \"title\": {\"font\": {\"size\": 30}, \"text\": \"Agg. Halloween Quantity by Time\"}, \"xaxis\": {\"title\": {\"text\": \"Date\"}}, \"yaxis\": {\"title\": {\"text\": \"Quantity\"}}},\n",
              "                        {\"responsive\": true}\n",
              "                    ).then(function(){\n",
              "                            \n",
              "var gd = document.getElementById('2d8a6ff2-014c-4f0f-be9c-aeafa9aa9a44');\n",
              "var x = new MutationObserver(function (mutations, observer) {{\n",
              "        var display = window.getComputedStyle(gd).display;\n",
              "        if (!display || display === 'none') {{\n",
              "            console.log([gd, 'removed!']);\n",
              "            Plotly.purge(gd);\n",
              "            observer.disconnect();\n",
              "        }}\n",
              "}});\n",
              "\n",
              "// Listen for the removal of the full notebook cells\n",
              "var notebookContainer = gd.closest('#notebook-container');\n",
              "if (notebookContainer) {{\n",
              "    x.observe(notebookContainer, {childList: true});\n",
              "}}\n",
              "\n",
              "// Listen for the clearing of the current output cell\n",
              "var outputEl = gd.closest('.output');\n",
              "if (outputEl) {{\n",
              "    x.observe(outputEl, {childList: true});\n",
              "}}\n",
              "\n",
              "                        })\n",
              "                };\n",
              "                \n",
              "            </script>\n",
              "        </div>\n",
              "</body>\n",
              "</html>"
            ]
          },
          "metadata": {}
        },
        {
          "output_type": "execute_result",
          "data": {
            "text/plain": [
              "<IPython.core.display.HTML object>"
            ]
          },
          "metadata": {},
          "execution_count": 14
        }
      ]
    },
    {
      "cell_type": "code",
      "metadata": {
        "id": "Qw0JZf8BYRPA"
      },
      "source": [
        "plt.rcParams.update({'figure.figsize':(12,8), 'figure.dpi':120})\n",
        "result = seasonal_decompose(df['y'], model='additive',freq=365)\n",
        "result.plot()\n",
        "plt.show()"
      ],
      "execution_count": null,
      "outputs": []
    },
    {
      "cell_type": "markdown",
      "metadata": {
        "id": "SYMQYnu6QtSs"
      },
      "source": [
        "# SARIMAX Model"
      ]
    },
    {
      "cell_type": "markdown",
      "metadata": {
        "id": "PWFiDX4qB33o"
      },
      "source": [
        "**SARIMA** is an acronym that stands for Seasonal AutoRegressive Integrated Moving Average. \\\n",
        "**SARIMA** is an extension of ARIMA that explicitly supports univariate time series data with a seasonal component.\n",
        "\n",
        "**S – seasonality**. \\\n",
        "**AR - Autoregression:** A model that uses the dependent relationship between observation and some number of lagged observations.\n",
        "\n",
        "$Y_t = \\beta_0 + \\beta_1 Y_{t-1} + \\beta_2 Y_{t-2} + \\beta_3 Y_{t-3} + \\beta_p Y_{t-p} + \\epsilon_t $\n",
        "\n",
        "\n",
        "**I - Integrated:** The use of differencing of raw observations (e.g. subtracting an observation from observation at the previous time step) to make the time series stationary.\n",
        "\n",
        "$Y_t' = Y_t - Y_{t-1}$          - 1st order difference\n",
        "\n",
        "$Y_t'' = Y'_t - Y'_{t-1}$          - 2nd order difference\n",
        "\n",
        "**MA - Moving Average:** A model that uses the dependency between an observation and a residual error from a moving average model applied to lagged observations.\n",
        "\n",
        "$Y_t = \\alpha_0 + \\epsilon_t + \\phi_1 \\epsilon_{t-1} + \\phi_2 \\epsilon_{t-2} + \\phi_3 \\epsilon_{t-3} + \\phi_p \\epsilon_{t-q} + \\epsilon_t $\n",
        "\n",
        "There are three trend elements that require configuration.\n",
        "They belong to the ARIMA part, specifically:\n",
        "\n",
        "- `p`: Trend autoregression order.\n",
        "- `d`: Trend difference order.\n",
        "- `q`: Trend moving average order.\n",
        "\n",
        "\n",
        "In addition, there are four seasonal elements that are not part of ARIMA that must be configured; they are:\n",
        "\n",
        "- `P`: Seasonal autoregressive order.\n",
        "- `D`: Seasonal difference order.\n",
        "- `Q`: Seasonal moving average order.\n",
        "- `m`: The number of time steps for a single seasonal period.\n",
        "\n",
        "It adds three new hyperparameters to specify the autoregression (AR), differencing (I) and moving average (MA) for the seasonal component of the series, as well as an additional parameter for the period of the seasonality."
      ]
    },
    {
      "cell_type": "code",
      "metadata": {
        "id": "CGNGLZOIKDQG"
      },
      "source": [
        "df,holidays_data = import_data('M')\n",
        "train,test = split(df)"
      ],
      "execution_count": 17,
      "outputs": []
    },
    {
      "cell_type": "markdown",
      "metadata": {
        "id": "u8OKOvscjb1u"
      },
      "source": [
        "First, I am going to check if the series is stationary using the Augmented Dickey-Fuller test, choosing a P-value threshold of 5%. \\\n",
        "The null hypothesis is the data is **not** stationary. "
      ]
    },
    {
      "cell_type": "code",
      "metadata": {
        "id": "jS4aALnUzFte"
      },
      "source": [
        "result = adfuller(train.y.dropna())\n",
        "print('ADF Statistic: %f' % result[0])\n",
        "print('p-value: %f' % result[1])"
      ],
      "execution_count": null,
      "outputs": []
    },
    {
      "cell_type": "markdown",
      "metadata": {
        "id": "DotibwmTkuC2"
      },
      "source": [
        "P-value is higher than the threshold. Therefore, we can't reject the null hypothesis, so the series is not stationary and differencing is necessary."
      ]
    },
    {
      "cell_type": "code",
      "metadata": {
        "id": "rbsSgJt5QlU3"
      },
      "source": [
        "result = adfuller(train.y.diff().dropna())\n",
        "print('ADF Statistic: %f' % result[0])\n",
        "print('p-value: %f' % result[1])"
      ],
      "execution_count": null,
      "outputs": []
    },
    {
      "cell_type": "markdown",
      "metadata": {
        "id": "Iis_Zbyel8gf"
      },
      "source": [
        "A quick look at ACF and PACF plots for the original series, first and second-order differencing."
      ]
    },
    {
      "cell_type": "code",
      "metadata": {
        "id": "UX9z2MFAzmM8"
      },
      "source": [
        "plt.rcParams.update({'figure.figsize':(14,10), 'figure.dpi':120})\n",
        "\n",
        "# Original Series\n",
        "fig, axes = plt.subplots(3, 3)\n",
        "axes[0, 0].plot(train.y); axes[0, 0].set_title('Original Series')\n",
        "plot_acf(df.y, ax=axes[0, 1], lags=30)\n",
        "plot_pacf(df.y, ax=axes[0, 2], lags=30)\n",
        "\n",
        "# 1st Differencing\n",
        "axes[1, 0].plot(train.y.diff()); axes[1, 0].set_title('1st Order Differencing')\n",
        "plot_acf(train.y.diff().dropna(), lags=30, ax=axes[1, 1])\n",
        "plot_pacf(train.y.diff().dropna(), lags=30, ax=axes[1, 2])\n",
        "\n",
        "# 2nd Differencing\n",
        "axes[2, 0].plot(train.y.diff().diff()); axes[2, 0].set_title('2nd Order Differencing')\n",
        "plot_acf(train.y.diff().diff().dropna(), lags=30, ax=axes[2, 1])\n",
        "plot_pacf(train.y.diff().diff().dropna(), lags=30, ax=axes[2, 2])\n",
        "\n",
        "plt.show()"
      ],
      "execution_count": null,
      "outputs": []
    },
    {
      "cell_type": "markdown",
      "metadata": {
        "id": "7aMZr-Osn3a9"
      },
      "source": [
        "Although the ACF\\PACF graphs help us to get intuition on what should be the order of the parameters in the model, I'm building an objective function for finding a good combination of hyperparameters (hyperparameters tuning) using Bayesian optimization on a grid search space. \\\n",
        "For that task, I'm using [Optuna](https://optuna.readthedocs.io/en/stable/index.html#) which is an automatic hyperparameter optimization package.\n",
        "\n",
        "I let the function search for 70 trails, and minimize the Mean Squared Errors (MSE) for model selection.\n",
        "\n",
        "**Note:** because we already noticed we should differencing the series, I'm forcing the \"d\" parameter to be 1."
      ]
    },
    {
      "cell_type": "code",
      "metadata": {
        "id": "Gq1mkv2sMRTk"
      },
      "source": [
        "def objective(trial):\n",
        "        \n",
        "    d = trial.suggest_int('d',1, 2)\n",
        "    p = trial.suggest_int('p',0, 6)\n",
        "    q = trial.suggest_int('q',0, 6)\n",
        "    \n",
        "    D = trial.suggest_int('D',0, 1)\n",
        "    P = trial.suggest_int('P',0, 2)\n",
        "    Q = trial.suggest_int('Q',0, 1)\n",
        "              \n",
        "    \n",
        "    model = SARIMAX(train.y,\n",
        "                  order=(p,d,q),\n",
        "                  seasonal_order=(P,D,Q,12),\n",
        "                  enforce_stationarity=False,\n",
        "                  enforce_invertibility=False,\n",
        "                  freq = 'M', \n",
        "                  maxiter=500)\n",
        "            \n",
        "    fitted = model.fit()\n",
        "    pred = fitted.predict()\n",
        "    mse = np.mean((train.y - pred)**2)\n",
        "    return mse\n",
        "\n",
        "study = optuna.create_study(direction='minimize',sampler=optuna.samplers.TPESampler(seed=1234))\n",
        "study.optimize(objective, n_trials=70)\n",
        "best_params = study.best_params\n",
        "\n",
        "print(best_params)"
      ],
      "execution_count": null,
      "outputs": []
    },
    {
      "cell_type": "markdown",
      "metadata": {
        "id": "pKMkzjRpI7dY"
      },
      "source": [
        "After we discovered the best parameters for the model, let's forecast the next two months for 2021.\\\n",
        "Then, let's plot the result and evaluate them."
      ]
    },
    {
      "cell_type": "code",
      "metadata": {
        "id": "LF9BcyA2oHJX",
        "colab": {
          "base_uri": "https://localhost:8080/",
          "height": 454
        },
        "outputId": "73f4904c-50ce-43a2-f9e5-62b82cdf254c"
      },
      "source": [
        "# Build best model\n",
        "d,p,q,D,P,Q = 1,1,1,1,1,1 #best_params.values()\n",
        "\n",
        "model = SARIMAX(train.y,order=(p,d,q), seasonal_order=(P,D,Q,12), enforce_stationarity=False, enforce_invertibility=False, freq = 'M', maxiter=500)  \n",
        "fitted = model.fit()  \n",
        "\n",
        "# Forecast (out-of-sample)\n",
        "sarima_test_pred = fitted.get_forecast(steps=2).summary_frame()\n",
        "sarima_test_pred['y'] = sarima_test_pred['mean']\n",
        "# Prediction (in-sample)\n",
        "sarima_train_pred = fitted.predict()\n",
        "\n",
        "# Make confidence interval seires\n",
        "lower_series = sarima_test_pred['mean_ci_lower']\n",
        "upper_series = sarima_test_pred['mean_ci_upper']\n",
        "\n",
        "fitted.summary()"
      ],
      "execution_count": 18,
      "outputs": [
        {
          "output_type": "execute_result",
          "data": {
            "text/html": [
              "<table class=\"simpletable\">\n",
              "<caption>Statespace Model Results</caption>\n",
              "<tr>\n",
              "  <th>Dep. Variable:</th>                  <td>y</td>               <th>  No. Observations:  </th>    <td>80</td>   \n",
              "</tr>\n",
              "<tr>\n",
              "  <th>Model:</th>           <td>SARIMAX(1, 1, 1)x(1, 1, 1, 12)</td> <th>  Log Likelihood     </th> <td>-469.052</td>\n",
              "</tr>\n",
              "<tr>\n",
              "  <th>Date:</th>                   <td>Sun, 23 Jan 2022</td>        <th>  AIC                </th>  <td>948.104</td>\n",
              "</tr>\n",
              "<tr>\n",
              "  <th>Time:</th>                       <td>10:01:16</td>            <th>  BIC                </th>  <td>957.955</td>\n",
              "</tr>\n",
              "<tr>\n",
              "  <th>Sample:</th>                    <td>01-31-2015</td>           <th>  HQIC               </th>  <td>951.892</td>\n",
              "</tr>\n",
              "<tr>\n",
              "  <th></th>                          <td>- 08-31-2021</td>          <th>                     </th>     <td> </td>   \n",
              "</tr>\n",
              "<tr>\n",
              "  <th>Covariance Type:</th>               <td>opg</td>              <th>                     </th>     <td> </td>   \n",
              "</tr>\n",
              "</table>\n",
              "<table class=\"simpletable\">\n",
              "<tr>\n",
              "      <td></td>        <th>coef</th>     <th>std err</th>      <th>z</th>      <th>P>|z|</th>  <th>[0.025</th>    <th>0.975]</th>  \n",
              "</tr>\n",
              "<tr>\n",
              "  <th>ar.L1</th>    <td>    0.1515</td> <td>    0.200</td> <td>    0.757</td> <td> 0.449</td> <td>   -0.241</td> <td>    0.544</td>\n",
              "</tr>\n",
              "<tr>\n",
              "  <th>ma.L1</th>    <td>   -1.0957</td> <td>    0.144</td> <td>   -7.598</td> <td> 0.000</td> <td>   -1.378</td> <td>   -0.813</td>\n",
              "</tr>\n",
              "<tr>\n",
              "  <th>ar.S.L12</th> <td>    0.6352</td> <td>    0.073</td> <td>    8.677</td> <td> 0.000</td> <td>    0.492</td> <td>    0.779</td>\n",
              "</tr>\n",
              "<tr>\n",
              "  <th>ma.S.L12</th> <td>    0.0319</td> <td>    0.155</td> <td>    0.205</td> <td> 0.837</td> <td>   -0.272</td> <td>    0.336</td>\n",
              "</tr>\n",
              "<tr>\n",
              "  <th>sigma2</th>   <td> 2.352e+06</td> <td> 7.61e+05</td> <td>    3.089</td> <td> 0.002</td> <td>  8.6e+05</td> <td> 3.84e+06</td>\n",
              "</tr>\n",
              "</table>\n",
              "<table class=\"simpletable\">\n",
              "<tr>\n",
              "  <th>Ljung-Box (Q):</th>          <td>27.38</td> <th>  Jarque-Bera (JB):  </th> <td>155.80</td>\n",
              "</tr>\n",
              "<tr>\n",
              "  <th>Prob(Q):</th>                <td>0.94</td>  <th>  Prob(JB):          </th>  <td>0.00</td> \n",
              "</tr>\n",
              "<tr>\n",
              "  <th>Heteroskedasticity (H):</th> <td>0.52</td>  <th>  Skew:              </th>  <td>1.24</td> \n",
              "</tr>\n",
              "<tr>\n",
              "  <th>Prob(H) (two-sided):</th>    <td>0.17</td>  <th>  Kurtosis:          </th>  <td>11.02</td>\n",
              "</tr>\n",
              "</table><br/><br/>Warnings:<br/>[1] Covariance matrix calculated using the outer product of gradients (complex-step)."
            ],
            "text/plain": [
              "<class 'statsmodels.iolib.summary.Summary'>\n",
              "\"\"\"\n",
              "                                 Statespace Model Results                                 \n",
              "==========================================================================================\n",
              "Dep. Variable:                                  y   No. Observations:                   80\n",
              "Model:             SARIMAX(1, 1, 1)x(1, 1, 1, 12)   Log Likelihood                -469.052\n",
              "Date:                            Sun, 23 Jan 2022   AIC                            948.104\n",
              "Time:                                    10:01:16   BIC                            957.955\n",
              "Sample:                                01-31-2015   HQIC                           951.892\n",
              "                                     - 08-31-2021                                         \n",
              "Covariance Type:                              opg                                         \n",
              "==============================================================================\n",
              "                 coef    std err          z      P>|z|      [0.025      0.975]\n",
              "------------------------------------------------------------------------------\n",
              "ar.L1          0.1515      0.200      0.757      0.449      -0.241       0.544\n",
              "ma.L1         -1.0957      0.144     -7.598      0.000      -1.378      -0.813\n",
              "ar.S.L12       0.6352      0.073      8.677      0.000       0.492       0.779\n",
              "ma.S.L12       0.0319      0.155      0.205      0.837      -0.272       0.336\n",
              "sigma2      2.352e+06   7.61e+05      3.089      0.002     8.6e+05    3.84e+06\n",
              "===================================================================================\n",
              "Ljung-Box (Q):                       27.38   Jarque-Bera (JB):               155.80\n",
              "Prob(Q):                              0.94   Prob(JB):                         0.00\n",
              "Heteroskedasticity (H):               0.52   Skew:                             1.24\n",
              "Prob(H) (two-sided):                  0.17   Kurtosis:                        11.02\n",
              "===================================================================================\n",
              "\n",
              "Warnings:\n",
              "[1] Covariance matrix calculated using the outer product of gradients (complex-step).\n",
              "\"\"\""
            ]
          },
          "metadata": {},
          "execution_count": 18
        }
      ]
    },
    {
      "cell_type": "code",
      "metadata": {
        "colab": {
          "base_uri": "https://localhost:8080/",
          "height": 513
        },
        "id": "O3lNhhGlXCzc",
        "outputId": "d6b80d30-ce09-4cf1-cbeb-406f1d18a777"
      },
      "source": [
        "fitted.plot_diagnostics(figsize=(10,8))\n",
        "plt.show()"
      ],
      "execution_count": 19,
      "outputs": [
        {
          "output_type": "display_data",
          "data": {
            "image/png": "[encoded data removed]",
            "text/plain": [
              "<Figure size 720x576 with 4 Axes>"
            ]
          },
          "metadata": {
            "needs_background": "light"
          }
        }
      ]
    },
    {
      "cell_type": "code",
      "metadata": {
        "colab": {
          "base_uri": "https://localhost:8080/",
          "height": 1000
        },
        "id": "EbQNDwZyTtEy",
        "outputId": "82ac44a7-2570-40d2-80f9-87d221928a11"
      },
      "source": [
        "make_graph(test_pred=sarima_test_pred.y, test=test.y, dates=test.index,\n",
        "           train_pred=sarima_train_pred, train=train, with_train=True,\n",
        "           with_boundries = True, lower_series=lower_series, upper_series=upper_series)"
      ],
      "execution_count": 20,
      "outputs": [
        {
          "output_type": "error",
          "ename": "ValueError",
          "evalue": "ignored",
          "traceback": [
            "\u001b[0;31m---------------------------------------------------------------------------\u001b[0m",
            "\u001b[0;31mValueError\u001b[0m                                Traceback (most recent call last)",
            "\u001b[0;32m<ipython-input-20-0af6b35b5bd4>\u001b[0m in \u001b[0;36m<module>\u001b[0;34m()\u001b[0m\n\u001b[1;32m      1\u001b[0m make_graph(test_pred=sarima_test_pred.y, test=test.y, dates=test.index,\n\u001b[1;32m      2\u001b[0m            \u001b[0mtrain_pred\u001b[0m\u001b[0;34m=\u001b[0m\u001b[0msarima_train_pred\u001b[0m\u001b[0;34m,\u001b[0m \u001b[0mtrain\u001b[0m\u001b[0;34m=\u001b[0m\u001b[0mtrain\u001b[0m\u001b[0;34m,\u001b[0m \u001b[0mwith_train\u001b[0m\u001b[0;34m=\u001b[0m\u001b[0;32mTrue\u001b[0m\u001b[0;34m,\u001b[0m\u001b[0;34m\u001b[0m\u001b[0;34m\u001b[0m\u001b[0m\n\u001b[0;32m----> 3\u001b[0;31m            with_boundries = True, lower_series=lower_series, upper_series=upper_series)\n\u001b[0m",
            "\u001b[0;32m<ipython-input-8-ab8984d63e5f>\u001b[0m in \u001b[0;36mmake_graph\u001b[0;34m(test_pred, test, dates, train_pred, train, with_train, with_boundries, lower_series, upper_series, for_git)\u001b[0m\n\u001b[1;32m     20\u001b[0m   \u001b[0;32mif\u001b[0m \u001b[0mfor_git\u001b[0m\u001b[0;34m:\u001b[0m\u001b[0;34m\u001b[0m\u001b[0;34m\u001b[0m\u001b[0m\n\u001b[1;32m     21\u001b[0m     \u001b[0;31m# for plotting on github\u001b[0m\u001b[0;34m\u001b[0m\u001b[0;34m\u001b[0m\u001b[0;34m\u001b[0m\u001b[0m\n\u001b[0;32m---> 22\u001b[0;31m     \u001b[0mfig\u001b[0m\u001b[0;34m.\u001b[0m\u001b[0mshow\u001b[0m\u001b[0;34m(\u001b[0m\u001b[0;34m'svg'\u001b[0m\u001b[0;34m,\u001b[0m\u001b[0mwidth\u001b[0m\u001b[0;34m=\u001b[0m\u001b[0;36m1300\u001b[0m\u001b[0;34m,\u001b[0m \u001b[0mheight\u001b[0m\u001b[0;34m=\u001b[0m\u001b[0;36m600\u001b[0m\u001b[0;34m)\u001b[0m\u001b[0;34m\u001b[0m\u001b[0;34m\u001b[0m\u001b[0m\n\u001b[0m\u001b[1;32m     23\u001b[0m   \u001b[0;31m# for interactive plot\u001b[0m\u001b[0;34m\u001b[0m\u001b[0;34m\u001b[0m\u001b[0;34m\u001b[0m\u001b[0m\n\u001b[1;32m     24\u001b[0m   \u001b[0;32melse\u001b[0m\u001b[0;34m:\u001b[0m\u001b[0;34m\u001b[0m\u001b[0;34m\u001b[0m\u001b[0m\n",
            "\u001b[0;32m/usr/local/lib/python3.7/dist-packages/plotly/basedatatypes.py\u001b[0m in \u001b[0;36mshow\u001b[0;34m(self, *args, **kwargs)\u001b[0m\n\u001b[1;32m   2792\u001b[0m         \u001b[0;32mimport\u001b[0m \u001b[0mplotly\u001b[0m\u001b[0;34m.\u001b[0m\u001b[0mio\u001b[0m \u001b[0;32mas\u001b[0m \u001b[0mpio\u001b[0m\u001b[0;34m\u001b[0m\u001b[0;34m\u001b[0m\u001b[0m\n\u001b[1;32m   2793\u001b[0m \u001b[0;34m\u001b[0m\u001b[0m\n\u001b[0;32m-> 2794\u001b[0;31m         \u001b[0;32mreturn\u001b[0m \u001b[0mpio\u001b[0m\u001b[0;34m.\u001b[0m\u001b[0mshow\u001b[0m\u001b[0;34m(\u001b[0m\u001b[0mself\u001b[0m\u001b[0;34m,\u001b[0m \u001b[0;34m*\u001b[0m\u001b[0margs\u001b[0m\u001b[0;34m,\u001b[0m \u001b[0;34m**\u001b[0m\u001b[0mkwargs\u001b[0m\u001b[0;34m)\u001b[0m\u001b[0;34m\u001b[0m\u001b[0;34m\u001b[0m\u001b[0m\n\u001b[0m\u001b[1;32m   2795\u001b[0m \u001b[0;34m\u001b[0m\u001b[0m\n\u001b[1;32m   2796\u001b[0m     \u001b[0;32mdef\u001b[0m \u001b[0mto_json\u001b[0m\u001b[0;34m(\u001b[0m\u001b[0mself\u001b[0m\u001b[0;34m,\u001b[0m \u001b[0;34m*\u001b[0m\u001b[0margs\u001b[0m\u001b[0;34m,\u001b[0m \u001b[0;34m**\u001b[0m\u001b[0mkwargs\u001b[0m\u001b[0;34m)\u001b[0m\u001b[0;34m:\u001b[0m\u001b[0;34m\u001b[0m\u001b[0;34m\u001b[0m\u001b[0m\n",
            "\u001b[0;32m/usr/local/lib/python3.7/dist-packages/plotly/io/_renderers.py\u001b[0m in \u001b[0;36mshow\u001b[0;34m(fig, renderer, validate, **kwargs)\u001b[0m\n\u001b[1;32m    374\u001b[0m \u001b[0;34m\u001b[0m\u001b[0m\n\u001b[1;32m    375\u001b[0m     \u001b[0;31m# Mimetype renderers\u001b[0m\u001b[0;34m\u001b[0m\u001b[0;34m\u001b[0m\u001b[0;34m\u001b[0m\u001b[0m\n\u001b[0;32m--> 376\u001b[0;31m     \u001b[0mbundle\u001b[0m \u001b[0;34m=\u001b[0m \u001b[0mrenderers\u001b[0m\u001b[0;34m.\u001b[0m\u001b[0m_build_mime_bundle\u001b[0m\u001b[0;34m(\u001b[0m\u001b[0mfig_dict\u001b[0m\u001b[0;34m,\u001b[0m \u001b[0mrenderers_string\u001b[0m\u001b[0;34m=\u001b[0m\u001b[0mrenderer\u001b[0m\u001b[0;34m,\u001b[0m \u001b[0;34m**\u001b[0m\u001b[0mkwargs\u001b[0m\u001b[0;34m)\u001b[0m\u001b[0;34m\u001b[0m\u001b[0;34m\u001b[0m\u001b[0m\n\u001b[0m\u001b[1;32m    377\u001b[0m     \u001b[0;32mif\u001b[0m \u001b[0mbundle\u001b[0m\u001b[0;34m:\u001b[0m\u001b[0;34m\u001b[0m\u001b[0;34m\u001b[0m\u001b[0m\n\u001b[1;32m    378\u001b[0m         \u001b[0;32mif\u001b[0m \u001b[0;32mnot\u001b[0m \u001b[0mipython_display\u001b[0m\u001b[0;34m:\u001b[0m\u001b[0;34m\u001b[0m\u001b[0;34m\u001b[0m\u001b[0m\n",
            "\u001b[0;32m/usr/local/lib/python3.7/dist-packages/plotly/io/_renderers.py\u001b[0m in \u001b[0;36m_build_mime_bundle\u001b[0;34m(self, fig_dict, renderers_string, **kwargs)\u001b[0m\n\u001b[1;32m    280\u001b[0m             \u001b[0;32mfor\u001b[0m \u001b[0mrenderer\u001b[0m \u001b[0;32min\u001b[0m \u001b[0mrenderers_list\u001b[0m\u001b[0;34m:\u001b[0m\u001b[0;34m\u001b[0m\u001b[0;34m\u001b[0m\u001b[0m\n\u001b[1;32m    281\u001b[0m                 \u001b[0;32mif\u001b[0m \u001b[0misinstance\u001b[0m\u001b[0;34m(\u001b[0m\u001b[0mrenderer\u001b[0m\u001b[0;34m,\u001b[0m \u001b[0mMimetypeRenderer\u001b[0m\u001b[0;34m)\u001b[0m\u001b[0;34m:\u001b[0m\u001b[0;34m\u001b[0m\u001b[0;34m\u001b[0m\u001b[0m\n\u001b[0;32m--> 282\u001b[0;31m                     \u001b[0mrenderer\u001b[0m\u001b[0;34m.\u001b[0m\u001b[0mactivate\u001b[0m\u001b[0;34m(\u001b[0m\u001b[0;34m)\u001b[0m\u001b[0;34m\u001b[0m\u001b[0;34m\u001b[0m\u001b[0m\n\u001b[0m\u001b[1;32m    283\u001b[0m         \u001b[0;32melse\u001b[0m\u001b[0;34m:\u001b[0m\u001b[0;34m\u001b[0m\u001b[0;34m\u001b[0m\u001b[0m\n\u001b[1;32m    284\u001b[0m             \u001b[0;31m# Activate any pending default renderers\u001b[0m\u001b[0;34m\u001b[0m\u001b[0;34m\u001b[0m\u001b[0;34m\u001b[0m\u001b[0m\n",
            "\u001b[0;32m/usr/local/lib/python3.7/dist-packages/plotly/io/_base_renderers.py\u001b[0m in \u001b[0;36mactivate\u001b[0;34m(self)\u001b[0m\n\u001b[1;32m    124\u001b[0m     \u001b[0;32mdef\u001b[0m \u001b[0mactivate\u001b[0m\u001b[0;34m(\u001b[0m\u001b[0mself\u001b[0m\u001b[0;34m)\u001b[0m\u001b[0;34m:\u001b[0m\u001b[0;34m\u001b[0m\u001b[0;34m\u001b[0m\u001b[0m\n\u001b[1;32m    125\u001b[0m         \u001b[0;31m# Start up orca server to reduce the delay on first render\u001b[0m\u001b[0;34m\u001b[0m\u001b[0;34m\u001b[0m\u001b[0;34m\u001b[0m\u001b[0m\n\u001b[0;32m--> 126\u001b[0;31m         \u001b[0mensure_server\u001b[0m\u001b[0;34m(\u001b[0m\u001b[0;34m)\u001b[0m\u001b[0;34m\u001b[0m\u001b[0;34m\u001b[0m\u001b[0m\n\u001b[0m\u001b[1;32m    127\u001b[0m \u001b[0;34m\u001b[0m\u001b[0m\n\u001b[1;32m    128\u001b[0m     \u001b[0;32mdef\u001b[0m \u001b[0mto_mimebundle\u001b[0m\u001b[0;34m(\u001b[0m\u001b[0mself\u001b[0m\u001b[0;34m,\u001b[0m \u001b[0mfig_dict\u001b[0m\u001b[0;34m)\u001b[0m\u001b[0;34m:\u001b[0m\u001b[0;34m\u001b[0m\u001b[0;34m\u001b[0m\u001b[0m\n",
            "\u001b[0;32m/usr/local/lib/python3.7/dist-packages/plotly/io/_orca.py\u001b[0m in \u001b[0;36mensure_server\u001b[0;34m()\u001b[0m\n\u001b[1;32m   1388\u001b[0m         \u001b[0;31m# Validate orca executable only if server_url is not provided\u001b[0m\u001b[0;34m\u001b[0m\u001b[0;34m\u001b[0m\u001b[0;34m\u001b[0m\u001b[0m\n\u001b[1;32m   1389\u001b[0m         \u001b[0;32mif\u001b[0m \u001b[0mstatus\u001b[0m\u001b[0;34m.\u001b[0m\u001b[0mstate\u001b[0m \u001b[0;34m==\u001b[0m \u001b[0;34m\"unvalidated\"\u001b[0m\u001b[0;34m:\u001b[0m\u001b[0;34m\u001b[0m\u001b[0;34m\u001b[0m\u001b[0m\n\u001b[0;32m-> 1390\u001b[0;31m             \u001b[0mvalidate_executable\u001b[0m\u001b[0;34m(\u001b[0m\u001b[0;34m)\u001b[0m\u001b[0;34m\u001b[0m\u001b[0;34m\u001b[0m\u001b[0m\n\u001b[0m\u001b[1;32m   1391\u001b[0m         \u001b[0;31m# Acquire lock to make sure that we keep the properties of orca_state\u001b[0m\u001b[0;34m\u001b[0m\u001b[0;34m\u001b[0m\u001b[0;34m\u001b[0m\u001b[0m\n\u001b[1;32m   1392\u001b[0m         \u001b[0;31m# consistent across threads\u001b[0m\u001b[0;34m\u001b[0m\u001b[0;34m\u001b[0m\u001b[0;34m\u001b[0m\u001b[0m\n",
            "\u001b[0;32m/usr/local/lib/python3.7/dist-packages/plotly/io/_orca.py\u001b[0m in \u001b[0;36mvalidate_executable\u001b[0;34m()\u001b[0m\n\u001b[1;32m   1085\u001b[0m                 \u001b[0mexecutable\u001b[0m\u001b[0;34m=\u001b[0m\u001b[0mconfig\u001b[0m\u001b[0;34m.\u001b[0m\u001b[0mexecutable\u001b[0m\u001b[0;34m,\u001b[0m\u001b[0;34m\u001b[0m\u001b[0;34m\u001b[0m\u001b[0m\n\u001b[1;32m   1086\u001b[0m                 \u001b[0mformatted_path\u001b[0m\u001b[0;34m=\u001b[0m\u001b[0mformatted_path\u001b[0m\u001b[0;34m,\u001b[0m\u001b[0;34m\u001b[0m\u001b[0;34m\u001b[0m\u001b[0m\n\u001b[0;32m-> 1087\u001b[0;31m                 \u001b[0minstructions\u001b[0m\u001b[0;34m=\u001b[0m\u001b[0minstall_location_instructions\u001b[0m\u001b[0;34m,\u001b[0m\u001b[0;34m\u001b[0m\u001b[0;34m\u001b[0m\u001b[0m\n\u001b[0m\u001b[1;32m   1088\u001b[0m             )\n\u001b[1;32m   1089\u001b[0m         )\n",
            "\u001b[0;31mValueError\u001b[0m: \nThe orca executable is required to export figures as static images,\nbut it could not be found on the system path.\n\nSearched for executable 'orca' on the following path:\n    /usr/local/nvidia/bin\n    /usr/local/cuda/bin\n    /usr/local/sbin\n    /usr/local/bin\n    /usr/sbin\n    /usr/bin\n    /sbin\n    /bin\n    /tools/node/bin\n    /tools/google-cloud-sdk/bin\n    /opt/bin\n\nIf you haven't installed orca yet, you can do so using conda as follows:\n\n    $ conda install -c plotly plotly-orca\n\nAlternatively, see other installation methods in the orca project README at\nhttps://github.com/plotly/orca\n\nAfter installation is complete, no further configuration should be needed.\n\nIf you have installed orca, then for some reason plotly.py was unable to\nlocate it. In this case, set the `plotly.io.orca.config.executable`\nproperty to the full path of your orca executable. For example:\n\n    >>> plotly.io.orca.config.executable = '/path/to/orca'\n\nAfter updating this executable property, try the export operation again.\nIf it is successful then you may want to save this configuration so that it\nwill be applied automatically in future sessions. You can do this as follows:\n\n    >>> plotly.io.orca.config.save()\n\nIf you're still having trouble, feel free to ask for help on the forums at\nhttps://community.plot.ly/c/api/python\n"
          ]
        }
      ]
    },
    {
      "cell_type": "code",
      "metadata": {
        "id": "kAxa81TO2U0v"
      },
      "source": [
        "temp = evaluation(sarima_test_pred.y.values,test.y.values, is_print=True)"
      ],
      "execution_count": null,
      "outputs": []
    },
    {
      "cell_type": "markdown",
      "metadata": {
        "id": "ILgxtLwUKAmZ"
      },
      "source": [
        "The predictions are in months intervals, in order to convert the into days interval, we will use the months_to_days function and assume that the distribution in 2021 will be the same as in 2020."
      ]
    },
    {
      "cell_type": "code",
      "metadata": {
        "id": "pP9kET4f42Uu"
      },
      "source": [
        "df,holidays_data = import_data(freq='D')\n",
        "train,test = split(df)\n",
        "sarima_test_pred = months_to_days(sarima_test_pred.y)"
      ],
      "execution_count": null,
      "outputs": []
    },
    {
      "cell_type": "code",
      "metadata": {
        "id": "D-VTEqfMSzAP"
      },
      "source": [
        "temp = evaluation(sarima_test_pred,test.y, is_print=True)"
      ],
      "execution_count": null,
      "outputs": []
    },
    {
      "cell_type": "code",
      "metadata": {
        "id": "oiywEGNL1QRK"
      },
      "source": [
        "make_graph(test.y,sarima_test_pred,test.index)"
      ],
      "execution_count": null,
      "outputs": []
    },
    {
      "cell_type": "markdown",
      "metadata": {
        "id": "UZv6XdgnQxC1"
      },
      "source": [
        "# GAM - Generalized  Additive Model"
      ]
    },
    {
      "cell_type": "markdown",
      "metadata": {
        "id": "QKtfxNrkIiKN"
      },
      "source": [
        "When we try to forecast 2 months ahead, in terms of daily periods it's 61 periods ahead. Forecast so deep into the future could be a difficult challenge for any type of model. This is why we should check models that don't depend on the lag variable like the autoregressive model (AR) and we can try the **Generalized additive model (GAM)** approach.\n",
        "\n",
        "I assume the demand is exogenous and it depends mainly on the proximity of the current date to the event (Halloween). Usually, people buy Halloween products as the event approaches, so this is a reasonable assumption that can be seen in the data even without prior knowledge of the business.\n",
        "\n",
        "The model is:\n",
        "\n",
        "$G(E(sales)) = \\beta_0 + f_1(Year) + f_2(Month) + f_3(Weekday) + f_4(Dist\\_ From\\_Event)$"
      ]
    },
    {
      "cell_type": "markdown",
      "metadata": {
        "id": "KUI5bfCNz1Fq"
      },
      "source": [
        "Now we import the data but this time we are using the holiday's dataset for the holiday dates (31/10 / YYY).\n",
        "Please notice we are using daily data for this model.\n",
        "\n",
        "In addition, we know the peak of the event in terms of units sold is roughly 3 days before the event itself. Therefore, we fixed the date of the event for the \"dist_from_halloween\" variable we are going to generate."
      ]
    },
    {
      "cell_type": "code",
      "metadata": {
        "id": "JzejfXCX6J8v"
      },
      "source": [
        "df,holidays_data = import_data(freq='D')"
      ],
      "execution_count": null,
      "outputs": []
    },
    {
      "cell_type": "code",
      "metadata": {
        "id": "Ai8x2iU7Tj2d"
      },
      "source": [
        "halloween = holidays_data[holidays_data['holiday'] == \"Halloween\"]\n",
        "halloween['ds'] = halloween['ds']- dt.timedelta(3) # the pick is 3 days before\n",
        "halloween['year'] = pd.DatetimeIndex(halloween['ds']).year.copy()\n",
        "halloween.reset_index(inplace=True)"
      ],
      "execution_count": null,
      "outputs": []
    },
    {
      "cell_type": "markdown",
      "metadata": {
        "id": "AVaxMMjjnzOI"
      },
      "source": [
        "Here, we create features for the model. "
      ]
    },
    {
      "cell_type": "code",
      "source": [
        "# dist_from_halloween variable\n",
        "halloween = df.merge(halloween['ds'],how='left', left_on=df.index.year, right_on=halloween['ds'].dt.year)['ds']\n",
        "df['halloween'] = halloween.values\n",
        "df['dist_from_halloween'] = (df.index - df.halloween).dt.days\n",
        "df['dist_from_halloween'].apply(lambda x: x-365 if x > 0 else x)\n",
        "\n",
        "df['ds'] = df.index\n",
        "# weekday variable\n",
        "df['weekday'] = df['ds'].dt.weekday\n",
        "\n",
        "# month variable\n",
        "df['month'] = df['ds'].dt.month\n",
        "\n",
        "# year variable\n",
        "df['year'] = df['ds'].dt.year"
      ],
      "metadata": {
        "id": "91J86NAKkVPp"
      },
      "execution_count": null,
      "outputs": []
    },
    {
      "cell_type": "code",
      "metadata": {
        "id": "GdsPrtVclfcA"
      },
      "source": [
        "train,test = split(df)\n",
        "\n",
        "## Box and Cox transformation\n",
        "train.y,lam = scipy.stats.boxcox(train.y + 1e-08) \n",
        "\n",
        "train2, val = split(train, test_date='2020-08-31')"
      ],
      "execution_count": null,
      "outputs": []
    },
    {
      "cell_type": "markdown",
      "metadata": {
        "id": "ztxPpn7jt2Vw"
      },
      "source": [
        "In this model, the hyperparameters are:\n",
        "- n_splines: The number of splines that build the variable series (high number allows the model to be more complex).\n",
        "- lam: Lambda, is the regularization parameter. restrict the model from being with too much \"wiggliness\".  "
      ]
    },
    {
      "cell_type": "code",
      "metadata": {
        "id": "xfPkdJKu-qWH"
      },
      "source": [
        "%%time\n",
        "# Hyperparameter tuning\n",
        "X, y = train2[['year','dist_from_halloween','weekday','month']].values, train2['y'].values\n",
        "\n",
        "X_val, y_val = val[['year','dist_from_halloween','weekday','month']].values, val['y'].values\n",
        "\n",
        "def objective(trial):\n",
        "\n",
        "  n_splines = trial.suggest_int('n_splines',100, 500)\n",
        "  lam = trial.suggest_float(\"lam\", 1e-3, 1e+3, log=True)\n",
        "          \n",
        "  # modeling\n",
        "  gam = LinearGAM(n_splines = n_splines).gridsearch(X, y,lam=[lam]*X.shape[1])   \n",
        "  predictions = gam.predict(val[['year','dist_from_halloween','weekday','month']].values)\n",
        "               \n",
        "  return np.mean(np.abs(val.y - predictions))\n",
        "\n",
        "study = optuna.create_study(direction='minimize', sampler=optuna.samplers.TPESampler(seed=1234))\n",
        "study.optimize(objective, n_trials=100)\n",
        "best_params = study.best_params\n",
        "print(\"Best Parameters: \",best_params)"
      ],
      "execution_count": null,
      "outputs": []
    },
    {
      "cell_type": "code",
      "metadata": {
        "id": "al7C71y92w3Z"
      },
      "source": [
        "%%time\n",
        "#best_params=  {'n_splines': 372, 'lam': 37.04068070948873}\n",
        "## Final model\n",
        "X, y = train[['year','dist_from_halloween','weekday','month']].values,train['y'].values\n",
        "gam = LinearGAM(n_splines=best_params.get('n_splines')).gridsearch(X, y,lam=[best_params.get('lam')]*X.shape[1])\n",
        "\n",
        "\n",
        "## plotting\n",
        "plt.figure();\n",
        "plt.rcParams[\"figure.figsize\"] = (27,9)\n",
        "fig, axs = plt.subplots(1,X.shape[1]);\n",
        "\n",
        "titles = ['year','dist_from_halloween','weekday','month']\n",
        "for i, ax in enumerate(axs):\n",
        "    XX = gam.generate_X_grid(term=i)\n",
        "    ax.plot(XX[:, i], gam.partial_dependence(term=i, X=XX))\n",
        "    ax.plot(XX[:, i], gam.partial_dependence(term=i, X=XX, width=.95)[1], c='r', ls='--')\n",
        "    if i == 0:\n",
        "        ax.set_ylim(-30,30)\n",
        "    ax.set_title(titles[i]);"
      ],
      "execution_count": null,
      "outputs": []
    },
    {
      "cell_type": "code",
      "metadata": {
        "id": "c7JoZYG-dxud"
      },
      "source": [
        "gam.summary()"
      ],
      "execution_count": null,
      "outputs": []
    },
    {
      "cell_type": "code",
      "metadata": {
        "id": "lr6260oc5d2q"
      },
      "source": [
        "gam_test_pred = gam.predict(test[['year','dist_from_halloween','weekday','month']].values)\n",
        "gam_train_pred = gam.predict(train[['year','dist_from_halloween','weekday','month']].values)\n",
        "\n",
        "# Inverse Box and Cox transformation\n",
        "train['y'] = scipy.special.inv_boxcox(train['y'], lam)\n",
        "gam_test_pred = scipy.special.inv_boxcox(gam_test_pred, lam)\n",
        "gam_train_pred = scipy.special.inv_boxcox(gam_train_pred, lam)\n",
        "\n",
        "pd.Series(gam_train_pred).fillna(0,inplace=True) # For NAs values"
      ],
      "execution_count": null,
      "outputs": []
    },
    {
      "cell_type": "code",
      "metadata": {
        "id": "R1sazBv2mP6m"
      },
      "source": [
        "make_graph(gam_train_pred, train.y, train.index)"
      ],
      "execution_count": null,
      "outputs": []
    },
    {
      "cell_type": "code",
      "metadata": {
        "id": "n6B7B7HznC5J"
      },
      "source": [
        "temp = evaluation(gam_train_pred,train.y, is_print=True)"
      ],
      "execution_count": null,
      "outputs": []
    },
    {
      "cell_type": "code",
      "metadata": {
        "id": "TnYyY6rtmku3"
      },
      "source": [
        "make_graph(gam_test_pred, test.y, test.index)"
      ],
      "execution_count": null,
      "outputs": []
    },
    {
      "cell_type": "code",
      "metadata": {
        "id": "BreEIyyBm4LI"
      },
      "source": [
        "temp = evaluation(gam_test_pred,test.y, is_print=True)"
      ],
      "execution_count": null,
      "outputs": []
    },
    {
      "cell_type": "markdown",
      "metadata": {
        "id": "DmHlbx3nOnM3"
      },
      "source": [
        "# Facebook Prophet Model"
      ]
    },
    {
      "cell_type": "markdown",
      "metadata": {
        "id": "PFaZamKQv57f"
      },
      "source": [
        "The next model uses the **Generalized additive model (GAM)** approach as well.\\\n",
        "[Prophet](https://facebook.github.io/prophet/) is open source software released by Facebook’s Core Data Science team.\n",
        "\n",
        "Prophet is a procedure for forecasting time series data based on an additive model where non-linear trends are fit with: yearly, weekly, and daily seasonality, plus holiday effects. \n",
        "\n",
        "It works best with time series that have strong seasonal effects and several seasons of historical data. Prophet is robust to missing data and shifts in the trend, and typically handles outliers well.\n",
        "\n",
        "At its core is the sum of three functions of time plus an error term: growth $g(t)$, seasonality $s(t)$, holidays $h(t)$ , and error $e$ :\n",
        "\n",
        "\\\n",
        "**$y(t) = g(t) + s(t) + h(t) + e$**\n",
        "\n",
        "\\\n",
        "\n",
        "The **growth function ($g(t)$)** models the overall trend of the data. The growth trend can be present at all points in the data or can be altered at what Prophet calls “changepoints” -  moments in the data where the data shifts direction.\n",
        "\n",
        "\\\n",
        "\n",
        "The **seasonality function ($s(t)$)** is a Fourier Series as a function of time:\n",
        "\n",
        "\\\n",
        "\n",
        "**$s(t) = \\sum_{n=1}^N (a_n cos (\\frac{2\\pi nt}P) + b_n sin (\\frac{2\\pi nt}P))$**\n",
        "\n",
        "\\\n",
        "\n",
        "The **holiday function ($h(t)$)** allows Facebook Prophet to adjust forecasting when a holiday or major event may change the forecast. It takes a list of dates and creates dummy variables for them and their upper/lower window dates.\n",
        "\n"
      ]
    },
    {
      "cell_type": "code",
      "metadata": {
        "id": "dfyXWtN6rJNY"
      },
      "source": [
        "# Import the data\n",
        "df,holidays_data = import_data(freq='D')\n",
        "df['ds'] = pd.to_datetime(df.index)\n",
        "holidays_data = holidays_data.loc[holidays_data['holiday']== \"Halloween\"]\n",
        "\n",
        "# Split the data into train and test sets\n",
        "train,test = split(df)\n",
        "\n",
        "# Box and Cox transformation\n",
        "train.y, lam = scipy.stats.boxcox(train.y + 1e-08) # adding small constant for days without sales\n",
        "train = train.dropna()"
      ],
      "execution_count": null,
      "outputs": []
    },
    {
      "cell_type": "code",
      "metadata": {
        "id": "sZzHq_4KRkg2"
      },
      "source": [
        "%%time\n",
        "def objective(trial):\n",
        "\n",
        "  params_grid = {  'changepoint_prior_scale' : trial.suggest_float('changepoint_prior_scale',0.01, 0.6),\n",
        "                   'holidays_prior_scale' : trial.suggest_int('holidays_prior_scale',10,100),\n",
        "                   'seasonality_prior_scale' : trial.suggest_float('seasonality_prior_scale',0.0, 50),\n",
        "                   'n_changepoints' : trial.suggest_int('n_changepoints',25, 100),\n",
        "                   'changepoint_range': trial.suggest_float('changepoint_range',0.6, 0.99),               \n",
        "                   'yearly_seasonality' : trial.suggest_int('yearly_seasonality',10,40)\n",
        "                }\n",
        "  \n",
        "  # modeling\n",
        "  m = Prophet(holidays=holidays_data,**params_grid)\n",
        "  m.fit(train) \n",
        "  cutoffs = pd.to_datetime(['2020-08-31','2019-08-31'])\n",
        "  df_cv = cross_validation(m, cutoffs=cutoffs, horizon='65 days',parallel=\"processes\")\n",
        "  df_p = performance_metrics(df_cv, rolling_window=1)\n",
        "    \n",
        "  return df_p['mae'].values[0]\n",
        "\n",
        "study = optuna.create_study(direction='minimize', sampler=optuna.samplers.TPESampler(seed=1234))\n",
        "study.optimize(objective, n_trials=100)\n",
        "best_params = study.best_params\n",
        "print(\"Best Parameters: \",best_params) "
      ],
      "execution_count": null,
      "outputs": []
    },
    {
      "cell_type": "code",
      "metadata": {
        "id": "2mKaSPLKR2QO"
      },
      "source": [
        "# Train the model     \n",
        "m = Prophet(holidays=holidays_data,**best_params)\n",
        "m.fit(train)\n",
        "future = m.make_future_dataframe(periods=365,freq='D')\n",
        "forecast = m.predict(future)  \n",
        "\n",
        "# Inverse Box and Cox transformation\n",
        "forecast[['yhat','yhat_upper','yhat_lower']] = forecast[['yhat','yhat_upper','yhat_lower']].apply(lambda x: scipy.special.inv_boxcox(x, lam))\n",
        "train['y'] = scipy.special.inv_boxcox(train['y'], lam)\n",
        "m.history['y'] = m.history['y'].apply(lambda x: scipy.special.inv_boxcox(x, lam))\n"
      ],
      "execution_count": null,
      "outputs": []
    },
    {
      "cell_type": "code",
      "metadata": {
        "id": "1rDUR08nt8uo"
      },
      "source": [
        "prophet_train_pred = forecast.loc[(forecast.ds <= '2021-08-31'),['ds','yhat']]\n",
        "prophet_test_pred = forecast.loc[(forecast.ds > '2021-08-31') & (forecast.ds <= '2021-11-01'),'yhat'].values"
      ],
      "execution_count": null,
      "outputs": []
    },
    {
      "cell_type": "code",
      "metadata": {
        "id": "EIcawl2MuFcL"
      },
      "source": [
        "make_graph(forecast.yhat[forecast.ds <= '2021-08-31'],train['y'],train['ds'])"
      ],
      "execution_count": null,
      "outputs": []
    },
    {
      "cell_type": "code",
      "metadata": {
        "id": "uQ5pZWL3uto5"
      },
      "source": [
        "temp = evaluation(prophet_train_pred.yhat.fillna(0).values,train.y.values, is_print=True)"
      ],
      "execution_count": null,
      "outputs": []
    },
    {
      "cell_type": "code",
      "metadata": {
        "id": "1eA3WmPftv2r"
      },
      "source": [
        "make_graph(prophet_test_pred,test['y'],test['ds'])"
      ],
      "execution_count": null,
      "outputs": []
    },
    {
      "cell_type": "code",
      "metadata": {
        "id": "hlFkMwsgTETK"
      },
      "source": [
        "temp = evaluation(prophet_test_pred,test.y.values, is_print=True)"
      ],
      "execution_count": null,
      "outputs": []
    },
    {
      "cell_type": "markdown",
      "metadata": {
        "id": "4ZrZIvZPi8ua"
      },
      "source": [
        "#ML Models"
      ]
    },
    {
      "cell_type": "markdown",
      "source": [
        "###**Models**\n",
        "In this Section we will use these models: \n",
        "- Linear Regression\n",
        "- Lasso\n",
        "- Ridge\n",
        "- ElasticNet\n",
        "- KNN\n",
        "- SVR\n",
        "- Decision Tree\n",
        "- Random Forest\n",
        "- XGBoost\n",
        "\n",
        "I'm using [Scikit-Learn](https://scikit-learn.org/stable/) implementation for all the models except [XGBoost](https://xgboost.readthedocs.io/en/stable/). \\\n",
        "The time interval will be in months. \n",
        "\n",
        "###**Multi-Step Ahead Forecast**\n",
        "In order to predict 2 months ahead I'm using [RegressorChain](https://scikit-learn.org/stable/modules/generated/sklearn.multioutput.RegressorChain.html) method in Scikit-Learn.\n",
        "\n",
        "Each model makes a prediction in the order specified by the chain using all of the available features provided to the model plus the predictions of models that are earlier in the chain.\n",
        "\n",
        "\n",
        "###**Hyperparameter Tuning:**\n",
        "For hyperparameter tuning I'm using [Otuna](https://optuna.org/) optimization framework, using bayesian optimization approche for hyperparameter tuning on large search grid space.  \n",
        "\n",
        "###**Cross Validation:**\n",
        "Time Series cross-validator - [TimeSeriesSplit](https://scikit-learn.org/stable/modules/generated/sklearn.model_selection.TimeSeriesSplit.html#sklearn.model_selection.TimeSeriesSplit): \n",
        "Provides train/test indices to split time series data samples that are observed at fixed time intervals, in train/test sets. In each split, test indices must be higher than before. In the kth split, it returns first k folds as train set and the (k+1)th fold as test set. "
      ],
      "metadata": {
        "id": "tZja7ExxJTT7"
      }
    },
    {
      "cell_type": "code",
      "metadata": {
        "id": "Hp0x-44OlTcz"
      },
      "source": [
        "df,holidays_data = import_data('M')"
      ],
      "execution_count": null,
      "outputs": []
    },
    {
      "cell_type": "markdown",
      "metadata": {
        "id": "7324kB19H-EZ"
      },
      "source": [
        "### Feature Engineering"
      ]
    },
    {
      "cell_type": "code",
      "metadata": {
        "id": "_abA9_wCmD5V"
      },
      "source": [
        "# Create sales growth rate features and lag varibles by shifting values by 'i' number of time periods\n",
        "look_back = 12\n",
        "df['rate'] = df['y']/df['y'].shift(1)\n",
        "for i in range(1, look_back+1):\n",
        "    label = ''.join(['rate_lag', str(i+1)])\n",
        "    df['rate '+'lag'+str(i)] = df['rate'].shift(i) \n",
        "\n",
        "# Create targets and features by shifting values by 'i' number of time periods\n",
        "look_back = 12\n",
        "for i in range(1, look_back+1):\n",
        "    label = ''.join(['y_lag', str(i+1)])\n",
        "    df['y '+'lag'+str(i)] = df['y'].shift(i) \n",
        "\n",
        "df = df.dropna()\n",
        "\n",
        "df['ds'] = df.index\n",
        "# month variable\n",
        "df['month'] = df['ds'].dt.month\n",
        "\n",
        "# year variable\n",
        "df['year'] = df['ds'].dt.year\n",
        "df.drop(columns = ['ds'], inplace=True)\n",
        "\n",
        "# One-Hot encoding for multi-category variables\n",
        "df = create_dummies(df, 'year')\n",
        "df = create_dummies(df, 'month')\n",
        "\n",
        "# Create forecast periods (t and t+1)\n",
        "df['y+1'] = df.y.shift(-1)\n",
        "df['y new'] = np.vstack((df['y'],df['y+1'])).T.tolist()\n",
        "df = df.replace(np.inf,np.nan)\n",
        "df.dropna(inplace=True)"
      ],
      "execution_count": null,
      "outputs": []
    },
    {
      "cell_type": "markdown",
      "metadata": {
        "id": "1XTvw0L6ILA2"
      },
      "source": [
        "### Split the dataset into train and test and scaling transformation"
      ]
    },
    {
      "cell_type": "code",
      "metadata": {
        "id": "uQ12e2ivB2vY"
      },
      "source": [
        "train,test = split(df)\n",
        "X_train, y_train = train[train.columns[1:-1].tolist()].values, train[train.columns[-1]].values\n",
        "X_test, y_test = test[test.columns[1:-1].tolist()].values, test[test.columns[-1]].values\n",
        "\n",
        "scaler_X = MinMaxScaler()\n",
        "scaler_y = MinMaxScaler()\n",
        "\n",
        "X_train_scaled = scaler_X.fit_transform(X_train)\n",
        "y_train_scaled = scaler_y.fit_transform(y_train.tolist())\n",
        "\n",
        "X_test_scaled = scaler_X.transform(X_test)\n",
        "y_test_scaled = scaler_y.transform(y_test.tolist())"
      ],
      "execution_count": null,
      "outputs": []
    },
    {
      "cell_type": "markdown",
      "metadata": {
        "id": "R6DTohOJIhj2"
      },
      "source": [
        "### Models"
      ]
    },
    {
      "cell_type": "code",
      "metadata": {
        "id": "98NAzeQdi8cb"
      },
      "source": [
        "# Define models\n",
        "lr = LinearRegression() \n",
        "lasso = Lasso()\n",
        "ridge = Ridge()\n",
        "elnet = ElasticNet()\n",
        "knn = KNeighborsRegressor()\n",
        "svr = SVR()                     \n",
        "dtr = DecisionTreeRegressor()\n",
        "rf = RandomForestRegressor()\n",
        "xgb = XGBRegressor(verbosity = 0)"
      ],
      "execution_count": null,
      "outputs": []
    },
    {
      "cell_type": "code",
      "metadata": {
        "id": "pSnVAV_x3lSX"
      },
      "source": [
        "models = [lr, lasso, ridge, elnet, knn, svr, dtr, rf, xgb]\n",
        "\n",
        "for model in models:\n",
        "  \n",
        "    name = model.__class__.__name__\n",
        "    time_split = TimeSeriesSplit(n_splits=15)\n",
        "    ChainRegression= RegressorChain(model, order=[0, 1]).fit(X_train_scaled, y_train_scaled)\n",
        "    result = cross_val_score(ChainRegression,X_train_scaled, y_train_scaled, scoring='neg_mean_absolute_error', cv=time_split, n_jobs=-1)\n",
        "    print(f\"{name}\\'s score: {round(-result.mean(),5)}\")"
      ],
      "execution_count": null,
      "outputs": []
    },
    {
      "cell_type": "markdown",
      "metadata": {
        "id": "By_SJOn4Ik-u"
      },
      "source": [
        "### Hyperparameter Tuning"
      ]
    },
    {
      "cell_type": "markdown",
      "metadata": {
        "id": "eHTlsZDlIvOO"
      },
      "source": [
        "#### Grid search for bayesian optimization, create objective functions"
      ]
    },
    {
      "cell_type": "code",
      "metadata": {
        "id": "FEephhIQpX9h"
      },
      "source": [
        "# Lasso Regression\n",
        "def objective_lasso(trial):\n",
        "  params_grid = {\n",
        "      'alpha': trial.suggest_float('alpha',0,1),\n",
        "      'fit_intercept' : trial.suggest_categorical('fit_intercept',[True,False])\n",
        "\n",
        "  }\n",
        "  model = Lasso(**params_grid)\n",
        "  ChainRegression = RegressorChain(model, order=[0, 1]).fit(X_train_scaled, y_train_scaled)\n",
        "  time_split = TimeSeriesSplit(n_splits=20)\n",
        "  result = cross_val_score(ChainRegression, X_train_scaled, y_train_scaled, scoring='neg_mean_absolute_error', cv=time_split, n_jobs=-1)\n",
        "    \n",
        "  return -result.mean()\n",
        "\n",
        "# Ridge Regression\n",
        "\n",
        "def objective_ridge(trial):\n",
        "  params_grid = {\n",
        "      'solver': trial.suggest_categorical('solver',['auto', 'svd', 'cholesky', 'lsqr', 'sparse_cg', 'sag', 'saga']),\n",
        "      'alpha': trial.suggest_float('alpha',0,1),\n",
        "      'fit_intercept' : trial.suggest_categorical('fit_intercept',[True,False])\n",
        "\n",
        "  }\n",
        "  model = Ridge(**params_grid)\n",
        "  ChainRegression = RegressorChain(model, order=[0, 1]).fit(X_train_scaled, y_train_scaled)\n",
        "  time_split = TimeSeriesSplit(n_splits=20)\n",
        "  result = cross_val_score(ChainRegression, X_train_scaled, y_train_scaled, scoring='neg_mean_absolute_error', cv=time_split, n_jobs=-1)\n",
        "    \n",
        "  return -result.mean()\n",
        "\n",
        "\n",
        "# ElasticNet Regression\n",
        "\n",
        "def objective_elnet(trial):\n",
        "  params_grid = {\n",
        "      'alpha': trial.suggest_float('alpha',0,1),\n",
        "      'l1_ratio': trial.suggest_float('l1_ratio',0,1),\n",
        "      'fit_intercept' : trial.suggest_categorical('fit_intercept',[True,False])\n",
        "      \n",
        "  }\n",
        "  model = ElasticNet(**params_grid)\n",
        "  ChainRegression = RegressorChain(model, order=[0, 1]).fit(X_train_scaled, y_train_scaled)\n",
        "  time_split = TimeSeriesSplit(n_splits=20)\n",
        "  result = cross_val_score(ChainRegression, X_train_scaled, y_train_scaled, scoring='neg_mean_absolute_error', cv=time_split, n_jobs=-1)\n",
        "    \n",
        "  return -result.mean()\n",
        "\n",
        "\n",
        "\n",
        "# K Nearest Neighbors\n",
        "\n",
        "def objective_knn(trial):\n",
        "  params_grid = {\n",
        "     'n_neighbors': trial.suggest_int('n_neighbors', 1, 5),\n",
        "     'weights': trial.suggest_categorical('weights', ['uniform', 'distance']),\n",
        "     'algorithm': trial.suggest_categorical('algorithm', ['ball_tree', 'kd_tree', 'brute']),\n",
        "     'leaf_size': trial.suggest_int('leaf_size', 2, 30),\n",
        "     'p': trial.suggest_int('p', 1,2)\n",
        "  }\n",
        "  model = KNeighborsRegressor(**params_grid)\n",
        "  ChainRegression = RegressorChain(model, order=[0, 1]).fit(X_train_scaled, y_train_scaled)\n",
        "  time_split = TimeSeriesSplit(n_splits=20)\n",
        "  result = cross_val_score(ChainRegression, X_train_scaled, y_train_scaled, scoring='neg_mean_absolute_error', cv=time_split, n_jobs=-1)\n",
        "    \n",
        "  return -result.mean()\n",
        "\n",
        "\n",
        "# Support Vector Regression\n",
        "\n",
        "def objective_svr(trial):\n",
        "  params_grid = {\n",
        "      'C': trial.suggest_loguniform('C', 1e-9, 1e2),\n",
        "      'gamma': trial.suggest_loguniform('gamma', 1e-9, 1e2),\n",
        "  }\n",
        "  model = SVR(kernel='rbf', **params_grid)\n",
        "  ChainRegression = RegressorChain(model, order=[0, 1]).fit(X_train_scaled, y_train_scaled)\n",
        "  time_split = TimeSeriesSplit(n_splits=20)\n",
        "  result = cross_val_score(ChainRegression, X_train_scaled, y_train_scaled, scoring='neg_mean_absolute_error', cv=time_split, n_jobs=-1)\n",
        "    \n",
        "  return -result.mean()\n",
        "\n",
        "\n",
        "# Decision Tree\n",
        "\n",
        "def objective_dtr(trial):\n",
        "  params_grid = {\n",
        "      'max_features':  trial.suggest_int('max_features',1, X_train.shape[1]),\n",
        "      'max_depth': trial.suggest_int('max_depth', 3, 10),\n",
        "      'min_samples_split': trial.suggest_float('min_samples_split', 0.01, 1.0, step=0.01)\n",
        "  }\n",
        "  model = DecisionTreeRegressor(**params_grid)\n",
        "  ChainRegression = RegressorChain(model, order=[0, 1]).fit(X_train_scaled, y_train_scaled)\n",
        "  time_split = TimeSeriesSplit(n_splits=20)\n",
        "  result = cross_val_score(ChainRegression, X_train_scaled, y_train_scaled, scoring='neg_mean_absolute_error', cv=time_split, n_jobs=-1)\n",
        "    \n",
        "  return -result.mean()\n",
        "\n",
        "\n",
        "\n",
        "# Random Forest\n",
        "\n",
        "def objective_rf(trial):\n",
        "  params_grid = {\n",
        "      'n_estimators': trial.suggest_int('n_estimators', 50, 500, step=50),\n",
        "      'max_features':  trial.suggest_int('max_features', 1, X_train.shape[1]),\n",
        "      'max_depth': trial.suggest_int('max_depth', 3, 20),\n",
        "      'min_samples_split': trial.suggest_float('min_samples_split', 0.0001, 1.0, step=0.0001),\n",
        "  }\n",
        "  model = RandomForestRegressor(**params_grid)\n",
        "  ChainRegression = RegressorChain(model, order=[0, 1]).fit(X_train_scaled, y_train_scaled)\n",
        "  time_split = TimeSeriesSplit(n_splits=20)\n",
        "  result = cross_val_score(ChainRegression, X_train_scaled, y_train_scaled, scoring='neg_mean_absolute_error', cv=time_split, n_jobs=-1)\n",
        "    \n",
        "  return -result.mean()\n",
        "\n",
        "\n",
        "\n",
        "# Xgboost\n",
        "\n",
        "def objective_xgb(trial):\n",
        "  params_grid = {\n",
        "      'learning_rate': trial.suggest_float('learning_rate', 1e-5, 5e-1, log=True),\n",
        "      'n_estimators': trial.suggest_int('n_estimators', 50, 500, step=50),\n",
        "      'eta': trial.suggest_float('eta', 5e-3, 5e-1),\n",
        "      'gamma': trial.suggest_float('gamma', 0, 10),\n",
        "      'max_depth': trial.suggest_int('max_depth', 3, 20),\n",
        "      'min_child_weight': trial.suggest_int('min_child_weight', 1, 10),\n",
        "      'colsample_bytree': trial.suggest_float('colsample_bytree', 0.5 ,1, step=0.25)\n",
        "  }\n",
        "  model = XGBRegressor(verbosity=0,**params_grid)\n",
        "  ChainRegression = RegressorChain(model, order=[0, 1]).fit(X_train_scaled, y_train_scaled)\n",
        "  time_split = TimeSeriesSplit(n_splits=20)\n",
        "  result = cross_val_score(ChainRegression, X_train_scaled, y_train_scaled, scoring='neg_mean_absolute_error', cv=time_split, n_jobs=-1)\n",
        "    \n",
        "  return -result.mean()"
      ],
      "execution_count": null,
      "outputs": []
    },
    {
      "cell_type": "code",
      "metadata": {
        "id": "zQndN8ywpX7K"
      },
      "source": [
        "%%time\n",
        "models = [lasso, ridge, elnet, knn, svr, dtr, rf, xgb]\n",
        "\n",
        "objectives = [objective_lasso, objective_ridge, objective_elnet, objective_knn, objective_svr, objective_dtr, objective_rf, objective_xgb]\n",
        "\n",
        "for model, objective in list(zip(models, objectives)):\n",
        "    name = model.__class__.__name__\n",
        "\n",
        "    study = optuna.create_study(direction='minimize', sampler=optuna.samplers.TPESampler(seed=1234))\n",
        "    study.optimize(objective, n_trials=250)\n",
        "    \n",
        "    globals()[str(name)+'_best_params'] = study.best_params\n",
        "    best_params = study.best_params\n",
        "    best_value = study.best_value\n",
        "    best_trail = study.best_trial.number\n",
        "        \n",
        "    print('Model:', name,'\\n')\n",
        "    print('Best Trial:' ,best_trail,'\\n')\n",
        "    print('Best Score: ', round(best_value, 5),'MAE.\\n')\n",
        "    print('Best Params:', best_params)\n",
        "    print('=========================================================================================================================================')\n",
        "\n"
      ],
      "execution_count": null,
      "outputs": []
    },
    {
      "cell_type": "code",
      "metadata": {
        "id": "9NnqkS5gplJ8"
      },
      "source": [
        "# Define models with the best hyperparameters\n",
        "lasso = Lasso(**Lasso_best_params)\n",
        "ridge = Ridge(**Ridge_best_params)\n",
        "elnet = ElasticNet(**ElasticNet_best_params)\n",
        "knn = KNeighborsRegressor(**KNeighborsRegressor_best_params)\n",
        "svr = SVR(**SVR_best_params)                     \n",
        "dtr = DecisionTreeRegressor(**DecisionTreeRegressor_best_params)\n",
        "rf = RandomForestRegressor(**RandomForestRegressor_best_params)\n",
        "xgb = XGBRegressor(**XGBRegressor_best_params, verbosity = 0)\n",
        "\n",
        "models = [lasso, ridge, elnet, knn, svr, dtr, rf, xgb]\n",
        "for model in models:\n",
        "  name = model.__class__.__name__\n",
        "  ChainRegression= RegressorChain(model, order=[0, 1]).fit(X_train_scaled, y_train_scaled)\n",
        "  globals()[str(name)+'_pred'] = ChainRegression.predict(X_test_scaled)\n",
        "  \n",
        "  # Inverse the scaling transformtion\n",
        "  globals()[str(name)+'_pred'] = scaler_y.inverse_transform(globals()[str(name)+'_pred'])\n",
        "  \n",
        "  # Convert the time intervals from months into days based on last year distribution using the months_to_days function I made  \n",
        "  globals()[str(name)+'_test_pred']= months_to_days(globals()[str(name)+'_pred'])\n",
        "  print('Total' ,str(name)+'_test_pred quantity:', round(globals()[str(name)+'_pred'].sum()))\n",
        "\n"
      ],
      "execution_count": null,
      "outputs": []
    },
    {
      "cell_type": "markdown",
      "metadata": {
        "id": "C-yPi4Ixsy3V"
      },
      "source": [
        "# Evaluation and Comparison"
      ]
    },
    {
      "cell_type": "markdown",
      "metadata": {
        "id": "ioeP0zUPnPcc"
      },
      "source": [
        "A quick reminder, the goal is to predict the total quantity we are going to sell in the next 2 months on the Halloween event. \\\n",
        "With that in mind, let's compare all the models' predictions for Halloween 2020 (when it was the test set) and Halloween 2021. "
      ]
    },
    {
      "cell_type": "markdown",
      "metadata": {
        "id": "bU8uaRCe3-UB"
      },
      "source": [
        "### Create The Datasets"
      ]
    },
    {
      "cell_type": "code",
      "metadata": {
        "id": "htBKZCRf4Fws"
      },
      "source": [
        "df,holidays_data = import_data('D',last_date='2021-11-01')\n",
        "\n",
        "# 2020 predicitons\n",
        "predictions = pd.DataFrame({'Prophet':prophet_test_pred,\n",
        "                              'SARIMA': sarima_test_pred,\n",
        "                              'GAM': gam_test_pred,\n",
        "                              'ElasticNet': ElasticNet_test_pred,\n",
        "                              'Lasso': Lasso_test_pred,\n",
        "                              'Ridge': Ridge_test_pred,\n",
        "                              'SVR': SVR_test_pred,\n",
        "                              'KNN': KNeighborsRegressor_test_pred, \n",
        "                              'DT': DecisionTreeRegressor_test_pred,  \n",
        "                              'RF': RandomForestRegressor_test_pred,\n",
        "                              'XGB': XGBRegressor_test_pred,                         \n",
        "                              'y':df.loc[(df.index>='2021-09-01')&(df.index<='2021-11-01'),'y'].values},\n",
        "                              index = df.loc[(df.index>='2021-09-01')&(df.index<='2021-11-01')].index)\n",
        "\n",
        "# Craete AVG varible from all the predictions. \n",
        "predictions['AVG'] = predictions.iloc[:, :-1].mean(axis=1)"
      ],
      "execution_count": null,
      "outputs": []
    },
    {
      "cell_type": "code",
      "source": [
        "predictions.head()"
      ],
      "metadata": {
        "id": "b_kedplZ5Avu"
      },
      "execution_count": null,
      "outputs": []
    },
    {
      "cell_type": "code",
      "metadata": {
        "id": "FXqw1o3U6hb7"
      },
      "source": [
        "evaluation_table = {}\n",
        "for i in predictions.columns.tolist():\n",
        "  evaluation_table[i] = evaluation(predictions[i],predictions.y)[3]\n",
        "\n",
        "evaluation_table = pd.DataFrame.from_dict(evaluation_table,'index').sort_values(by=0)\n",
        "evaluation_table.columns = ['Total Error %']"
      ],
      "execution_count": null,
      "outputs": []
    },
    {
      "cell_type": "code",
      "source": [
        "evaluation_table"
      ],
      "metadata": {
        "id": "MWSnsGFs4_ZA"
      },
      "execution_count": null,
      "outputs": []
    },
    {
      "cell_type": "code",
      "metadata": {
        "id": "VO1V176wQtt-"
      },
      "source": [
        "fig = go.Figure()\n",
        "\n",
        "fig.add_trace(go.Bar(x=evaluation_table.index,y=evaluation_table['Total Error %']))\n",
        "\n",
        "fig.update_layout(title='Quantity - Prediction Vs. Actual', title_font_size=30, xaxis_title='Date', yaxis_title='Quantity')\n",
        "\n",
        "fig.update_layout({'plot_bgcolor': 'rgba(0, 0, 0, 0)'})\n",
        "\n",
        "fig.show('svg',width=1300, height=600)"
      ],
      "execution_count": null,
      "outputs": []
    },
    {
      "cell_type": "markdown",
      "source": [
        "All the tree-based models perform the worst, SARIMA is the only model that predicts less than the actual values and the most accurate model (in terms of total error) is SVR.\n",
        "\n",
        "Gam, Lasso Prophet and SARIMA have good performance as well.\n",
        "Even though we only have data of quantities and dates, we succeeded to generate a pretty good forecast.\n",
        "\n",
        "###Future Research\n",
        "\n",
        "In order to make a more accurate and robust forecast, we can add more attributes to the dataset for making better feature engineering.\n",
        "\n",
        "We also can try to use Deep Learning models for sequential data like RNNs (LSTM, GRU, etc.) or even more complex models like Amazon DeepAR, Google TFT, N-BEATS, Wavenet, etc.\n"
      ],
      "metadata": {
        "id": "9DtSPwPeExJH"
      }
    },
    {
      "cell_type": "code",
      "source": [
        ""
      ],
      "metadata": {
        "id": "859Ixsk9X6J9"
      },
      "execution_count": null,
      "outputs": []
    }
  ]
}